{
 "cells": [
  {
   "cell_type": "markdown",
   "metadata": {},
   "source": [
    "# 地图与地理坐标可视化\n",
    "\n",
    "#### pyecharts地理图表：\n",
    "\n",
    "- Geo地理坐标系：本文重点介绍\n",
    "\n",
    "- Map地图：\n",
    "以此为基础，熟悉绘图基本步骤及各个配置项。\n",
    "\n",
    "\n",
    "参考官方文档：https://pyecharts.org/#/en-us/geography_charts"
   ]
  },
  {
   "cell_type": "markdown",
   "metadata": {},
   "source": [
    "\n",
    "### 1 点数据可视化\n",
    "\n",
    "#### Geo地理坐标系：在地图上展现商家A在不同地区的销售分布\n",
    "\n"
   ]
  },
  {
   "cell_type": "code",
   "execution_count": 2,
   "metadata": {},
   "outputs": [
    {
     "data": {
      "text/plain": [
       "'/Users/jiarong/Documents/teaching/程序设计与数据可视化/2023春程序设计与可视化/1-上课PPT/notes/week14-notes/map.html'"
      ]
     },
     "execution_count": 2,
     "metadata": {},
     "output_type": "execute_result"
    }
   ],
   "source": [
    "from pyecharts import options as opts\n",
    "from pyecharts.charts import Geo\n",
    "from pyecharts.globals import ChartType, SymbolType\n",
    "\n",
    "# 地图可视化的数据结构\n",
    "data = [['广东', 25],\n",
    " ['北京', 26],\n",
    " ['上海', 101],\n",
    " ['广西', 50],\n",
    " ['湖南', 133],\n",
    " ['浙江', 55],\n",
    " ['江苏', 146]]\n",
    "\n",
    "# 创建实例并初始化配置\n",
    "g = Geo() \n",
    "\n",
    "# .add_schema()设置地图，maptype来选择具体省市的地图，默认为china中国\n",
    "g.add_schema(maptype=\"china\")\n",
    "\n",
    "# .add()添加数据\n",
    "g.add(\"商家A\", data) \n",
    "\n",
    "#.set_series_opts()配置图元样式、文字样式、标签样式、点线样式等\n",
    "# is_show：是否显示点的数值\n",
    "g.set_series_opts(label_opts=opts.LabelOpts(is_show=True)) \n",
    "\n",
    "# .set_global_opts() 配置标题、动画、坐标轴、图例等\n",
    "# min_： 指定 visualMapPiecewise 组件的最小值\n",
    "# max_： 指定 visualMapPiecewise 组件的最大值\n",
    "# is_piecewise： 是否为分段型\n",
    "g.set_global_opts(\n",
    "            visualmap_opts=opts.VisualMapOpts(is_piecewise=False), \n",
    "            title_opts=opts.TitleOpts(title=\"商家A的销量分布\"),\n",
    "        ) \n",
    "\n",
    "# .render()将生成的地图以html格式保存\n",
    "g.render(\"map.html\") "
   ]
  },
  {
   "cell_type": "markdown",
   "metadata": {},
   "source": [
    "#### 选择上海地图进行展示"
   ]
  },
  {
   "cell_type": "code",
   "execution_count": 3,
   "metadata": {},
   "outputs": [
    {
     "data": {
      "text/plain": [
       "'/Users/jiarong/Documents/teaching/程序设计与数据可视化/2023春程序设计与可视化/1-上课PPT/notes/week14-notes/map.html'"
      ]
     },
     "execution_count": 3,
     "metadata": {},
     "output_type": "execute_result"
    }
   ],
   "source": [
    "data = [[\"杨浦\",50],[\"徐汇\",30],[\"浦东\",20],[\"闵行\",70]] # 上海不同区对应的销量数值\n",
    "\n",
    "# TODO\n"
   ]
  },
  {
   "cell_type": "markdown",
   "metadata": {},
   "source": [
    "#### Geo新增坐标点：.add_coordinate()\n",
    "\n",
    "\n",
    "<code>.add_coordinate(    \n",
    "    # 坐标地点名称    \n",
    "    name: str,     \n",
    "    # 经度    \n",
    "    longitude: Numeric,     \n",
    "    # 纬度    \n",
    "    latitude: Numeric, ) </code>"
   ]
  },
  {
   "cell_type": "code",
   "execution_count": 4,
   "metadata": {},
   "outputs": [
    {
     "data": {
      "text/plain": [
       "'/Users/jiarong/Documents/teaching/程序设计与数据可视化/2023春程序设计与可视化/1-上课PPT/notes/week14-notes/map.html'"
      ]
     },
     "execution_count": 4,
     "metadata": {},
     "output_type": "execute_result"
    }
   ],
   "source": [
    "data = [[\"杨浦\",50],[\"徐汇\",30],[\"浦东\",20],[\"闵行\",70],['复旦大学邯郸校区', 100]]\n",
    "\n",
    "g = Geo()\n",
    "g.add_schema(maptype=\"上海\")\n",
    "\n",
    "# TODO: 新增复旦大学邯郸校区坐标点，它的经度和纬度分别为 121.4941 和 31.2948\n",
    "\n",
    "\n",
    "g.add('商家A', data)\n",
    "g.set_series_opts(label_opts=opts.LabelOpts(is_show=False))\n",
    "g.set_global_opts(\n",
    "            visualmap_opts=opts.VisualMapOpts(is_piecewise=True),\n",
    "            title_opts=opts.TitleOpts(title=\"商家A的销量分布\"),\n",
    "        )\n",
    "g.render(\"map.html\")"
   ]
  },
  {
   "cell_type": "markdown",
   "metadata": {},
   "source": [
    "#### Geo 图类型，使用<code>type_: str = \"scatter\"</code>参数控制。\n",
    "\n",
    "有 <code>scatter, effectScatter, heatmap, lines</code> 4 种。\n",
    "\n",
    "<code>from pyecharts.globals import GeoType    \n",
    "GeoType.GeoType.EFFECT_SCATTER，GeoType.HEATMAP，GeoType.LINES </code>\n",
    "\n",
    "- 动态涟漪散点图 effectScatter\n",
    "- 热力图 heatmap\n",
    "- 动态轨迹图 lines"
   ]
  },
  {
   "cell_type": "code",
   "execution_count": 4,
   "metadata": {},
   "outputs": [
    {
     "data": {
      "text/plain": [
       "'/Users/jiarong/Documents/teaching/程序设计与数据可视化/2023春程序设计与可视化/1-上课PPT/notes/week14-notes/map.html'"
      ]
     },
     "execution_count": 4,
     "metadata": {},
     "output_type": "execute_result"
    }
   ],
   "source": [
    "from pyecharts.globals import GeoType\n",
    "\n",
    "g = Geo()\n",
    "g.add_schema(maptype=\"上海\")\n",
    "\n",
    "g.add_coordinate('复旦大学邯郸校区',121.4941, 31.2948) #注意这里要求经度在前维度在后\n",
    "\n",
    "data = [[\"杨浦\",50],[\"徐汇\",30],[\"浦东\",20],[\"闵行\",70],['复旦大学邯郸校区', 100]]\n",
    "\n",
    "# TODO\n",
    "\n",
    "\n",
    "g.set_series_opts(label_opts=opts.LabelOpts(is_show=False))\n",
    "g.set_global_opts(\n",
    "            visualmap_opts=opts.VisualMapOpts(is_piecewise=True),\n",
    "            title_opts=opts.TitleOpts(title=\"商家A的销量分布\"),\n",
    "        )\n",
    "g.render(\"map.html\")"
   ]
  },
  {
   "cell_type": "markdown",
   "metadata": {},
   "source": [
    "#### 课堂练习: 在上海地图上绘制各区疫情累计确诊人数分布"
   ]
  },
  {
   "cell_type": "code",
   "execution_count": 5,
   "metadata": {},
   "outputs": [
    {
     "data": {
      "text/plain": [
       "'/Users/jiarong/Documents/teaching/程序设计与数据可视化/2023春程序设计与可视化/1-上课PPT/notes/week14-notes/map.html'"
      ]
     },
     "execution_count": 5,
     "metadata": {},
     "output_type": "execute_result"
    }
   ],
   "source": [
    "covid_data = [['浦东', 14899],\n",
    " ['徐汇', 3481],\n",
    " ['黄浦', 4264],\n",
    " ['虹口', 2713],\n",
    " ['杨浦', 1589],\n",
    " ['松江', 2414],\n",
    " ['宝山', 2114],\n",
    " ['闵行', 4886],\n",
    " ['静安', 2167],\n",
    " ['崇明', 374],\n",
    " ['普陀', 1534],\n",
    " ['长宁', 1967],\n",
    " ['嘉定', 2131],\n",
    " ['金山', 319],\n",
    " ['青浦', 1043],\n",
    " ['奉贤', 223]]\n",
    "\n",
    "# TODO\n",
    "\n"
   ]
  },
  {
   "cell_type": "markdown",
   "metadata": {},
   "source": [
    "### 2 线数据可视化 "
   ]
  },
  {
   "cell_type": "code",
   "execution_count": 6,
   "metadata": {},
   "outputs": [
    {
     "data": {
      "text/plain": [
       "'/Users/jiarong/Documents/teaching/程序设计与数据可视化/2023春程序设计与可视化/1-上课PPT/notes/week14-notes/map.html'"
      ]
     },
     "execution_count": 6,
     "metadata": {},
     "output_type": "execute_result"
    }
   ],
   "source": [
    "g = Geo()\n",
    "g.add_schema(maptype=\"china\")\n",
    "g.add('', \n",
    "      [(\"广州\", \"上海\"), (\"广州\", \"北京\"), (\"广州\", \"杭州\"), (\"广州\", \"重庆\")],\n",
    "      type_=ChartType.LINES,\n",
    "      effect_opts=opts.EffectOpts(\n",
    "          symbol=SymbolType.ARROW, symbol_size=6, color=\"blue\"),\n",
    "      linestyle_opts=opts.LineStyleOpts(curve=0.2), #弯曲程度\n",
    "     )\n",
    "g.set_series_opts(label_opts=opts.LabelOpts(is_show=False))\n",
    "g.set_global_opts(\n",
    "            visualmap_opts=opts.VisualMapOpts(is_piecewise=True, max_=15000),\n",
    "            title_opts=opts.TitleOpts(title=\"航线流量分布图\"),\n",
    "        )\n",
    "g.render(\"map.html\")"
   ]
  },
  {
   "cell_type": "markdown",
   "metadata": {},
   "source": [
    "### 3 区域数据可视化 \n",
    "\n",
    "#### Map地图：在上海地图上绘制各区疫情累计确诊人数分布\n",
    "\n",
    "map的功能和geo有不少重合，区别在于可以显示地图区域块\n"
   ]
  },
  {
   "cell_type": "code",
   "execution_count": 7,
   "metadata": {},
   "outputs": [
    {
     "data": {
      "text/plain": [
       "'/Users/jiarong/Documents/teaching/程序设计与数据可视化/2023春程序设计与可视化/1-上课PPT/notes/week14-notes/map.html'"
      ]
     },
     "execution_count": 7,
     "metadata": {},
     "output_type": "execute_result"
    }
   ],
   "source": [
    "from pyecharts.charts import Map\n",
    "\n",
    "covid_data = [['浦东新区', 14899],\n",
    " ['徐汇区', 3481],\n",
    " ['黄浦区', 4264],\n",
    " ['虹口区', 2713],\n",
    " ['杨浦区', 1589],\n",
    " ['松江区', 2414],\n",
    " ['宝山区', 2114],\n",
    " ['闵行区', 4886],\n",
    " ['静安区', 2167],\n",
    " ['崇明区', 374],\n",
    " ['普陀区', 1534],\n",
    " ['长宁区', 1967],\n",
    " ['嘉定区', 2131],\n",
    " ['金山区', 319],\n",
    " ['青浦区', 1043],\n",
    " ['奉贤区', 223]]\n",
    "\n",
    "m = Map()\n",
    "\n",
    "# .add()引入地图类型的时候\n",
    "# is_map_symbol_show：是否显示标识点\n",
    "m.add(\"累计确诊人数\", covid_data, \"上海\", is_map_symbol_show=False)\n",
    "m.set_global_opts(\n",
    "            visualmap_opts=opts.VisualMapOpts(is_piecewise=True, max_=15000), \n",
    "            title_opts=opts.TitleOpts(title=\"上海各区疫情累计确诊人数分布\"),\n",
    "        )\n",
    "m.set_series_opts(label_opts=opts.LabelOpts(is_show=False)) #去掉标识\n",
    "m.render(\"map.html\")"
   ]
  },
  {
   "cell_type": "markdown",
   "metadata": {},
   "source": [
    "#### 课堂练习：画出你家乡的城市地图：\n",
    "\n",
    "1. 通过自定义坐标点，在家乡城市地图上画出你经常出现的一些场所（比如家、学校、购物广场等位置）\n",
    "\n",
    "2. 画出你某一天的轨迹（比如家->学校->健身房->某餐厅->家）"
   ]
  },
  {
   "cell_type": "code",
   "execution_count": null,
   "metadata": {},
   "outputs": [],
   "source": [
    "# TODO\n"
   ]
  }
 ],
 "metadata": {
  "kernelspec": {
   "display_name": "Python 3 (ipykernel)",
   "language": "python",
   "name": "python3"
  },
  "language_info": {
   "codemirror_mode": {
    "name": "ipython",
    "version": 3
   },
   "file_extension": ".py",
   "mimetype": "text/x-python",
   "name": "python",
   "nbconvert_exporter": "python",
   "pygments_lexer": "ipython3",
   "version": "3.9.7"
  }
 },
 "nbformat": 4,
 "nbformat_minor": 4
}
