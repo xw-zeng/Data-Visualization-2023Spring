{
 "cells": [
  {
   "cell_type": "markdown",
   "id": "40036118-354f-4826-8490-590b8371127e",
   "metadata": {},
   "source": [
    "# Text Feature Extraction\n",
    "\n",
    "*Features* are derived values from our complex data. They should measure\n",
    "certain distinctive properties of our data in order to achieve\n",
    "*dimensionality reduction*. For each observation a *feature vector* is\n",
    "created (usually with numerical or categorical values) → *Vector Space\n",
    "Model*.\n",
    "\n",
    "For linguists, these features might already be interesting. Using\n",
    "machine learning, it might be possible to detect which language a word\n",
    "comes from.\n",
    "\n",
    "**Choosing the right properties for your features greatly depends on\n",
    "want you want to analyse / which methods you want to use** → own\n",
    "discipline [\"Feature\n",
    "engineering\"](https://en.wikipedia.org/wiki/Feature_engineering)\n",
    "\n",
    "We will concentrate on *Term vector models*:\n",
    "\n",
    "-   in a corpus \\$D\\$ we have a set of \\$n\\$ *documents*\\[1\\] \\$d_1,\n",
    "    d_2, \\\\dots, d_n\\$ containing *terms*\\[2\\] \\$t\\$\n",
    "-   all unique terms in \\$D\\$ make up the *vocabulary*\n",
    "-   each document contains a feature vector \\$x\\$ of length \\$m =\n",
    "    N\\_{vocabulary}\\$\n",
    "-   a feature vector contains *weights* \\$w_i\\$ of the \\$i\\$th term of\n",
    "    the vocabulary in that document\n",
    "\n",
    "\\$M = \\\\{x_1,x_2, ..., x_n\\\\}\\$ with \\$x = \\\\{w_1, w_2, ..., w_m\\\\}\\$\n",
    "\n",
    "<span class=\"small\">\\[1\\]: Documents are the things you compare. They\n",
    "can be paragraphs, sentences, tweets, articles, etc.</span>  \n",
    "<span class=\"small\">\\[2\\]: A.k.a. tokens or words in this\n",
    "context.</span>\n",
    "\n",
    "**Consequences:**\n",
    "\n",
    "-   completely based on term weights → weights might denote \"importance\"\n",
    "    of terms in a given document\n",
    "-   term weights usually derived from term frequency\n",
    "-   does *generally* not take into account: word order,\n",
    "    grammar/syntactic structure → information how words **relate** to\n",
    "    each other in a document is **lost**\n",
    "-   useful for:\n",
    "    -   Text classification (Spam/Not Spam, categories, language)\n",
    "    -   Summarization / topic discovery\n",
    "    -   Text similarity / clustering\n",
    "-   **not** useful for:\n",
    "    -   Semantic and Sentiment Analysis\n"
   ]
  },
  {
   "cell_type": "markdown",
   "id": "26f9717f",
   "metadata": {},
   "source": [
    "## Bag-of-Words (BoW) model\n",
    "  \n",
    "  \n",
    "-   simple but powerful model\n",
    "-   features are **absolute term counts**\n",
    "-   basis for:\n",
    "    -   Topic Modeling with *Latent Dirichlet Allocation (LDA)* via\n",
    "        *Gibbs sampling*\n",
    "    -   Text classification with *Naive Bayes*, *Support Vector\n",
    "        Machines*\n",
    "    -   Document similarity\n",
    "    -   Document clustering\n",
    "    -   ...\n",
    "\n",
    "**Example:**\n",
    "\n",
    "\\\\begin{equation\\*} C = \\\\{D_1, D_2, D_3\\\\} \\\\\\\\ D_1=\\\\{simple, yet,\n",
    "beautiful, example\\\\} \\\\\\\\ D_2=\\\\{beautiful, beautiful, flower\\\\} \\\\\\\\\n",
    "D_3=\\\\{example, great, example\\\\} \\\\end{equation\\*}\n",
    "\n",
    "\\\\begin{equation\\*} vocab=\\\\{beautiful, example, flowers,\n",
    "great, simple, yet\\\\} \\\\end{equation\\*}\n",
    "\n",
    "| *document* | beautiful | example | flowers | great | simple | yet |\n",
    "|------------|-------:|----:|----------:|--------:|--------:|------:|\n",
    "| \\$D_1\\$    |         1 |       1 |       0 |     0 |      1 |   1 |  \n",
    "| \\$D_2\\$    |         2 |       0 |       1 |     0 |      0 |   0 | \n",
    "| \\$D_3\\$    |         0 |       2 |       0 |     1 |      0 |   0 |  \n",
    "\n",
    "\n",
    "### Example implementation\n",
    "-   we use a\n",
    "    [`Counter`](https://docs.python.org/3.5/library/collections.html?highlight=counter#collections.Counter)\n",
    "    to count the term frequencies in our corpus\n"
   ]
  },
  {
   "cell_type": "code",
   "execution_count": 1,
   "id": "946e2d08",
   "metadata": {},
   "outputs": [],
   "source": [
    "documents = {\n",
    "    'doc1': ['good', 'movie'],\n",
    "    'doc2': [ 'not', 'a',  'good', 'movie'],\n",
    "    'doc3': ['did', 'not', 'like'],     \n",
    "}"
   ]
  },
  {
   "cell_type": "markdown",
   "id": "9ddf33da",
   "metadata": {},
   "source": [
    "### 1. Count the tokens for each document:"
   ]
  },
  {
   "cell_type": "code",
   "execution_count": 2,
   "id": "8f522605",
   "metadata": {},
   "outputs": [
    {
     "data": {
      "text/plain": [
       "Counter({'a': 2, 'b': 1, 'c': 2})"
      ]
     },
     "execution_count": 2,
     "metadata": {},
     "output_type": "execute_result"
    }
   ],
   "source": [
    "from collections import Counter\n",
    "\n",
    "example_data = ['a', 'a', 'b', 'c', 'c']\n",
    "example_counter = Counter(example_data)\n",
    "example_counter"
   ]
  },
  {
   "cell_type": "code",
   "execution_count": 3,
   "id": "af7df694",
   "metadata": {},
   "outputs": [
    {
     "data": {
      "text/plain": [
       "{'doc1': Counter({'good': 1, 'movie': 1}),\n",
       " 'doc2': Counter({'not': 1, 'a': 1, 'good': 1, 'movie': 1}),\n",
       " 'doc3': Counter({'did': 1, 'not': 1, 'like': 1})}"
      ]
     },
     "execution_count": 3,
     "metadata": {},
     "output_type": "execute_result"
    }
   ],
   "source": [
    "counts = {doc_label: Counter(tokens) for doc_label, tokens in documents.items()}\n",
    "counts"
   ]
  },
  {
   "cell_type": "markdown",
   "id": "af6b0d49",
   "metadata": {},
   "source": [
    "### 2. extract the vocabulary (set of unique terms in all documents):"
   ]
  },
  {
   "cell_type": "code",
   "execution_count": 4,
   "id": "4cb89920",
   "metadata": {},
   "outputs": [],
   "source": [
    "def create_vocab(documents):\n",
    "    vocab = set()\n",
    "    for tokens in documents.values():\n",
    "        vocab |= set(tokens) # 并集运算\n",
    "    return vocab"
   ]
  },
  {
   "cell_type": "code",
   "execution_count": 5,
   "id": "93a21d76",
   "metadata": {},
   "outputs": [
    {
     "data": {
      "text/plain": [
       "{'a', 'did', 'good', 'like', 'movie', 'not'}"
      ]
     },
     "execution_count": 5,
     "metadata": {},
     "output_type": "execute_result"
    }
   ],
   "source": [
    "vocab = create_vocab(documents)\n",
    "vocab"
   ]
  },
  {
   "cell_type": "markdown",
   "id": "1ac4a804",
   "metadata": {},
   "source": [
    "### 3. Create the BoW matrix:"
   ]
  },
  {
   "cell_type": "markdown",
   "id": "bce200b2-49ad-4e3d-a71c-7a0241c50d65",
   "metadata": {},
   "source": [
    "Create Bag of Words matrix: rows are documents, columns are vocabulary words (unique tokens)"
   ]
  },
  {
   "cell_type": "code",
   "execution_count": 6,
   "id": "ed908b06-6934-428d-ba76-717851af6aab",
   "metadata": {},
   "outputs": [],
   "source": [
    "def create_bow(counts, vocab):\n",
    "    bow = []\n",
    "    for counter in counts.values():\n",
    "        bow.append([counter.get(term, 0) for term in vocab])\n",
    "    return bow"
   ]
  },
  {
   "cell_type": "code",
   "execution_count": 7,
   "id": "6d5bf200",
   "metadata": {},
   "outputs": [
    {
     "data": {
      "text/plain": [
       "[[0, 0, 1, 0, 0, 1], [1, 0, 1, 0, 1, 1], [1, 1, 0, 1, 0, 0]]"
      ]
     },
     "execution_count": 7,
     "metadata": {},
     "output_type": "execute_result"
    }
   ],
   "source": [
    "bow = create_bow(counts, vocab)\n",
    "bow"
   ]
  },
  {
   "cell_type": "markdown",
   "id": "672e2eb3-c303-486d-92ac-6de02d884072",
   "metadata": {},
   "source": [
    "Plot heatmap"
   ]
  },
  {
   "cell_type": "code",
   "execution_count": 8,
   "id": "9aec0c01",
   "metadata": {},
   "outputs": [],
   "source": [
    "import matplotlib.pyplot as plt\n",
    "import numpy as np\n",
    "\n",
    "def plot_heatmap(bow, xticklabels, yticklabels, title=''):\n",
    "    fig, ax = plt.subplots(figsize=(12,5))\n",
    "    im = ax.imshow(bow)\n",
    "\n",
    "    # Show all ticks and label them with the respective list entries\n",
    "    ax.set_xticks(range(len(xticklabels)))\n",
    "    ax.set_xticklabels(xticklabels)\n",
    "    ax.set_yticks(range(len(yticklabels)))\n",
    "    ax.set_yticklabels(yticklabels)\n",
    "\n",
    "    # Rotate the tick labels and set their alignment.\n",
    "    plt.setp(ax.get_xticklabels(), rotation=45, ha=\"right\", rotation_mode=\"anchor\")\n",
    "\n",
    "    # Loop over data dimensions and create text annotations.\n",
    "    threshold = 30\n",
    "    for i in range(len(yticklabels)):\n",
    "        for j in range(len(xticklabels)):\n",
    "            text = ax.text(j, i, round(bow[i][j], 2), ha=\"center\", va=\"center\", color='r')\n",
    "\n",
    "    plt.xlabel('Terms')\n",
    "    plt.ylabel('Documents')\n",
    "    plt.title(title)"
   ]
  },
  {
   "cell_type": "code",
   "execution_count": 9,
   "id": "4d69570a",
   "metadata": {},
   "outputs": [
    {
     "data": {
      "image/png": "[encoded data removed]",
      "text/plain": [
       "<Figure size 1200x500 with 1 Axes>"
      ]
     },
     "metadata": {},
     "output_type": "display_data"
    }
   ],
   "source": [
    "plot_heatmap(bow, vocab, documents.keys())"
   ]
  },
  {
   "cell_type": "markdown",
   "id": "d04e89f4-397f-456c-a922-11b3bbd5a5fb",
   "metadata": {},
   "source": [
    "With [sklearn.feature_extraction.text.CountVectorizer()](http://scikit-learn.org/stable/modules/generated/sklearn.feature_extraction.text.CountVectorizer.html):"
   ]
  },
  {
   "cell_type": "code",
   "execution_count": 10,
   "id": "21ea8142-dfd3-4bea-bc5f-bf5bf6d87275",
   "metadata": {},
   "outputs": [],
   "source": [
    "from sklearn.feature_extraction.text import CountVectorizer\n",
    "import pandas as pd\n",
    "\n",
    "texts  = ['good movie', 'not a good movie', 'did not like']\n",
    "# TODO\n"
   ]
  },
  {
   "cell_type": "markdown",
   "id": "b3a1f4e3",
   "metadata": {},
   "source": [
    "\n",
    "## n-grams<a href=\"http://dsspace.wzb.eu/pyug/text_proc_feature_extraction/#n-grams\" class=\"anchor-link\">¶</a>\n",
    "\n",
    "BoW can be used in conjuction with\n",
    "*[n-grams](https://en.wikipedia.org/wiki/N-gram)*.\n",
    "\n",
    "> an n-gram is a contiguous sequence of n items from a given sequence of\n",
    "> text or speech\n"
   ]
  },
  {
   "cell_type": "markdown",
   "id": "7a25752c-6dd7-480c-b1ae-cdf17d6586ee",
   "metadata": {},
   "source": [
    "Bigrams of our tokens:"
   ]
  },
  {
   "cell_type": "code",
   "execution_count": 11,
   "id": "428179b2",
   "metadata": {},
   "outputs": [
    {
     "data": {
      "text/plain": [
       "[('not', 'a'), ('a', 'good'), ('good', 'movie')]"
      ]
     },
     "execution_count": 11,
     "metadata": {},
     "output_type": "execute_result"
    }
   ],
   "source": [
    "from nltk import ngrams\n",
    "\n",
    "[terms for terms in ngrams(documents['doc2'], n=2)]"
   ]
  },
  {
   "cell_type": "markdown",
   "id": "08c5b670-23d7-4243-82e1-492f59247f77",
   "metadata": {},
   "source": [
    "Count the n-grams for each document"
   ]
  },
  {
   "cell_type": "code",
   "execution_count": 12,
   "id": "e340286b-aff9-4e59-b78a-f965567dab2d",
   "metadata": {},
   "outputs": [
    {
     "data": {
      "text/plain": [
       "{'doc1': ['good', 'movie', 'good movie'],\n",
       " 'doc2': ['not', 'a', 'good', 'movie', 'not a', 'a good', 'good movie'],\n",
       " 'doc3': ['did', 'not', 'like', 'did not', 'not like']}"
      ]
     },
     "execution_count": 12,
     "metadata": {},
     "output_type": "execute_result"
    }
   ],
   "source": [
    "documents_bi = {doc_label: doc_token + \n",
    "                [' '.join(terms) for terms in ngrams(doc_token, n=2)] \n",
    "                for doc_label, doc_token in documents.items()}\n",
    "documents_bi"
   ]
  },
  {
   "cell_type": "markdown",
   "id": "2cb17471-a1f7-4629-b9e3-e3ffaf92c82f",
   "metadata": {},
   "source": [
    "Create bigrams vocabulary"
   ]
  },
  {
   "cell_type": "code",
   "execution_count": 13,
   "id": "5fc55575-9235-4003-90ac-3f4877d56089",
   "metadata": {},
   "outputs": [
    {
     "data": {
      "text/plain": [
       "{'a',\n",
       " 'a good',\n",
       " 'did',\n",
       " 'did not',\n",
       " 'good',\n",
       " 'good movie',\n",
       " 'like',\n",
       " 'movie',\n",
       " 'not',\n",
       " 'not a',\n",
       " 'not like'}"
      ]
     },
     "execution_count": 13,
     "metadata": {},
     "output_type": "execute_result"
    }
   ],
   "source": [
    "vocab_bi = create_vocab(documents_bi)\n",
    "vocab_bi"
   ]
  },
  {
   "cell_type": "markdown",
   "id": "6700a038-7a22-4af6-8ee0-9bfa745724e0",
   "metadata": {},
   "source": [
    "Create bigrams matrix"
   ]
  },
  {
   "cell_type": "code",
   "execution_count": 14,
   "id": "60bf3e14",
   "metadata": {},
   "outputs": [
    {
     "data": {
      "text/plain": [
       "{'doc1': Counter({'good': 1, 'movie': 1, 'good movie': 1}),\n",
       " 'doc2': Counter({'not': 1,\n",
       "          'a': 1,\n",
       "          'good': 1,\n",
       "          'movie': 1,\n",
       "          'not a': 1,\n",
       "          'a good': 1,\n",
       "          'good movie': 1}),\n",
       " 'doc3': Counter({'did': 1, 'not': 1, 'like': 1, 'did not': 1, 'not like': 1})}"
      ]
     },
     "execution_count": 14,
     "metadata": {},
     "output_type": "execute_result"
    }
   ],
   "source": [
    "counts_bi = {doc_label: Counter(tokens) for doc_label, tokens in documents_bi.items()}\n",
    "counts_bi"
   ]
  },
  {
   "cell_type": "code",
   "execution_count": 15,
   "id": "b51de812-3d2d-4a72-8101-5531fbf451d9",
   "metadata": {},
   "outputs": [
    {
     "data": {
      "text/plain": [
       "[[0, 0, 1, 0, 0, 1, 0, 0, 0, 0, 1],\n",
       " [0, 0, 1, 1, 0, 1, 0, 1, 1, 1, 1],\n",
       " [1, 1, 0, 0, 1, 0, 1, 0, 1, 0, 0]]"
      ]
     },
     "execution_count": 15,
     "metadata": {},
     "output_type": "execute_result"
    }
   ],
   "source": [
    "bow_bi = create_bow(counts_bi, vocab_bi)\n",
    "bow_bi"
   ]
  },
  {
   "cell_type": "markdown",
   "id": "48b83222-23d1-4cdb-bab9-13d09067a80b",
   "metadata": {},
   "source": [
    "Plot heatmap"
   ]
  },
  {
   "cell_type": "code",
   "execution_count": 16,
   "id": "82b63de3-d8a5-4de5-86b0-1ae7665c7766",
   "metadata": {},
   "outputs": [
    {
     "data": {
      "image/png": "[encoded data removed]",
      "text/plain": [
       "<Figure size 1200x500 with 1 Axes>"
      ]
     },
     "metadata": {},
     "output_type": "display_data"
    }
   ],
   "source": [
    "plot_heatmap(bow_bi, vocab_bi, documents_bi.keys())"
   ]
  },
  {
   "cell_type": "markdown",
   "id": "05c3b0e4-90f6-4fd3-8953-736f8eda834e",
   "metadata": {},
   "source": [
    "# tf-idf\n",
    "\n",
    "Problem with BoW: Common words that occur often in many documents\n",
    "overshadow more specific (potentially more interesting) words → can be\n",
    "reduced with stopwords → manual effort\n",
    "\n",
    "*tf-idf* tries to decrease the weight of words that occur across many\n",
    "documents → lower the weight of common words.\n",
    "\n",
    "\\\\begin{equation\\*} tfidf(t, d, D) = tf(t, d) \\\\cdot idf(t, D)\n",
    "\\\\end{equation\\*}\n",
    "\n",
    "-   \\$tf\\$ .. term frequency – related to BoW (raw count or proportion\n",
    "    for \\$t\\$ in \\$d\\$)\n",
    "-   \\$idf\\$ .. inverse document frequency – measures how common a word\n",
    "    \\$t\\$ is across all documents in corpus \\$D\\$\n",
    "\n",
    "### tf – term frequency\n",
    "\n",
    "Better to use *relative frequencies* than absolute counts: We calculate\n",
    "the term count proportions \\$tf(t, d) = \\\\frac{f\\_{t,d}}{\\|d\\|}\\$ for a\n",
    "term \\$t\\$ in a document \\$d\\$. This prevents that documents with many\n",
    "words get higher weights than those with few words.\n"
   ]
  },
  {
   "cell_type": "markdown",
   "id": "59de8ef3-f31b-4f7f-8ae2-97e3ae7aa8f5",
   "metadata": {},
   "source": [
    "Calculate tf (We need to convert our BoW to a NumPy matrix type for easier calculation.)"
   ]
  },
  {
   "cell_type": "code",
   "execution_count": 17,
   "id": "defa842c-4380-4012-8166-fe5963b31ab7",
   "metadata": {
    "scrolled": true
   },
   "outputs": [
    {
     "data": {
      "text/plain": [
       "matrix([[0.        , 0.        , 0.33333333, 0.        , 0.        ,\n",
       "         0.33333333, 0.        , 0.        , 0.        , 0.        ,\n",
       "         0.33333333],\n",
       "        [0.        , 0.        , 0.14285714, 0.14285714, 0.        ,\n",
       "         0.14285714, 0.        , 0.14285714, 0.14285714, 0.14285714,\n",
       "         0.14285714],\n",
       "        [0.2       , 0.2       , 0.        , 0.        , 0.2       ,\n",
       "         0.        , 0.2       , 0.        , 0.2       , 0.        ,\n",
       "         0.        ]])"
      ]
     },
     "execution_count": 17,
     "metadata": {},
     "output_type": "execute_result"
    }
   ],
   "source": [
    "raw_counts = np.mat(bow_bi, dtype=float)\n",
    "tf = raw_counts / np.sum(raw_counts, axis=1)\n",
    "tf"
   ]
  },
  {
   "cell_type": "markdown",
   "id": "d36802e1-eeaf-4e41-ab03-cd1d675aea24",
   "metadata": {},
   "source": [
    "Plot heatmap"
   ]
  },
  {
   "cell_type": "code",
   "execution_count": 18,
   "id": "4b36a4f8-b03b-4df1-9740-7ab8e572e5e1",
   "metadata": {},
   "outputs": [
    {
     "data": {
      "image/png": "[encoded data removed]",
      "text/plain": [
       "<Figure size 1200x500 with 1 Axes>"
      ]
     },
     "metadata": {},
     "output_type": "display_data"
    }
   ],
   "source": [
    "plot_heatmap(tf.tolist(), vocab_bi, documents_bi.keys(), 'TF')"
   ]
  },
  {
   "cell_type": "markdown",
   "id": "9fc1cda1-5342-4f6a-8c89-b2f3bcda2dcb",
   "metadata": {
    "tags": []
   },
   "source": [
    "### idf – inverse document frequency\n",
    "\n",
    "Different [weighting schemes\n",
    "available](https://en.wikipedia.org/wiki/Tf%E2%80%93idf#Inverse_document_frequency_2).\n",
    "We use this one:\n",
    "\n",
    "\\\\begin{equation\\*} idf(t, D) = log (\\\\frac{N}{\\|d \\\\in D : t \\\\in\n",
    "d\\|})\n",
    "\\\\end{equation\\*}\n",
    "\n",
    "-   \\$t\\$ .. a term (a.k.a. token or word)\n",
    "\n",
    "-   \\$N\\$ .. number of documents in corpus \\$D\\$\n",
    "\n",
    "-   \\$\\|d \\\\in D : t \\\\in d\\|\\$ .. number of documents in which \\$t\\$\n",
    "    appears"
   ]
  },
  {
   "cell_type": "markdown",
   "id": "d699320c-1c3a-4803-94e4-2edb1da8a0df",
   "metadata": {},
   "source": [
    "Calculate the number of documents in which \\$t\\$ appears (i.e., \\$\\|d \\\\in D : t \\\\in d\\|\\$ )"
   ]
  },
  {
   "cell_type": "code",
   "execution_count": 19,
   "id": "dc4bb03e",
   "metadata": {},
   "outputs": [],
   "source": [
    "def num_terms_in_docs(t, docs):\n",
    "    return sum(t in d for d in docs.values())"
   ]
  },
  {
   "cell_type": "code",
   "execution_count": 20,
   "id": "d722c598",
   "metadata": {},
   "outputs": [
    {
     "data": {
      "text/plain": [
       "2"
      ]
     },
     "execution_count": 20,
     "metadata": {},
     "output_type": "execute_result"
    }
   ],
   "source": [
    "num_terms_in_docs('good', documents_bi) # 有'good'的文档数目"
   ]
  },
  {
   "cell_type": "markdown",
   "id": "335d211e-c250-4611-884b-80e51ad6eb79",
   "metadata": {},
   "source": [
    "Calculate idf"
   ]
  },
  {
   "cell_type": "code",
   "execution_count": 21,
   "id": "ef778597-dfc8-4521-9c31-22a43cd6d190",
   "metadata": {},
   "outputs": [],
   "source": [
    "from math import log\n",
    "\n",
    "def idf(t, docs):\n",
    "    return log(len(docs) / num_terms_in_docs(t, docs))"
   ]
  },
  {
   "cell_type": "code",
   "execution_count": 22,
   "id": "ac7eba69",
   "metadata": {},
   "outputs": [
    {
     "data": {
      "text/plain": [
       "0.4054651081081644"
      ]
     },
     "execution_count": 22,
     "metadata": {},
     "output_type": "execute_result"
    }
   ],
   "source": [
    "idf('good', documents_bi)"
   ]
  },
  {
   "cell_type": "code",
   "execution_count": 23,
   "id": "16f6635d",
   "metadata": {},
   "outputs": [
    {
     "data": {
      "text/plain": [
       "[1.0986122886681098,\n",
       " 1.0986122886681098,\n",
       " 0.4054651081081644,\n",
       " 1.0986122886681098,\n",
       " 1.0986122886681098,\n",
       " 0.4054651081081644,\n",
       " 1.0986122886681098,\n",
       " 1.0986122886681098,\n",
       " 0.4054651081081644,\n",
       " 1.0986122886681098,\n",
       " 0.4054651081081644]"
      ]
     },
     "execution_count": 23,
     "metadata": {},
     "output_type": "execute_result"
    }
   ],
   "source": [
    "idf_row = [idf(t, documents_bi) for t in vocab_bi]\n",
    "idf_row"
   ]
  },
  {
   "cell_type": "markdown",
   "id": "5a0f8a7f-def6-4bc9-8944-da9b633242d1",
   "metadata": {},
   "source": [
    "Plot heatmap"
   ]
  },
  {
   "cell_type": "code",
   "execution_count": 24,
   "id": "2c5fc942-b5d0-479c-ba01-3a77381cdef3",
   "metadata": {},
   "outputs": [
    {
     "data": {
      "image/png": "[encoded data removed]",
      "text/plain": [
       "<Figure size 1200x500 with 1 Axes>"
      ]
     },
     "metadata": {},
     "output_type": "display_data"
    }
   ],
   "source": [
    "plot_heatmap([idf_row], vocab_bi, ['doc'], 'IDF')"
   ]
  },
  {
   "cell_type": "markdown",
   "id": "5be8859d-3b9d-4a70-b1db-b07cfb0f3e88",
   "metadata": {},
   "source": [
    "### Create tfidf \n",
    "\n",
    "Create *tfidf* matrix by converting idf_row to a diagonal matrix and multiplying tf with it:"
   ]
  },
  {
   "cell_type": "code",
   "execution_count": 25,
   "id": "2236bf2a-40e9-477c-88a6-f75b9f58ed15",
   "metadata": {},
   "outputs": [
    {
     "data": {
      "text/plain": [
       "matrix([[0.        , 0.        , 0.13515504, 0.        , 0.        ,\n",
       "         0.13515504, 0.        , 0.        , 0.        , 0.        ,\n",
       "         0.13515504],\n",
       "        [0.        , 0.        , 0.05792359, 0.15694461, 0.        ,\n",
       "         0.05792359, 0.        , 0.15694461, 0.05792359, 0.15694461,\n",
       "         0.05792359],\n",
       "        [0.21972246, 0.21972246, 0.        , 0.        , 0.21972246,\n",
       "         0.        , 0.21972246, 0.        , 0.08109302, 0.        ,\n",
       "         0.        ]])"
      ]
     },
     "execution_count": 25,
     "metadata": {},
     "output_type": "execute_result"
    }
   ],
   "source": [
    "tfidf = tf * np.diag(idf_row)\n",
    "tfidf"
   ]
  },
  {
   "cell_type": "code",
   "execution_count": 26,
   "id": "ee121e82",
   "metadata": {},
   "outputs": [
    {
     "data": {
      "text/plain": [
       "matrix([[0.        , 0.        , 0.13515504, 0.        , 0.        ,\n",
       "         0.13515504, 0.        , 0.        , 0.        , 0.        ,\n",
       "         0.13515504],\n",
       "        [0.        , 0.        , 0.05792359, 0.15694461, 0.        ,\n",
       "         0.05792359, 0.        , 0.15694461, 0.05792359, 0.15694461,\n",
       "         0.05792359],\n",
       "        [0.21972246, 0.21972246, 0.        , 0.        , 0.21972246,\n",
       "         0.        , 0.21972246, 0.        , 0.08109302, 0.        ,\n",
       "         0.        ]])"
      ]
     },
     "execution_count": 26,
     "metadata": {},
     "output_type": "execute_result"
    }
   ],
   "source": [
    "np.multiply(tf, np.array(idf_row))"
   ]
  },
  {
   "cell_type": "markdown",
   "id": "09774ca4-690d-40f3-ad11-a0a81e238f28",
   "metadata": {},
   "source": [
    "Plot heatmap"
   ]
  },
  {
   "cell_type": "code",
   "execution_count": 27,
   "id": "40922709-aff1-4380-a79f-a0a687d91248",
   "metadata": {},
   "outputs": [
    {
     "data": {
      "image/png": "[encoded data removed]",
      "text/plain": [
       "<Figure size 1200x500 with 1 Axes>"
      ]
     },
     "metadata": {},
     "output_type": "display_data"
    }
   ],
   "source": [
    "plot_heatmap(tfidf.tolist(), vocab_bi, documents_bi.keys(), 'TF-IDF')"
   ]
  },
  {
   "cell_type": "markdown",
   "id": "1c99b98b-4636-4935-9399-64a4a2d97d56",
   "metadata": {},
   "source": [
    "Values in tf-idf matrix are dependent on term frequency (`tf`) and the\n",
    "inverse document frequency (`idf_mat`). Tokens that occur in many\n",
    "documents (low `idf` value) get lower individual tf-idf values."
   ]
  },
  {
   "cell_type": "markdown",
   "id": "7b851111-64c3-411d-875f-47143ee7411b",
   "metadata": {},
   "source": [
    "With [sklearn.feature_extraction.text.TfidfVectorizer()](https://scikit-learn.org/stable/modules/generated/sklearn.feature_extraction.text.TfidfVectorizer.html):"
   ]
  },
  {
   "cell_type": "code",
   "execution_count": 28,
   "id": "6e9a0589-28ca-4a25-ac2c-0899fd43d795",
   "metadata": {},
   "outputs": [
    {
     "data": {
      "text/plain": [
       "matrix([[0.5       , 0.5       , 0.5       , 0.5       ],\n",
       "        [0.        , 0.        , 0.        , 0.        ],\n",
       "        [0.        , 0.        , 0.        , 1.        ],\n",
       "        [0.57735027, 0.57735027, 0.57735027, 0.        ]])"
      ]
     },
     "execution_count": 28,
     "metadata": {},
     "output_type": "execute_result"
    }
   ],
   "source": [
    "from sklearn.feature_extraction.text import TfidfVectorizer\n",
    "\n",
    "corpus = [\n",
    "    'This is the first document.',\n",
    "    'This document is the second document.',\n",
    "    'And this is the third one.',\n",
    "    'Is this the first document?',\n",
    "]\n",
    "\n",
    "tfidf_class = TfidfVectorizer(min_df=0.5, # 希望筛选出来的term的frequency最小不少于0.5，最多不超过2\n",
    "                        max_df=2, \n",
    "                        ngram_range=(1, 2) # gram的数量为1-2个\n",
    "                       )\n",
    "features = tfidf_class.fit_transform(corpus)\n",
    "features.todense()"
   ]
  },
  {
   "cell_type": "markdown",
   "id": "789018ce-f928-4d75-89f5-b6bbf0eebbef",
   "metadata": {
    "tags": []
   },
   "source": [
    "\n",
    "## tf-idf in practice\n",
    "\n",
    "tf-idf can be used as feature matrix for:\n",
    "\n",
    "-   Topic Modeling (*Latent Semantic Indexing (LSI)*, *Non-negative\n",
    "    Matrix Factorization (NNMF), Latent Dirichlet Allocation \\[1\\]*)\n",
    "-   Document similarity\n",
    "-   Document clustering\n",
    "\n",
    "## Recommended Python packages for BoW and tf-idf\n",
    "\n",
    "-   [gensim](http://radimrehurek.com/gensim/)\n",
    "    -   [doc2bow](http://radimrehurek.com/gensim/corpora/dictionary.html#gensim.corpora.dictionary.Dictionary.doc2bow)\n",
    "    -   [TfIdfModel](http://radimrehurek.com/gensim/models/tfidfmodel.html)\n",
    "-   [scikit-learn](http://scikit-learn.org/stable/index.html)\n",
    "    -   [CountVectorizer](http://scikit-learn.org/stable/modules/generated/sklearn.feature_extraction.text.CountVectorizer.html)\n",
    "    -   [TfidfVectorizer](http://scikit-learn.org/stable/modules/generated/sklearn.feature_extraction.text.TfidfVectorizer.html#sklearn.feature_extraction.text.TfidfVectorizer)\n",
    "\n",
    "<span class=\"small\"></span>\n",
    "\n",
    "<span class=\"small\"></span>"
   ]
  }
 ],
 "metadata": {
  "kernelspec": {
   "display_name": "Python 3 (ipykernel)",
   "language": "python",
   "name": "python3"
  },
  "language_info": {
   "codemirror_mode": {
    "name": "ipython",
    "version": 3
   },
   "file_extension": ".py",
   "mimetype": "text/x-python",
   "name": "python",
   "nbconvert_exporter": "python",
   "pygments_lexer": "ipython3",
   "version": "3.9.13"
  }
 },
 "nbformat": 4,
 "nbformat_minor": 5
}
