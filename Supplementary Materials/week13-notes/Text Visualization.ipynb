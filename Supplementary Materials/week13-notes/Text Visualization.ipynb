{
 "cells": [
  {
   "cell_type": "markdown",
   "metadata": {},
   "source": [
    "# Text Visualization\n"
   ]
  },
  {
   "cell_type": "code",
   "execution_count": null,
   "metadata": {
    "tags": []
   },
   "outputs": [],
   "source": [
    "import numpy as np"
   ]
  },
  {
   "cell_type": "markdown",
   "metadata": {},
   "source": [
    "## Load 20 newsgroups dataset\n"
   ]
  },
  {
   "cell_type": "code",
   "execution_count": null,
   "metadata": {},
   "outputs": [],
   "source": [
    "import pickle as pkl\n",
    "docs_raw = pkl.load(open('20news.pkl', 'rb'))"
   ]
  },
  {
   "cell_type": "markdown",
   "metadata": {},
   "source": [
    "# WordCloud（词云） Visualization\n",
    "\n",
    "WordCloud is a technique to show which words are the most frequent among the given text. The first thing you may want to do before using any functions is check out the docstring of the function, and see all required and optional arguments.\n",
    "\n",
    "You can use the package <code>wordcloud</code> to create a WordCloud for your text:\n",
    "\n",
    "1. First, you should install the package <code>pip install wordcloud</code>\n",
    "\n",
    "2. Refer to the user document of this packge: https://amueller.github.io/word_cloud/generated/wordcloud.WordCloud.html\n",
    "\n",
    "- You can see that the only required argument for a WordCloud object is the text, while all others are optional.\n",
    "\n",
    "- So now you can combine all documents into one big text and create a big fat cloud to see which characteristics are most common in all the documents"
   ]
  },
  {
   "cell_type": "code",
   "execution_count": null,
   "metadata": {},
   "outputs": [],
   "source": [
    "from wordcloud import WordCloud\n",
    "\n",
    "# Generate a wordcloud\n",
    "wordcloud = WordCloud().generate(' '.join(docs_raw))  \n",
    "\n",
    "# Display the generated image\n",
    "wordcloud.to_image()"
   ]
  },
  {
   "cell_type": "markdown",
   "metadata": {},
   "source": [
    "Now, to make the wordcloud more clear, you can change some optional arguments of the WordCloud like stopwords, max_font_size, max_words, and background_color."
   ]
  },
  {
   "cell_type": "code",
   "execution_count": null,
   "metadata": {},
   "outputs": [],
   "source": [
    "# TODO\n"
   ]
  },
  {
   "cell_type": "markdown",
   "metadata": {},
   "source": [
    "**Generate Chinese Wordcloud:**"
   ]
  },
  {
   "cell_type": "code",
   "execution_count": null,
   "metadata": {},
   "outputs": [],
   "source": [
    "text = \"富强 民主 文明 和谐 自由 平等 公正 法治 爱国 敬业 诚信 友善\"\n",
    "\n",
    "# TODO\n"
   ]
  },
  {
   "cell_type": "markdown",
   "metadata": {},
   "source": [
    "**Create a shape for your wordcloud:**\n",
    "\n",
    "With the right mask, you can start making the wordcloud with your selected shape. Notice in the WordCloud function, there is a mask argument that takes in the transformed mask that you created above. "
   ]
  },
  {
   "cell_type": "code",
   "execution_count": null,
   "metadata": {},
   "outputs": [],
   "source": [
    "from PIL import Image\n",
    "\n",
    "# read the mask / color image \n",
    "background_image = np.array(Image.open(\"background.jpeg\"))\n",
    "\n",
    "# TODO\n"
   ]
  },
  {
   "cell_type": "markdown",
   "metadata": {},
   "source": [
    "Recolor wordcloud and show: we could give color_func=image_colors directly in the constructor\n",
    "\n"
   ]
  },
  {
   "cell_type": "code",
   "execution_count": null,
   "metadata": {},
   "outputs": [],
   "source": [
    "from wordcloud import ImageColorGenerator\n",
    "\n",
    "# TODO\n"
   ]
  },
  {
   "cell_type": "markdown",
   "metadata": {},
   "source": [
    "**Generate the Chinese Wordcloud using the following text, and create a shape for your wordcloud using \"ChinaMap.png\"**"
   ]
  },
  {
   "cell_type": "code",
   "execution_count": null,
   "metadata": {},
   "outputs": [],
   "source": [
    "import jieba\n",
    "\n",
    "text = \"核心价值观是一个国家的重要稳定器。一个民族、一个国家的核心价值观必须同自身的历史文化相契合，\\\n",
    "    同自身正在进行的奋斗相结合，同自身需要解决的时代问题相适应。可以说，社会主义核心价值观培育和践行的过程，\\\n",
    "    也是转型社会重建现代价值秩序的过程。在社会从传统向现代的转型过程中，人们的价值观念也发生了深刻的变化，\\\n",
    "    呈现出多元、多样、多变的特点。经济全球化、社会信息化的迅速发展更是强化了多元文化与价值观在同一时空中的激荡与碰撞。\\\n",
    "    面对多样化和多变性的价值观念，迫切需要培育和践行社会主义核心价值观，确立反映全国各族人民共同认同的价值观“最大公约数”，\\\n",
    "    为人们判断是非得失、做出价值选择提供价值准则，这是社会系统得以正常运转、社会秩序得以有效维护的重要途径。\"\n",
    "\n",
    "# TODO\n"
   ]
  },
  {
   "cell_type": "markdown",
   "metadata": {},
   "source": [
    " * **Online tools**: Create WorldCloud via https://wordart.com/\n"
   ]
  },
  {
   "cell_type": "markdown",
   "metadata": {},
   "source": [
    "# ThemeRiver（主题河流树）\n",
    "\n",
    "ThemeRiver is a visualization that depicts thematic changes in a collection of documents over a period of time using a river metaphor.\n",
    "\n",
    "* X-dimension: a serial unit of time\n",
    "\n",
    "* Y-dimension: the \"strength\" of a theme in the collection of documents during time x\n",
    "\n",
    "\n",
    "You can use the package <code>pyecharts</code> by <code>pip install pyecharts</code>\n",
    "\n",
    "\n",
    "Refer to:  https://github.com/pyecharts/pyecharts\n"
   ]
  },
  {
   "cell_type": "code",
   "execution_count": null,
   "metadata": {},
   "outputs": [],
   "source": [
    "import pandas as pd\n",
    "\n",
    "# Load data: toy example\n",
    "data = pd.read_csv('topic.csv')"
   ]
  },
  {
   "cell_type": "code",
   "execution_count": null,
   "metadata": {},
   "outputs": [],
   "source": [
    "data"
   ]
  },
  {
   "cell_type": "markdown",
   "metadata": {},
   "source": [
    "ThemeRiver.add() signatures\n",
    "\n",
    "add(name, data)\n",
    "* name -> list\n",
    "The chart name must be of type list, and each value in list is the kind of data.\n",
    "\n",
    "* data -> [list] / [[], []]\n",
    "Data item. In the data, each row is a \"data item\", and each column belongs to a \"dimension\". Each data item requires at least three dimensions, such as ['2015/11/08', 10, 'DQ'], respectively [time, value, type (legend name)]\n",
    "\n",
    "\n"
   ]
  },
  {
   "cell_type": "code",
   "execution_count": null,
   "metadata": {},
   "outputs": [],
   "source": [
    "from pyecharts.charts import ThemeRiver\n",
    "import pyecharts.options as opts\n",
    "\n",
    "data_list = data.values.tolist()\n",
    "series = ['主题1','主题2','主题3','主题4','主题5','主题6']\n",
    "\n",
    "# 绘制，设置类型为时间\n",
    "wc = ThemeRiver(init_opts=opts.InitOpts(height='600px'))\\\n",
    "    .add(series_name=series, data=data_list, singleaxis_opts=opts.SingleAxisOpts(type_='time'))\\\n",
    "    .render(\"theme.html\")"
   ]
  }
 ],
 "metadata": {
  "kernelspec": {
   "display_name": "Python 3 (ipykernel)",
   "language": "python",
   "name": "python3"
  },
  "language_info": {
   "codemirror_mode": {
    "name": "ipython",
    "version": 3
   },
   "file_extension": ".py",
   "mimetype": "text/x-python",
   "name": "python",
   "nbconvert_exporter": "python",
   "pygments_lexer": "ipython3",
   "version": "3.9.7"
  }
 },
 "nbformat": 4,
 "nbformat_minor": 4
}
