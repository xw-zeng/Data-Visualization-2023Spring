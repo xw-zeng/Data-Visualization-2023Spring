{
 "cells": [
  {
   "cell_type": "code",
   "execution_count": 1,
   "id": "e7878597",
   "metadata": {},
   "outputs": [],
   "source": [
    "import numpy as np\n",
    "import pandas as pd\n",
    "import matplotlib.pyplot as plt\n",
    "import matplotlib\n",
    "matplotlib.rcParams['font.family'] = 'STSong'\n",
    "import warnings\n",
    "warnings.filterwarnings('ignore')"
   ]
  },
  {
   "cell_type": "markdown",
   "id": "c4e9b7c5",
   "metadata": {},
   "source": [
    "# 1. 数据读取与预处理"
   ]
  },
  {
   "cell_type": "markdown",
   "id": "675c8ce0",
   "metadata": {},
   "source": [
    "## 1.1 数据预览"
   ]
  },
  {
   "cell_type": "markdown",
   "id": "3100b416",
   "metadata": {},
   "source": [
    "读取数据。"
   ]
  },
  {
   "cell_type": "code",
   "execution_count": 2,
   "id": "a5d43e7c",
   "metadata": {
    "scrolled": true
   },
   "outputs": [
    {
     "data": {
      "text/html": [
       "<div>\n",
       "<style scoped>\n",
       "    .dataframe tbody tr th:only-of-type {\n",
       "        vertical-align: middle;\n",
       "    }\n",
       "\n",
       "    .dataframe tbody tr th {\n",
       "        vertical-align: top;\n",
       "    }\n",
       "\n",
       "    .dataframe thead th {\n",
       "        text-align: right;\n",
       "    }\n",
       "</style>\n",
       "<table border=\"1\" class=\"dataframe\">\n",
       "  <thead>\n",
       "    <tr style=\"text-align: right;\">\n",
       "      <th></th>\n",
       "      <th>date</th>\n",
       "      <th>source</th>\n",
       "      <th>content</th>\n",
       "      <th>province</th>\n",
       "      <th>user_0</th>\n",
       "      <th>user_1</th>\n",
       "      <th>user_2</th>\n",
       "      <th>user_3</th>\n",
       "      <th>user_4</th>\n",
       "      <th>user_5</th>\n",
       "      <th>...</th>\n",
       "      <th>user_9</th>\n",
       "      <th>user_10</th>\n",
       "      <th>user_11</th>\n",
       "      <th>user_12</th>\n",
       "      <th>user_13</th>\n",
       "      <th>user_14</th>\n",
       "      <th>user_15</th>\n",
       "      <th>user_16</th>\n",
       "      <th>user_17</th>\n",
       "      <th>like</th>\n",
       "    </tr>\n",
       "  </thead>\n",
       "  <tbody>\n",
       "    <tr>\n",
       "      <th>0</th>\n",
       "      <td>2022-02-18</td>\n",
       "      <td>北京日报客户端</td>\n",
       "      <td>有人从香港游泳偷渡到深圳湾被捕？假的！系轻生被救！</td>\n",
       "      <td>广东</td>\n",
       "      <td>0</td>\n",
       "      <td>0</td>\n",
       "      <td>0</td>\n",
       "      <td>0</td>\n",
       "      <td>0</td>\n",
       "      <td>0</td>\n",
       "      <td>...</td>\n",
       "      <td>0</td>\n",
       "      <td>0</td>\n",
       "      <td>0</td>\n",
       "      <td>0</td>\n",
       "      <td>0</td>\n",
       "      <td>0</td>\n",
       "      <td>0</td>\n",
       "      <td>0</td>\n",
       "      <td>0</td>\n",
       "      <td>0</td>\n",
       "    </tr>\n",
       "    <tr>\n",
       "      <th>1</th>\n",
       "      <td>2022-02-18</td>\n",
       "      <td>大河报、羊城晚报</td>\n",
       "      <td>近日，社交媒体上一则题为“河南一位老爷爷考上清华大学被顶替”的消息引发网友关注和转发。消息...</td>\n",
       "      <td>河南</td>\n",
       "      <td>0</td>\n",
       "      <td>0</td>\n",
       "      <td>0</td>\n",
       "      <td>0</td>\n",
       "      <td>0</td>\n",
       "      <td>1</td>\n",
       "      <td>...</td>\n",
       "      <td>0</td>\n",
       "      <td>0</td>\n",
       "      <td>0</td>\n",
       "      <td>0</td>\n",
       "      <td>0</td>\n",
       "      <td>0</td>\n",
       "      <td>0</td>\n",
       "      <td>0</td>\n",
       "      <td>0</td>\n",
       "      <td>41</td>\n",
       "    </tr>\n",
       "    <tr>\n",
       "      <th>2</th>\n",
       "      <td>2022-02-17</td>\n",
       "      <td>南方都市报、大众网</td>\n",
       "      <td>近日，网传湖南衡阳“南岳衡山寺庙”高薪招聘住持，月薪高达5万元，弹性工作制，下班后原则上不...</td>\n",
       "      <td>湖南</td>\n",
       "      <td>0</td>\n",
       "      <td>0</td>\n",
       "      <td>0</td>\n",
       "      <td>0</td>\n",
       "      <td>0</td>\n",
       "      <td>0</td>\n",
       "      <td>...</td>\n",
       "      <td>0</td>\n",
       "      <td>0</td>\n",
       "      <td>0</td>\n",
       "      <td>0</td>\n",
       "      <td>0</td>\n",
       "      <td>0</td>\n",
       "      <td>1</td>\n",
       "      <td>0</td>\n",
       "      <td>0</td>\n",
       "      <td>26</td>\n",
       "    </tr>\n",
       "  </tbody>\n",
       "</table>\n",
       "<p>3 rows × 23 columns</p>\n",
       "</div>"
      ],
      "text/plain": [
       "        date     source                                            content  \\\n",
       "0 2022-02-18    北京日报客户端                          有人从香港游泳偷渡到深圳湾被捕？假的！系轻生被救！   \n",
       "1 2022-02-18   大河报、羊城晚报   近日，社交媒体上一则题为“河南一位老爷爷考上清华大学被顶替”的消息引发网友关注和转发。消息...   \n",
       "2 2022-02-17  南方都市报、大众网   近日，网传湖南衡阳“南岳衡山寺庙”高薪招聘住持，月薪高达5万元，弹性工作制，下班后原则上不...   \n",
       "\n",
       "  province  user_0  user_1  user_2  user_3  user_4  user_5  ...  user_9  \\\n",
       "0       广东       0       0       0       0       0       0  ...       0   \n",
       "1       河南       0       0       0       0       0       1  ...       0   \n",
       "2       湖南       0       0       0       0       0       0  ...       0   \n",
       "\n",
       "   user_10  user_11  user_12  user_13  user_14  user_15  user_16  user_17  \\\n",
       "0        0        0        0        0        0        0        0        0   \n",
       "1        0        0        0        0        0        0        0        0   \n",
       "2        0        0        0        0        0        1        0        0   \n",
       "\n",
       "   like  \n",
       "0     0  \n",
       "1    41  \n",
       "2    26  \n",
       "\n",
       "[3 rows x 23 columns]"
      ]
     },
     "execution_count": 2,
     "metadata": {},
     "output_type": "execute_result"
    }
   ],
   "source": [
    "df = pd.read_csv('data/rumor_data.csv', index_col=0, parse_dates=['date'])\n",
    "df.head(3)"
   ]
  },
  {
   "cell_type": "markdown",
   "id": "a9bf1db4",
   "metadata": {},
   "source": [
    "数据形状。"
   ]
  },
  {
   "cell_type": "code",
   "execution_count": 3,
   "id": "9e9f500a",
   "metadata": {},
   "outputs": [
    {
     "data": {
      "text/plain": [
       "(366, 23)"
      ]
     },
     "execution_count": 3,
     "metadata": {},
     "output_type": "execute_result"
    }
   ],
   "source": [
    "df.shape"
   ]
  },
  {
   "cell_type": "markdown",
   "id": "c55126b9",
   "metadata": {},
   "source": [
    "数据信息与格式。"
   ]
  },
  {
   "cell_type": "code",
   "execution_count": 4,
   "id": "aa0ef17e",
   "metadata": {
    "scrolled": true
   },
   "outputs": [
    {
     "name": "stdout",
     "output_type": "stream",
     "text": [
      "<class 'pandas.core.frame.DataFrame'>\n",
      "Int64Index: 366 entries, 0 to 365\n",
      "Data columns (total 23 columns):\n",
      " #   Column    Non-Null Count  Dtype         \n",
      "---  ------    --------------  -----         \n",
      " 0   date      366 non-null    datetime64[ns]\n",
      " 1   source    360 non-null    object        \n",
      " 2   content   366 non-null    object        \n",
      " 3   province  277 non-null    object        \n",
      " 4   user_0    366 non-null    int64         \n",
      " 5   user_1    366 non-null    int64         \n",
      " 6   user_2    366 non-null    int64         \n",
      " 7   user_3    366 non-null    int64         \n",
      " 8   user_4    366 non-null    int64         \n",
      " 9   user_5    366 non-null    int64         \n",
      " 10  user_6    366 non-null    int64         \n",
      " 11  user_7    366 non-null    int64         \n",
      " 12  user_8    366 non-null    int64         \n",
      " 13  user_9    366 non-null    int64         \n",
      " 14  user_10   366 non-null    int64         \n",
      " 15  user_11   366 non-null    int64         \n",
      " 16  user_12   366 non-null    int64         \n",
      " 17  user_13   366 non-null    int64         \n",
      " 18  user_14   366 non-null    int64         \n",
      " 19  user_15   366 non-null    int64         \n",
      " 20  user_16   366 non-null    int64         \n",
      " 21  user_17   366 non-null    int64         \n",
      " 22  like      366 non-null    int64         \n",
      "dtypes: datetime64[ns](1), int64(19), object(3)\n",
      "memory usage: 68.6+ KB\n"
     ]
    }
   ],
   "source": [
    "df.info()"
   ]
  },
  {
   "cell_type": "markdown",
   "id": "ddc63c64",
   "metadata": {},
   "source": [
    "查看缺失值。"
   ]
  },
  {
   "cell_type": "code",
   "execution_count": 5,
   "id": "b14f91a5",
   "metadata": {
    "scrolled": true
   },
   "outputs": [
    {
     "data": {
      "text/plain": [
       "date         0\n",
       "source       6\n",
       "content      0\n",
       "province    89\n",
       "user_0       0\n",
       "user_1       0\n",
       "user_2       0\n",
       "user_3       0\n",
       "user_4       0\n",
       "user_5       0\n",
       "user_6       0\n",
       "user_7       0\n",
       "user_8       0\n",
       "user_9       0\n",
       "user_10      0\n",
       "user_11      0\n",
       "user_12      0\n",
       "user_13      0\n",
       "user_14      0\n",
       "user_15      0\n",
       "user_16      0\n",
       "user_17      0\n",
       "like         0\n",
       "dtype: int64"
      ]
     },
     "execution_count": 5,
     "metadata": {},
     "output_type": "execute_result"
    }
   ],
   "source": [
    "df.isna().sum(0)"
   ]
  },
  {
   "cell_type": "markdown",
   "id": "fa93c6f8",
   "metadata": {},
   "source": [
    "## 1.2 source列清洗"
   ]
  },
  {
   "cell_type": "markdown",
   "id": "44f07d05",
   "metadata": {},
   "source": [
    "首先查看source列的数据，发现：\n",
    "- 一条谣言有多个source，通常以'、'和'@'作为分隔符\n",
    "- 含有'丨'符号的表示谣言散播者为个人，而非平台或组织\n",
    "- 有些含有'#'字符，可能影响到字符串匹配\n",
    "- 有一条如'capd.gov.cn进行举报。 辟谣君提醒，网络非法外之地！希望广大网民不造谣、不信谣、不传谣。对于编造、传播网络不实信息，严重扰乱社会秩序的违法犯罪行为，公安机关将坚决依法予以打击。 消息来源：国家乡村振兴局'，消息来源应该为国家乡村振兴局\n",
    "- 有些source中不仅仅包含散播谣言单位，还包含了小广告，应该删除\n",
    "- 有6条缺失值"
   ]
  },
  {
   "cell_type": "code",
   "execution_count": 6,
   "id": "5395dd23",
   "metadata": {
    "scrolled": true
   },
   "outputs": [
    {
     "data": {
      "text/plain": [
       "array(['北京日报客户端', '大河报、羊城晚报', '南方都市报、大众网', '江苏省互联网举报中心', '中国新闻网',\n",
       "       '深圳新闻网、深圳教育', '徐汇交警、人民网', '南宁举报辟谣', '灵山警方、八桂警事', '央视网、广西日报',\n",
       "       '杭州发布、浙江日报', '人民日报、环球网', '南国早报', '汉中市教育局',\n",
       "       '昌黎县委网信办、秦皇岛网络辟谣、河北省秦皇岛市北戴河新区新闻中心', '广西政法、南国早报、中国互联网联合辟谣平台',\n",
       "       '平南县第二人民医院、广西互联网举报中心', '天津辟谣、津云、环球网', '广西互联网辟谣平台', '平安长垣',\n",
       "       '网信故城、河北日报', '麻城市公安局', '央视网、光明网、焦作日报', '中国互联网联合辟谣平台',\n",
       "       '头条辟谣联合@川观新闻，发布2022年1月十大社会热点谣言榜；联合@健康中国，发布1月健康谣言榜和食品安全谣言榜。帮你扫除谣言，还原事实！',\n",
       "       '北京日报、新京报', '河北日报', '人民网、南方日报', '钱江晚报', '浙江日报', '上海网络辟谣、上观新闻',\n",
       "       '大连市应急管理局', '福建辟谣', '八桂警方在线', '解放日报、澎湃新闻', '中国互联网联合辟谣平台、共青团中央',\n",
       "       '北京2022年冬奥会和冬残奥会组织委员会', '雁塔宣传（中共西安市雁塔区委外宣办官方账号）',\n",
       "       '魅力碑林（西安市碑林区官方账号）', '台州网警巡查执法', '光明日报', '湖南省教育厅', '北京西城、丰汇物业',\n",
       "       '咸阳市网络举报中心、中国妇女报、法治日报', '广西壮族自治区公安厅政治部宣传处', '德清发布、湖州市人民政府',\n",
       "       '榆林网警巡查执法', '杭州日报、钱江晚报', '泉州网警巡查执法、泉州市卫生健康委员会', '奥克兰战争纪念博物馆',\n",
       "       '新绛公安', '滦州网信、滦州刑侦', '法新社、新华社、澎湃新闻', '红星新闻',\n",
       "       '曲阜市委统筹疫情防控和经济运行工作领导小组（指挥部）办公室、每日经济新闻',\n",
       "       '广州市天河区新冠肺炎疫情防控指挥部办公室、横琴长隆国际海洋度假区、羊城晚报', '郑州发布、大河报、中国新闻网', '央视新闻',\n",
       "       '古田街道新冠防控指挥部', '黄冈网警巡查执法', '津云', '南京网络辟谣', '绍兴公安', '西安周至公安', '研招网',\n",
       "       '辽宁省医疗保障局', '商洛公安、商洛新闻网', '北京日报', '安徽省滁州市公安局网络安全保卫支队', '延安网警巡查执法',\n",
       "       '夏津发布、夏津县委统筹疫情防控和经济运行工作领导小组（指挥部）办公室', '安阳日报', '红星新闻、上海市卫健委',\n",
       "       '汉中网警巡查执法', '沧州市住房公积金管理中心', '网信商丘',\n",
       "       '绍兴市上虞区新型冠状病毒肺炎疫情防控工作领导小组办公室、深圳卫健委、晶报', '四川辟谣', '深圳地铁',\n",
       "       '国家邮政局、中国邮政快递报', '天津辟谣', '南宁日报、南宁教育', '天津公安南开分局', '极目新闻', '永康公安',\n",
       "       '北京市人力资源和社会保障局', '上观新闻', '西安发布、咸阳发布', '西安市公安局', '西安网警巡查执法',\n",
       "       '人民网、平安北京朝阳', '深圳卫健委', '上观新闻、澎湃新闻', '清苑网警、保定网警巡查执法', '网信洛南',\n",
       "       '深圳特区报、深圳新闻网', '澎湃新闻', '中共许昌市委网络安全和信息化委员会办公室、许昌融媒', '蒙山县公安局',\n",
       "       '成都网络辟谣、成都外国语学校', '乌鲁木齐交警', '燕赵晚报、曲阳县公安局交警大队',\n",
       "       'RD注册营养师薛庆鑫丨中国营养学会会员 注册营养师', '北京青年报、光明网', '中华人民共和国国家发展和改革委员会',\n",
       "       '西安公安、新华视点', '福建辟谣、河南省卫生健康委员会', '浙江新闻、温州网警巡查执法', '西湖发布',\n",
       "       '浙江新闻、温州辟谣、温州网警巡查执法', '丽水发布', '济南时报', '1018陕广新闻、盒马', '靖边县公安局',\n",
       "       '上观新闻、上海发布', '浙江辟谣平台、健康浙江、健康宁波', '中国新闻网、新京报我们视频', '万山公安、贵州日报',\n",
       "       '北京青年报、成都消防、中国民用航空局', '中国新闻网、浙江之声', '成都市金牛区人民政府沙河源街道办事处、看看新闻',\n",
       "       '人民网', '潼关检察、沸点视频',\n",
       "       '头条辟谣 联合@川观新闻，发布12月十大社会热点谣言榜；联合@健康中国，发布12月健康谣言榜和食品安全谣言榜。帮你扫除谣言，还原事实！',\n",
       "       '平安北京', '宝鸡网警巡查执法', '浙江省杭州市民政局', '中国青年报', '生命日报', '成都网警巡查执法',\n",
       "       '白相大世界', '浙江政务服务网', '法治日报', '嘉兴疾控中心', '陕西渭南临渭公安、北京日报', '福建辟谣、科技日报',\n",
       "       '丰台发布', '西安市网络举报中心、华商报', '光明网', '极目新闻、凤凰网', '福建省教育考试院',\n",
       "       '浙江之声、天目新闻', '央视网、光明网', '宝鸡渭滨交警', '国网西安供电公司、西安网警巡查执法',\n",
       "       '邯郸交巡警、河北省公安厅交通管理局、河北日报', '乐山市公安局市中区分局', '乾县公安局', '新华网、西安发布',\n",
       "       '新华网、青岛市卫生健康委员会', '中国汽车报、中国皮卡网', '彬州市公安局',\n",
       "       '成都市人力资源和社会保障局、光明网 #过年# #年假##年假休完了吗#', '国家食品药品监督管理总局、科学辟谣',\n",
       "       '防城港市人民政府门户网站、防城港交警', '环球网、浙江辟谣平台、天目新闻', '封面新闻、新京报', '天津网警巡查执法',\n",
       "       '兴平市疫情防控指挥部办公室', '天津辟谣、天津市卫健委', '咸阳公安', '东莞疾控、东莞网络辟谣联盟',\n",
       "       '湖北广播电视台、极目新闻', '公安部、光明网', '光明网、婺城发布', '中国新闻网、中国人民银行',\n",
       "       '石家庄市公安局桥西分局', '科学辟谣', '石家庄网警巡查执法、法制日报', '福建辟谣、央视财经',\n",
       "       '舟山发布、浙江辟谣平台', '铁路12306、中国互联网联合辟谣平台', '浙江之声、浙江新闻', '浙江新闻、浙江辟谣平台',\n",
       "       '嘉兴晚报、嘉兴发布、温州辟谣', '中国科学院', '中国互联网联合辟谣平台、成都商报', '绍兴网警巡查执法', '环球网',\n",
       "       '克拉玛依市图书馆', '中国新闻网、中国互联网联合辟谣平台', '宁波网警巡查执法', '杭州网警、杭州市卫健委、杭州日报',\n",
       "       '浙江新闻', '南湖发布', '上海网络辟谣', nan, '中国新闻周刊、中国互联网联合辟谣平台', '中国经济网、上观新闻',\n",
       "       '萧山网、杭州网警', '慈溪发布', '中国互联网联合辟谣平台、浙江辟谣平台', '华侨大学、福建辟谣',\n",
       "       '央视新闻、公安部网安局', '科普中国、人民银行', '杭州发布、环球网', '嘉兴发布', '成都日报锦观',\n",
       "       '临沂网警巡查执法', '浙江辟谣平台', '中国互联网联合辟谣平台、人民网', '广东网警巡查执法',\n",
       "       '中国新闻网、满洲里市公安局', '海曙发布', '中国互联网联合辟谣平台、澎湃新闻', '梧州日报', '福建省互联网辟谣平台',\n",
       "       '中国互联网联合辟谣平台、新华日报、中国青年网', '宁波网警巡查执法、浙江辟谣平台', '昆山市公安局', '萧山网',\n",
       "       '鄞州区疫情防控办', '浙江日报、浙江越秀外国语学院', '山东大学继续教育学院', '横州市公安局', '辽宁融媒',\n",
       "       '杭州市卫健委、钱江晚报', '新华网、千龙网', '浙江日报、中国宁波网', '北京头条', '辽宁省教育厅',\n",
       "       '人民日报、科技日报、国家医保局）', '宁波公安', '上林县公安局', '北青网', '内蒙古自治区能源局', '科普中国',\n",
       "       '大象新闻、极目新闻', '新京报、福建辟谣', '法制日报', '中国新闻社、东方网', '世卫组织', '北京时间',\n",
       "       '海口市民政局', '京报网、上观新闻', '大象新闻、红星新闻、北京青年报', '福建省军区政治工作局',\n",
       "       '头条辟谣 联合 @皮皮川SCOL，发布11月十大社会热点谣言榜；联合@健康中国，发布11月健康谣言榜和食品安全谣言榜。帮你扫除谣言，还原事实！',\n",
       "       '荆州市医疗保障局、荆州日报', '央视网', '岳阳市公安局岳阳楼分局', '神铁天津2号线', '瞭望智库',\n",
       "       '黑龙江交通广播', '新京报、徐州市疫情防控应急指挥部', '财联社、国是直通车', '阜阳公安交警在线', '网信广宗',\n",
       "       '武汉市公安局督察支队', '国网唐山供电公司、河北日报', '光明网、央广网', '新华网、北京青年报', '上海网络辟谣 ',\n",
       "       '科普中国、生命时报', '公安部网络安全保卫局', '四川在线', '新闻晨报、广州日报', '深圳特区报',\n",
       "       'capd.gov.cn进行举报。 辟谣君提醒，网络非法外之地！希望广大网民不造谣、不信谣、不传谣。对于编造、传播网络不实信息，严重扰乱社会秩序的违法犯罪行为，公安机关将坚决依法予以打击。 消息来源：国家乡村振兴局',\n",
       "       '石家庄公安局、石家庄网警巡查执法', '大象新闻', '江南晚报', '厦门警方在线', '有据核查', '河北新闻网',\n",
       "       '鹰潭网警巡查执法', '科普中国 中国消防', '科技日报', '吉林省环境保护厅', '汉中市公安局交警大队二支队',\n",
       "       '央视网、国网江苏电力', '大连市公安局甘井子公安分局',\n",
       "       '消化科李主任丨首都医科大学北京佑安医院消化内科主任医师 更多胃癌辟谣，点击下方链接查看： https://www.toutiao.com/a6945747882494427656/?log_from=4da933b4c2195_1637135124271',\n",
       "       '四川省内江市公安局经济开发区分局', '庄河市公安局', '上饶网警巡查执法', '三联生活周刊 #护肤#', '大连发布',\n",
       "       '西安市网信办', '大连发布、环球网', '南海网、三亚日报', '安徽日报', '大江网', '伊春市公安局伊美分局',\n",
       "       '成都西川中学', '经济日报', '海南日报', '桂林网警巡查执法', '丽水网警巡查执法', '哈尔滨日报',\n",
       "       '安岳县公安局', '平安科尔沁', '成都理工大学、成都网络辟谣', '成都高新、新华网、经济日报', '央视新闻客户端',\n",
       "       '朝阳网警巡查执法', '银川市邮政管理局', '成都医学院第二附属医院·核工业四一六医院', '晋江市公安局',\n",
       "       '攀枝花平安仁和、宜宾网警巡查执法', '健康青羊、四川日报', '成都锦城学院',\n",
       "       '新疆网警巡查执法、新疆维吾尔自治区卫生健康委员会', '邛崃市卫生和计划生育局', '成都市卫生健康委员会、成都理工大学',\n",
       "       '光明网、黑龙江网络广播电视台都市频道', '天津日报'], dtype=object)"
      ]
     },
     "execution_count": 6,
     "metadata": {},
     "output_type": "execute_result"
    }
   ],
   "source": [
    "df['source'].unique()"
   ]
  },
  {
   "cell_type": "markdown",
   "id": "c097b697",
   "metadata": {},
   "source": [
    "对含有字符'@'的source做修改。"
   ]
  },
  {
   "cell_type": "code",
   "execution_count": 7,
   "id": "d025bad7",
   "metadata": {},
   "outputs": [
    {
     "data": {
      "text/plain": [
       "24     头条辟谣联合@川观新闻，发布2022年1月十大社会热点谣言榜；联合@健康中国，发布1月健康谣...\n",
       "131    头条辟谣 联合@川观新闻，发布12月十大社会热点谣言榜；联合@健康中国，发布12月健康谣言榜...\n",
       "276    头条辟谣 联合 @皮皮川SCOL，发布11月十大社会热点谣言榜；联合@健康中国，发布11月健...\n",
       "Name: source, dtype: object"
      ]
     },
     "execution_count": 7,
     "metadata": {},
     "output_type": "execute_result"
    }
   ],
   "source": [
    "df['source'][['@' in str(s) for s in df['source']]]"
   ]
  },
  {
   "cell_type": "code",
   "execution_count": 8,
   "id": "9cdf0160",
   "metadata": {},
   "outputs": [],
   "source": [
    "df['source'][24] = '头条辟谣、川观新闻、健康中国'\n",
    "df['source'][131] = '头条辟谣、川观新闻、健康中国'\n",
    "df['source'][276] = '头条辟谣、皮皮川SCOL、健康中国'"
   ]
  },
  {
   "cell_type": "markdown",
   "id": "b2f7cf8d",
   "metadata": {},
   "source": [
    "对含有'#'的source做修改。"
   ]
  },
  {
   "cell_type": "code",
   "execution_count": 9,
   "id": "9e3bc8cd",
   "metadata": {},
   "outputs": [
    {
     "data": {
      "text/plain": [
       "162    成都市人力资源和社会保障局、光明网 #过年# #年假##年假休完了吗#\n",
       "326                            三联生活周刊 #护肤#\n",
       "Name: source, dtype: object"
      ]
     },
     "execution_count": 9,
     "metadata": {},
     "output_type": "execute_result"
    }
   ],
   "source": [
    "df['source'][['#' in str(s) for s in df['source']]]"
   ]
  },
  {
   "cell_type": "code",
   "execution_count": 10,
   "id": "eb077947",
   "metadata": {},
   "outputs": [],
   "source": [
    "df['source'][162] = '成都市人力资源和社会保障局、光明网'\n",
    "df['source'][326] = '三联生活周刊'"
   ]
  },
  {
   "cell_type": "markdown",
   "id": "ce32bdd3",
   "metadata": {},
   "source": [
    "对混乱字符串做修改。"
   ]
  },
  {
   "cell_type": "code",
   "execution_count": 11,
   "id": "e8d097fb",
   "metadata": {},
   "outputs": [
    {
     "data": {
      "text/plain": [
       "109                            RD注册营养师薛庆鑫丨中国营养学会会员 注册营养师\n",
       "171                            RD注册营养师薛庆鑫丨中国营养学会会员 注册营养师\n",
       "322    消化科李主任丨首都医科大学北京佑安医院消化内科主任医师 更多胃癌辟谣，点击下方链接查看： h...\n",
       "328                            RD注册营养师薛庆鑫丨中国营养学会会员 注册营养师\n",
       "Name: source, dtype: object"
      ]
     },
     "execution_count": 11,
     "metadata": {},
     "output_type": "execute_result"
    }
   ],
   "source": [
    "df['source'][['丨' in str(s) for s in df['source']]]"
   ]
  },
  {
   "cell_type": "code",
   "execution_count": 12,
   "id": "b2ae88f4",
   "metadata": {},
   "outputs": [],
   "source": [
    "df['source'][109] = '注册营养师薛庆鑫丨中国营养学会会员'\n",
    "df['source'][171] = '注册营养师薛庆鑫丨中国营养学会会员'\n",
    "df['source'][322] = '消化科李主任丨首都医科大学北京佑安医院消化内科主任医师'\n",
    "df['source'][328] = '注册营养师薛庆鑫丨中国营养学会会员'"
   ]
  },
  {
   "cell_type": "code",
   "execution_count": 13,
   "id": "50925fed",
   "metadata": {},
   "outputs": [
    {
     "data": {
      "text/plain": [
       "251    人民日报、科技日报、国家医保局）\n",
       "Name: source, dtype: object"
      ]
     },
     "execution_count": 13,
     "metadata": {},
     "output_type": "execute_result"
    }
   ],
   "source": [
    "df['source'][['国家医保局）' in str(s) for s in df['source']]]"
   ]
  },
  {
   "cell_type": "code",
   "execution_count": 14,
   "id": "17a13086",
   "metadata": {},
   "outputs": [],
   "source": [
    "df['source'][251] = '人民日报、科技日报、国家医保局'"
   ]
  },
  {
   "cell_type": "code",
   "execution_count": 15,
   "id": "c7b2d875",
   "metadata": {},
   "outputs": [
    {
     "data": {
      "text/plain": [
       "305    capd.gov.cn进行举报。 辟谣君提醒，网络非法外之地！希望广大网民不造谣、不信谣、不...\n",
       "Name: source, dtype: object"
      ]
     },
     "execution_count": 15,
     "metadata": {},
     "output_type": "execute_result"
    }
   ],
   "source": [
    "df['source'][['capd.gov.cn' in str(s) for s in df['source']]]"
   ]
  },
  {
   "cell_type": "code",
   "execution_count": 16,
   "id": "157479fc",
   "metadata": {},
   "outputs": [],
   "source": [
    "df['source'][305] = '国家乡村振兴局'"
   ]
  },
  {
   "cell_type": "markdown",
   "id": "e1a6f797",
   "metadata": {},
   "source": [
    "查看source有缺失的新闻，试图寻找到其真实的source，发现即使涉及到地点，地点这一列仍然为缺失值，因此同时修改对应地点的数据。\n",
    "- 201：[福建辟谣、澎湃新闻](https://m.thepaper.cn/baijiahao_15939258)，不涉及地理信息\n",
    "- 256：[头条辟谣](https://m.toutiao.com/is/yeXte5q/)，涉及地点为沈阳\n",
    "- 280：[腾讯新闻](https://view.inews.qq.com/k/20211126A08M5600?no-redirect=1&web_channel=wap&openApp=false&share_token=4E7E2843-F939-4840-BCA7-87ADC8E637AE&tt_from=copy_link&utm_source=copy_link&utm_medium=toutiao_ios&utm_campaign=client_share)，不涉及具体到省的地理信息\n",
    "- 311：[大庆广播电视台](https://m.toutiao.com/is/yeXoRnU/)，涉及地点为河南\n",
    "- 327：[广西互联网辟谣平台](https://m.toutiao.com/is/ye4peqe/)，涉及地点为广西\n",
    "- 331：北京市市场监督管理局（辟谣单位包含在谣言内容中），涉及地点为北京"
   ]
  },
  {
   "cell_type": "code",
   "execution_count": 17,
   "id": "a7d59eae",
   "metadata": {},
   "outputs": [
    {
     "data": {
      "text/plain": [
       "201     近日，网传一段“失明男舞者动情演绎探戈”的视频，视频配文称“因为热爱！心里有光！致敬舞者！...\n",
       "256     近日，有人在社交平台发布视频称“11月16日，沈阳北站南广场发生爆炸”“第七大队出警99人...\n",
       "280     近日，网传视频称““在亚欧大陆上有一个特别大的人造转盘，能提升地基高差异，中欧班列正日夜奔...\n",
       "311     近日，网传视频称“河南汝州一个小区，凌晨3:10，小轿车疯狂鸣笛，楼上居民扔酒瓶还击，小轿...\n",
       "327     11月15日，部分兴安县网民在社交平台传播视频称“兴安县发生交通事故”“一男子在兴安西环路...\n",
       "331     近日，北京部分市场主体收到短信称“商户营业执照状态显示异常，法人信息过期”“北京市市场监督...\n",
       "Name: content, dtype: object"
      ]
     },
     "execution_count": 17,
     "metadata": {},
     "output_type": "execute_result"
    }
   ],
   "source": [
    "df['content'][df['source'].isna()]"
   ]
  },
  {
   "cell_type": "code",
   "execution_count": 18,
   "id": "bbe189c4",
   "metadata": {},
   "outputs": [],
   "source": [
    "# 201\n",
    "df['source'][201] = '福建辟谣、澎湃新闻'\n",
    "# 256\n",
    "df['source'][256] = '头条辟谣'\n",
    "df['province'][256] = '沈阳'\n",
    "# 280\n",
    "df['source'][280] = '腾讯新闻'\n",
    "# 311\n",
    "df['source'][311] = '大庆广播电视台'\n",
    "df['province'][311] = '河南'\n",
    "# 327\n",
    "df['source'][327] = '广西互联网辟谣平台'\n",
    "df['province'][327] = '广西'\n",
    "# 331\n",
    "df['source'][331] = '北京市市场监督管理局'\n",
    "df['province'][331] = '北京'"
   ]
  },
  {
   "cell_type": "markdown",
   "id": "53aa7d8f",
   "metadata": {},
   "source": [
    "再次查看缺失值，发现都已经填补完成。"
   ]
  },
  {
   "cell_type": "code",
   "execution_count": 19,
   "id": "59f981ab",
   "metadata": {},
   "outputs": [
    {
     "data": {
      "text/plain": [
       "0"
      ]
     },
     "execution_count": 19,
     "metadata": {},
     "output_type": "execute_result"
    }
   ],
   "source": [
    "df['source'].isna().sum(0)"
   ]
  },
  {
   "cell_type": "markdown",
   "id": "91fffc2e",
   "metadata": {},
   "source": [
    "处理好source数据后，生成每条谣言来源的哑变量数据。"
   ]
  },
  {
   "cell_type": "code",
   "execution_count": 20,
   "id": "1272f831",
   "metadata": {},
   "outputs": [
    {
     "data": {
      "text/html": [
       "<div>\n",
       "<style scoped>\n",
       "    .dataframe tbody tr th:only-of-type {\n",
       "        vertical-align: middle;\n",
       "    }\n",
       "\n",
       "    .dataframe tbody tr th {\n",
       "        vertical-align: top;\n",
       "    }\n",
       "\n",
       "    .dataframe thead th {\n",
       "        text-align: right;\n",
       "    }\n",
       "</style>\n",
       "<table border=\"1\" class=\"dataframe\">\n",
       "  <thead>\n",
       "    <tr style=\"text-align: right;\">\n",
       "      <th></th>\n",
       "      <th>1018陕广新闻</th>\n",
       "      <th>万山公安</th>\n",
       "      <th>三亚日报</th>\n",
       "      <th>三联生活周刊</th>\n",
       "      <th>上林县公安局</th>\n",
       "      <th>上海发布</th>\n",
       "      <th>上海市卫健委</th>\n",
       "      <th>上海网络辟谣</th>\n",
       "      <th>上海网络辟谣</th>\n",
       "      <th>上观新闻</th>\n",
       "      <th>...</th>\n",
       "      <th>陕西渭南临渭公安</th>\n",
       "      <th>雁塔宣传（中共西安市雁塔区委外宣办官方账号）</th>\n",
       "      <th>青岛市卫生健康委员会</th>\n",
       "      <th>靖边县公安局</th>\n",
       "      <th>魅力碑林（西安市碑林区官方账号）</th>\n",
       "      <th>鹰潭网警巡查执法</th>\n",
       "      <th>麻城市公安局</th>\n",
       "      <th>黄冈网警巡查执法</th>\n",
       "      <th>黑龙江交通广播</th>\n",
       "      <th>黑龙江网络广播电视台都市频道</th>\n",
       "    </tr>\n",
       "  </thead>\n",
       "  <tbody>\n",
       "    <tr>\n",
       "      <th>0</th>\n",
       "      <td>0</td>\n",
       "      <td>0</td>\n",
       "      <td>0</td>\n",
       "      <td>0</td>\n",
       "      <td>0</td>\n",
       "      <td>0</td>\n",
       "      <td>0</td>\n",
       "      <td>0</td>\n",
       "      <td>0</td>\n",
       "      <td>0</td>\n",
       "      <td>...</td>\n",
       "      <td>0</td>\n",
       "      <td>0</td>\n",
       "      <td>0</td>\n",
       "      <td>0</td>\n",
       "      <td>0</td>\n",
       "      <td>0</td>\n",
       "      <td>0</td>\n",
       "      <td>0</td>\n",
       "      <td>0</td>\n",
       "      <td>0</td>\n",
       "    </tr>\n",
       "    <tr>\n",
       "      <th>1</th>\n",
       "      <td>0</td>\n",
       "      <td>0</td>\n",
       "      <td>0</td>\n",
       "      <td>0</td>\n",
       "      <td>0</td>\n",
       "      <td>0</td>\n",
       "      <td>0</td>\n",
       "      <td>0</td>\n",
       "      <td>0</td>\n",
       "      <td>0</td>\n",
       "      <td>...</td>\n",
       "      <td>0</td>\n",
       "      <td>0</td>\n",
       "      <td>0</td>\n",
       "      <td>0</td>\n",
       "      <td>0</td>\n",
       "      <td>0</td>\n",
       "      <td>0</td>\n",
       "      <td>0</td>\n",
       "      <td>0</td>\n",
       "      <td>0</td>\n",
       "    </tr>\n",
       "    <tr>\n",
       "      <th>2</th>\n",
       "      <td>0</td>\n",
       "      <td>0</td>\n",
       "      <td>0</td>\n",
       "      <td>0</td>\n",
       "      <td>0</td>\n",
       "      <td>0</td>\n",
       "      <td>0</td>\n",
       "      <td>0</td>\n",
       "      <td>0</td>\n",
       "      <td>0</td>\n",
       "      <td>...</td>\n",
       "      <td>0</td>\n",
       "      <td>0</td>\n",
       "      <td>0</td>\n",
       "      <td>0</td>\n",
       "      <td>0</td>\n",
       "      <td>0</td>\n",
       "      <td>0</td>\n",
       "      <td>0</td>\n",
       "      <td>0</td>\n",
       "      <td>0</td>\n",
       "    </tr>\n",
       "    <tr>\n",
       "      <th>3</th>\n",
       "      <td>0</td>\n",
       "      <td>0</td>\n",
       "      <td>0</td>\n",
       "      <td>0</td>\n",
       "      <td>0</td>\n",
       "      <td>0</td>\n",
       "      <td>0</td>\n",
       "      <td>0</td>\n",
       "      <td>0</td>\n",
       "      <td>0</td>\n",
       "      <td>...</td>\n",
       "      <td>0</td>\n",
       "      <td>0</td>\n",
       "      <td>0</td>\n",
       "      <td>0</td>\n",
       "      <td>0</td>\n",
       "      <td>0</td>\n",
       "      <td>0</td>\n",
       "      <td>0</td>\n",
       "      <td>0</td>\n",
       "      <td>0</td>\n",
       "    </tr>\n",
       "    <tr>\n",
       "      <th>4</th>\n",
       "      <td>0</td>\n",
       "      <td>0</td>\n",
       "      <td>0</td>\n",
       "      <td>0</td>\n",
       "      <td>0</td>\n",
       "      <td>0</td>\n",
       "      <td>0</td>\n",
       "      <td>0</td>\n",
       "      <td>0</td>\n",
       "      <td>0</td>\n",
       "      <td>...</td>\n",
       "      <td>0</td>\n",
       "      <td>0</td>\n",
       "      <td>0</td>\n",
       "      <td>0</td>\n",
       "      <td>0</td>\n",
       "      <td>0</td>\n",
       "      <td>0</td>\n",
       "      <td>0</td>\n",
       "      <td>0</td>\n",
       "      <td>0</td>\n",
       "    </tr>\n",
       "    <tr>\n",
       "      <th>...</th>\n",
       "      <td>...</td>\n",
       "      <td>...</td>\n",
       "      <td>...</td>\n",
       "      <td>...</td>\n",
       "      <td>...</td>\n",
       "      <td>...</td>\n",
       "      <td>...</td>\n",
       "      <td>...</td>\n",
       "      <td>...</td>\n",
       "      <td>...</td>\n",
       "      <td>...</td>\n",
       "      <td>...</td>\n",
       "      <td>...</td>\n",
       "      <td>...</td>\n",
       "      <td>...</td>\n",
       "      <td>...</td>\n",
       "      <td>...</td>\n",
       "      <td>...</td>\n",
       "      <td>...</td>\n",
       "      <td>...</td>\n",
       "      <td>...</td>\n",
       "    </tr>\n",
       "    <tr>\n",
       "      <th>361</th>\n",
       "      <td>0</td>\n",
       "      <td>0</td>\n",
       "      <td>0</td>\n",
       "      <td>0</td>\n",
       "      <td>0</td>\n",
       "      <td>0</td>\n",
       "      <td>0</td>\n",
       "      <td>0</td>\n",
       "      <td>0</td>\n",
       "      <td>0</td>\n",
       "      <td>...</td>\n",
       "      <td>0</td>\n",
       "      <td>0</td>\n",
       "      <td>0</td>\n",
       "      <td>0</td>\n",
       "      <td>0</td>\n",
       "      <td>0</td>\n",
       "      <td>0</td>\n",
       "      <td>0</td>\n",
       "      <td>0</td>\n",
       "      <td>0</td>\n",
       "    </tr>\n",
       "    <tr>\n",
       "      <th>362</th>\n",
       "      <td>0</td>\n",
       "      <td>0</td>\n",
       "      <td>0</td>\n",
       "      <td>0</td>\n",
       "      <td>0</td>\n",
       "      <td>0</td>\n",
       "      <td>0</td>\n",
       "      <td>0</td>\n",
       "      <td>0</td>\n",
       "      <td>0</td>\n",
       "      <td>...</td>\n",
       "      <td>0</td>\n",
       "      <td>0</td>\n",
       "      <td>0</td>\n",
       "      <td>0</td>\n",
       "      <td>0</td>\n",
       "      <td>0</td>\n",
       "      <td>0</td>\n",
       "      <td>0</td>\n",
       "      <td>0</td>\n",
       "      <td>0</td>\n",
       "    </tr>\n",
       "    <tr>\n",
       "      <th>363</th>\n",
       "      <td>0</td>\n",
       "      <td>0</td>\n",
       "      <td>0</td>\n",
       "      <td>0</td>\n",
       "      <td>0</td>\n",
       "      <td>0</td>\n",
       "      <td>0</td>\n",
       "      <td>0</td>\n",
       "      <td>0</td>\n",
       "      <td>0</td>\n",
       "      <td>...</td>\n",
       "      <td>0</td>\n",
       "      <td>0</td>\n",
       "      <td>0</td>\n",
       "      <td>0</td>\n",
       "      <td>0</td>\n",
       "      <td>0</td>\n",
       "      <td>0</td>\n",
       "      <td>0</td>\n",
       "      <td>0</td>\n",
       "      <td>0</td>\n",
       "    </tr>\n",
       "    <tr>\n",
       "      <th>364</th>\n",
       "      <td>0</td>\n",
       "      <td>0</td>\n",
       "      <td>0</td>\n",
       "      <td>0</td>\n",
       "      <td>0</td>\n",
       "      <td>0</td>\n",
       "      <td>0</td>\n",
       "      <td>0</td>\n",
       "      <td>0</td>\n",
       "      <td>0</td>\n",
       "      <td>...</td>\n",
       "      <td>0</td>\n",
       "      <td>0</td>\n",
       "      <td>0</td>\n",
       "      <td>0</td>\n",
       "      <td>0</td>\n",
       "      <td>0</td>\n",
       "      <td>0</td>\n",
       "      <td>0</td>\n",
       "      <td>0</td>\n",
       "      <td>1</td>\n",
       "    </tr>\n",
       "    <tr>\n",
       "      <th>365</th>\n",
       "      <td>0</td>\n",
       "      <td>0</td>\n",
       "      <td>0</td>\n",
       "      <td>0</td>\n",
       "      <td>0</td>\n",
       "      <td>0</td>\n",
       "      <td>0</td>\n",
       "      <td>0</td>\n",
       "      <td>0</td>\n",
       "      <td>0</td>\n",
       "      <td>...</td>\n",
       "      <td>0</td>\n",
       "      <td>0</td>\n",
       "      <td>0</td>\n",
       "      <td>0</td>\n",
       "      <td>0</td>\n",
       "      <td>0</td>\n",
       "      <td>0</td>\n",
       "      <td>0</td>\n",
       "      <td>0</td>\n",
       "      <td>0</td>\n",
       "    </tr>\n",
       "  </tbody>\n",
       "</table>\n",
       "<p>366 rows × 335 columns</p>\n",
       "</div>"
      ],
      "text/plain": [
       "     1018陕广新闻  万山公安  三亚日报  三联生活周刊  上林县公安局  上海发布  上海市卫健委  上海网络辟谣  上海网络辟谣   \\\n",
       "0           0     0     0       0       0     0       0       0        0   \n",
       "1           0     0     0       0       0     0       0       0        0   \n",
       "2           0     0     0       0       0     0       0       0        0   \n",
       "3           0     0     0       0       0     0       0       0        0   \n",
       "4           0     0     0       0       0     0       0       0        0   \n",
       "..        ...   ...   ...     ...     ...   ...     ...     ...      ...   \n",
       "361         0     0     0       0       0     0       0       0        0   \n",
       "362         0     0     0       0       0     0       0       0        0   \n",
       "363         0     0     0       0       0     0       0       0        0   \n",
       "364         0     0     0       0       0     0       0       0        0   \n",
       "365         0     0     0       0       0     0       0       0        0   \n",
       "\n",
       "     上观新闻  ...  陕西渭南临渭公安  雁塔宣传（中共西安市雁塔区委外宣办官方账号）  青岛市卫生健康委员会  靖边县公安局  \\\n",
       "0       0  ...         0                       0           0       0   \n",
       "1       0  ...         0                       0           0       0   \n",
       "2       0  ...         0                       0           0       0   \n",
       "3       0  ...         0                       0           0       0   \n",
       "4       0  ...         0                       0           0       0   \n",
       "..    ...  ...       ...                     ...         ...     ...   \n",
       "361     0  ...         0                       0           0       0   \n",
       "362     0  ...         0                       0           0       0   \n",
       "363     0  ...         0                       0           0       0   \n",
       "364     0  ...         0                       0           0       0   \n",
       "365     0  ...         0                       0           0       0   \n",
       "\n",
       "     魅力碑林（西安市碑林区官方账号）  鹰潭网警巡查执法  麻城市公安局  黄冈网警巡查执法  黑龙江交通广播  黑龙江网络广播电视台都市频道  \n",
       "0                   0         0       0         0        0               0  \n",
       "1                   0         0       0         0        0               0  \n",
       "2                   0         0       0         0        0               0  \n",
       "3                   0         0       0         0        0               0  \n",
       "4                   0         0       0         0        0               0  \n",
       "..                ...       ...     ...       ...      ...             ...  \n",
       "361                 0         0       0         0        0               0  \n",
       "362                 0         0       0         0        0               0  \n",
       "363                 0         0       0         0        0               0  \n",
       "364                 0         0       0         0        0               1  \n",
       "365                 0         0       0         0        0               0  \n",
       "\n",
       "[366 rows x 335 columns]"
      ]
     },
     "execution_count": 20,
     "metadata": {},
     "output_type": "execute_result"
    }
   ],
   "source": [
    "df_source_dum = df['source'].str.get_dummies('、')\n",
    "df_source_dum"
   ]
  },
  {
   "cell_type": "markdown",
   "id": "c66a590d",
   "metadata": {},
   "source": [
    "倒序排列，查看辟谣数最多的前10家平台。"
   ]
  },
  {
   "cell_type": "code",
   "execution_count": 21,
   "id": "269363b3",
   "metadata": {},
   "outputs": [
    {
     "data": {
      "text/plain": [
       "中国互联网联合辟谣平台    15\n",
       "光明网            13\n",
       "中国新闻网          11\n",
       "福建辟谣           10\n",
       "澎湃新闻            9\n",
       "浙江辟谣平台          8\n",
       "人民网             7\n",
       "上观新闻            7\n",
       "浙江日报            7\n",
       "环球网             7\n",
       "dtype: int64"
      ]
     },
     "execution_count": 21,
     "metadata": {},
     "output_type": "execute_result"
    }
   ],
   "source": [
    "df_source_dum.sum(0).sort_values(ascending=False).head(10)"
   ]
  },
  {
   "cell_type": "markdown",
   "id": "3e29f1dc",
   "metadata": {},
   "source": [
    "增加source_num列，含义为对某一条谣言进行辟谣的媒体数量。"
   ]
  },
  {
   "cell_type": "code",
   "execution_count": 22,
   "id": "4d211d68",
   "metadata": {},
   "outputs": [
    {
     "data": {
      "text/html": [
       "<div>\n",
       "<style scoped>\n",
       "    .dataframe tbody tr th:only-of-type {\n",
       "        vertical-align: middle;\n",
       "    }\n",
       "\n",
       "    .dataframe tbody tr th {\n",
       "        vertical-align: top;\n",
       "    }\n",
       "\n",
       "    .dataframe thead th {\n",
       "        text-align: right;\n",
       "    }\n",
       "</style>\n",
       "<table border=\"1\" class=\"dataframe\">\n",
       "  <thead>\n",
       "    <tr style=\"text-align: right;\">\n",
       "      <th></th>\n",
       "      <th>date</th>\n",
       "      <th>source</th>\n",
       "      <th>content</th>\n",
       "      <th>province</th>\n",
       "      <th>user_0</th>\n",
       "      <th>user_1</th>\n",
       "      <th>user_2</th>\n",
       "      <th>user_3</th>\n",
       "      <th>user_4</th>\n",
       "      <th>user_5</th>\n",
       "      <th>...</th>\n",
       "      <th>user_10</th>\n",
       "      <th>user_11</th>\n",
       "      <th>user_12</th>\n",
       "      <th>user_13</th>\n",
       "      <th>user_14</th>\n",
       "      <th>user_15</th>\n",
       "      <th>user_16</th>\n",
       "      <th>user_17</th>\n",
       "      <th>like</th>\n",
       "      <th>source_num</th>\n",
       "    </tr>\n",
       "  </thead>\n",
       "  <tbody>\n",
       "    <tr>\n",
       "      <th>0</th>\n",
       "      <td>2022-02-18</td>\n",
       "      <td>北京日报客户端</td>\n",
       "      <td>有人从香港游泳偷渡到深圳湾被捕？假的！系轻生被救！</td>\n",
       "      <td>广东</td>\n",
       "      <td>0</td>\n",
       "      <td>0</td>\n",
       "      <td>0</td>\n",
       "      <td>0</td>\n",
       "      <td>0</td>\n",
       "      <td>0</td>\n",
       "      <td>...</td>\n",
       "      <td>0</td>\n",
       "      <td>0</td>\n",
       "      <td>0</td>\n",
       "      <td>0</td>\n",
       "      <td>0</td>\n",
       "      <td>0</td>\n",
       "      <td>0</td>\n",
       "      <td>0</td>\n",
       "      <td>0</td>\n",
       "      <td>1</td>\n",
       "    </tr>\n",
       "    <tr>\n",
       "      <th>1</th>\n",
       "      <td>2022-02-18</td>\n",
       "      <td>大河报、羊城晚报</td>\n",
       "      <td>近日，社交媒体上一则题为“河南一位老爷爷考上清华大学被顶替”的消息引发网友关注和转发。消息...</td>\n",
       "      <td>河南</td>\n",
       "      <td>0</td>\n",
       "      <td>0</td>\n",
       "      <td>0</td>\n",
       "      <td>0</td>\n",
       "      <td>0</td>\n",
       "      <td>1</td>\n",
       "      <td>...</td>\n",
       "      <td>0</td>\n",
       "      <td>0</td>\n",
       "      <td>0</td>\n",
       "      <td>0</td>\n",
       "      <td>0</td>\n",
       "      <td>0</td>\n",
       "      <td>0</td>\n",
       "      <td>0</td>\n",
       "      <td>41</td>\n",
       "      <td>2</td>\n",
       "    </tr>\n",
       "    <tr>\n",
       "      <th>2</th>\n",
       "      <td>2022-02-17</td>\n",
       "      <td>南方都市报、大众网</td>\n",
       "      <td>近日，网传湖南衡阳“南岳衡山寺庙”高薪招聘住持，月薪高达5万元，弹性工作制，下班后原则上不...</td>\n",
       "      <td>湖南</td>\n",
       "      <td>0</td>\n",
       "      <td>0</td>\n",
       "      <td>0</td>\n",
       "      <td>0</td>\n",
       "      <td>0</td>\n",
       "      <td>0</td>\n",
       "      <td>...</td>\n",
       "      <td>0</td>\n",
       "      <td>0</td>\n",
       "      <td>0</td>\n",
       "      <td>0</td>\n",
       "      <td>0</td>\n",
       "      <td>1</td>\n",
       "      <td>0</td>\n",
       "      <td>0</td>\n",
       "      <td>26</td>\n",
       "      <td>2</td>\n",
       "    </tr>\n",
       "  </tbody>\n",
       "</table>\n",
       "<p>3 rows × 24 columns</p>\n",
       "</div>"
      ],
      "text/plain": [
       "        date     source                                            content  \\\n",
       "0 2022-02-18    北京日报客户端                          有人从香港游泳偷渡到深圳湾被捕？假的！系轻生被救！   \n",
       "1 2022-02-18   大河报、羊城晚报   近日，社交媒体上一则题为“河南一位老爷爷考上清华大学被顶替”的消息引发网友关注和转发。消息...   \n",
       "2 2022-02-17  南方都市报、大众网   近日，网传湖南衡阳“南岳衡山寺庙”高薪招聘住持，月薪高达5万元，弹性工作制，下班后原则上不...   \n",
       "\n",
       "  province  user_0  user_1  user_2  user_3  user_4  user_5  ...  user_10  \\\n",
       "0       广东       0       0       0       0       0       0  ...        0   \n",
       "1       河南       0       0       0       0       0       1  ...        0   \n",
       "2       湖南       0       0       0       0       0       0  ...        0   \n",
       "\n",
       "   user_11  user_12  user_13  user_14  user_15  user_16  user_17  like  \\\n",
       "0        0        0        0        0        0        0        0     0   \n",
       "1        0        0        0        0        0        0        0    41   \n",
       "2        0        0        0        0        1        0        0    26   \n",
       "\n",
       "   source_num  \n",
       "0           1  \n",
       "1           2  \n",
       "2           2  \n",
       "\n",
       "[3 rows x 24 columns]"
      ]
     },
     "execution_count": 22,
     "metadata": {},
     "output_type": "execute_result"
    }
   ],
   "source": [
    "df['source_num'] = df_source_dum.sum(1)\n",
    "df.head(3)"
   ]
  },
  {
   "cell_type": "markdown",
   "id": "7b004a99",
   "metadata": {},
   "source": [
    "## 1.3 province列清洗"
   ]
  },
  {
   "cell_type": "markdown",
   "id": "bc988005",
   "metadata": {},
   "source": [
    "province列的缺失值代表不含地理信息，但是对于某些包含地理信息的谣言，province仍然是缺失的。为了让数据的信息更丰富，我根据谣言信息手动为province添加数据。"
   ]
  },
  {
   "cell_type": "code",
   "execution_count": 23,
   "id": "a88fd472",
   "metadata": {
    "scrolled": true
   },
   "outputs": [
    {
     "name": "stdout",
     "output_type": "stream",
     "text": [
      "4 在塞企业组织包机载客回国？中国驻塞内加尔使馆辟谣！\n",
      "\n",
      "6  元宵佳节，怎能不来一碗香甜软糯的酒酿汤圆呢？但人们在品尝酒酿汤圆美味的同时，往往忽略了酒酿汤圆含有酒精的事实。近日，有网友发现有商家上线了“食用酒酿汤圆后不要立刻驾车”的温馨提示，该提示上线后引发部分网友讨论：食用酒酿汤圆真的会造成酒驾吗？ 经徐汇交警核查，网传消息属实。食用酒酿汤圆后立即进行酒精检测，体内酒精含量确实会出现异常。 为了验证网传观点，徐汇交警特意录制了相关科普视频。在交警亲身试验过程中，一位交警食用了一碗酒酿汤圆后立即进行酒驾检测，真的出现了酒精超标的结果。不过，10分钟后再次检测，则恢复正常。对此，交警给出的解释，是因为酒酿汤圆中确实含有酒精。 除了酒酿汤圆，在生活中误食这些食物后立即驾车，也可能会“被酒驾”，比如：荔枝、蛋黄派、提拉米苏、腐乳、醉蟹、糟鸡、木瓜水、料酒、酒心糖……大家一定要注意在驾车之前避免食用这些食物。 若不慎误食而被测出“酒驾”，也不要紧张，可以向交警解释，并暂缓几分钟后再进行测试。 辟谣君提醒：酒酿汤圆虽美，但也可能带来“被酒驾” 的小麻烦，大家驾车前还是要注意避免食用哦。此外，元宵佳节，亲朋团聚，难免“久逢知己千杯少”，但也请务必铭记“开车不喝酒，喝酒不开车”。\n",
      "\n",
      "7 网传横州市马山镇太宁村有一阳性病例接触者？谣言！\n",
      "\n",
      "8  近日，社交媒体上流传视频称“三隆镇有户人整户感染新冠病毒”。 经灵山警方核查，网传视频为谣言！ 视频真实内容为三隆镇卫生院对居家隔离人员上门进行核酸采样。灵山县公安局三隆派出所民警依法传唤谣言发布者施某龙（男，28岁，灵山县三隆镇三隆村委人）到派出所进一步审查。 谣言发布者施某龙为搏人眼球，在未经核实的情况下，在网络上随意散布疫情不实信息，对社会造成了不良影响，对当事人造成了心理压力和精神伤害，其行为已构成捏造事实诽谤他人。 目前，施某龙已深刻认识到了自己的错误，对其散布不实信息的行为表示十分后悔，并写下保证书保证今后不会再犯类似的错误。根据《中华人民共和国治安管理处罚法》第四十二条第二款之规定，公安机关对施某龙处以治安行政处罚。\n",
      "\n",
      "10  2月11日晚，网传消息称“江南时代某快餐店食品阳性”。消息发布后，在余杭本地圈群中流传。 经余杭区疫情防控办核实，该消息不实。实则为防疫例行抽样检测，检测结果均为阴性。\n",
      "\n",
      "23  新春将至，关于冷烟花的话题逐渐升温。不少网友认为“冷烟花比普通烟花安全，可以放心购买使用”。 经中国互联网联合辟谣平台查证，这种说法有误。 冷烟花（如“仙女棒”、“舞台喷泉”）虽然会在燃放后温度迅速降低，但其依旧是易燃易爆危险品，燃放时，喷射口处的温度高达700-800℃，可以引燃周边可燃物并引发火灾。若运输过程不合格，也会存在很大安全隐患。\n",
      "\n",
      "27  1月28日，一则题为“砂糖橘吃多皮肤会变黄”的消息，冲上了各大热搜榜单。看到这则消息后，部分爱美的朋友因为担心皮肤变黄，不敢吃砂糖橘了！ 经辟谣2022年君查证，短期内摄入大量砂糖橘确实会让皮肤变黄，但一两周后就能白回来。 关于砂糖橘和橘子，辟谣君在过往已经发布多篇科普内容。就在2021年10月，正值橘子上市时，有人将吃橘子引发的皮肤变黄与肝病黄疸相关联，并恶意造谣吃橘子会伤肝。 吃砂糖橘导致皮肤变黄，是因为砂糖橘中富含胡萝卜素。短期内大量摄入胡萝卜素后，人体无法完全分解。这会进一步导致血液中胡萝卜素浓度升高，沉积在皮肤角质层和黏膜部位，出现黄皮肤。在医学上，这叫做“胡萝卜素血症”，与肝脏损伤后引发的黄疸完全是两码事。 事实上，不只是砂糖橘，橘子、胡萝卜、南瓜、木瓜等富含胡萝卜素的食物，大量食用后都会导致“胡萝卜素血症”。但只要停止食用这些富含胡萝卜素的食物后，只要一两周黄皮肤就会慢慢淡去。\n",
      "\n",
      "31  年关将至，网络上陆续出现了一些以“家庭平均年收入”“90后人群存款”等为核心内容的榜单。如配图所列的《2022中国城市家庭平均年收入百强榜》、《90后人均存款榜单》、《90后平均综合年收入调研报告》。 经有关部门和权威媒体核实，这些榜单可信度都极低，不仅没有权威统计数据作为支撑，榜单发布者也缺乏公信力。网上流传的“家庭月/年收入”“个人存款”等榜单都可视作假榜单。 2022年1月27日，上观新闻梳理发现，权威统计部门在发布相关榜单时，都不会涉及有关“家庭月/年收入”“居民个人存款”等与个人隐私相关的内容。 在国家统计局官网上，会公布“城镇单位就业人员平均货币公司指数”、“分地区分行业城镇单位就业人员平均工资”等数据，但从未发布过“家庭月/年平均工资”。 同时，银行对个人存款等客户隐私也严格保密，不会轻易泄露。也就是说，商业机构并不掌握“家庭月/年平均工资”“个人存款”等数据，网上流传的“家庭月/年收入”“个人存款”等榜单都可视作假榜单。 如果各位网民朋友，对某地生活情况感兴趣，可登录当地统计局官网，获取权威数据。\n",
      "\n",
      "36  1月23日，网上传言“华东师范大学退休教授李振潼在疫情封闭管理期间因事故过世”。据传言图片信息显示，老人在楼道跌倒后因救护车被挡在师大一村大门外，错过救治时机不幸去世。 1月24日，经华东师范大学核实，截图中的老人并非李振潼先生，实为现年86岁的周姓老人。周姓老人也是华东师大退休教授，居住在师大一村。老人于2022年1月21日早上在楼道跌倒，被120及时送至医院救治。目前，老人在普陀区某医院住院治疗。 而李振潼先生于2022年1月20日中午过世，享年84岁。李振潼生前患病，长期卧床，去世系自然死亡。一位目睹李振潼去世的退休教师表示，“李老走得很平静，就像平时睡觉一样。” 总而言之，网上的传言将两位老人混淆，并虚构了“救护车被挡在大门外，错过救治时机”这样的不实信息。这既是对逝者伤者的不尊重，也是对疫情封闭管理措施的误解。\n",
      "\n",
      "51  1月14日-1月15日，南太平洋岛国汤加的洪阿哈阿帕伊岛火山喷发，引发了全球网民的关注。这场地质灾害后，网络上流传着一则题为“汤加火山喷发监控画面”的视频。据该视频素材显示，平静的海面突然被火山爆发打破，大量火山灰和有害气体喷薄而出。 经过溯源查证，网传“汤加火山喷发监控画面”并非实景，更不是本次汤加火山爆发的画面。而是新西兰奥克兰战争纪念博物馆于2019年发布的地质灾害模拟动画。\n",
      "\n",
      "53  近日，有网民在社交平台发布消息称“我们（滦州市榛子镇麻湾坨村）这边有密集感染者了，请千万不要来”“古城街道某小区是风控区”。 经滦州市网信办、滦州市公安局核实，以上内容均不实！ 在发现“滦州市榛子镇麻湾坨村有密集感染者”的谣言后，1月13日，滦州网信通过官方渠道发布辟谣声明：该消息为不实消息。 1月14日，滦州市网信办通过官方渠道发布针对“古城街道某小区是风控区”的辟谣。经滦州市网信办、滦州市公安局调查，谣言发布者系王某，经约谈教育，王某充分认识到编造谣言问题的危害性，立即删除了违法违规信息，表示虚心接受市网信部门的教育引导，加强互联网法律法规学习，依法依规使用互联网。 当前，滦州市疫情防控各项工作稳步推进，疫情防控社会关注、群众关切。\n",
      "\n",
      "54  1月17日早上7点，法新社报道“根据监测发现，汤加海底火山发生了另一次大爆发”，后续该消息在我国社交平台上传播。 中午11点，法新社撤回报道，并发布声明澄清：新的火山喷发尚未获得监测机构确认，已删除相关报道。 1月14日和15日，位于南太平洋岛国汤加的洪阿哈阿帕伊岛火山喷发，多国发布海啸预警。有专家指出，事发地火山口已苏醒，喷发活跃期可持续数周甚至数年，尚不清楚目前是否已达喷发的峰值。 1月16日，外交部发言人汪文斌就汤加火山爆发答记者问，他提到：火山爆发后，中国驻汤加使馆第一时间启动应急预案，多方了解中国公民受灾情况，目前未接到中国公民伤亡的报告。中方也向汤加政府和人民表示深切的同情和诚挚的慰问，愿应汤方要求提供力所能及的支持和援助。\n",
      "\n",
      "60  1月14日，网传“古田街道陈家墩小区出现1例新冠确诊病例”。 经古田街道新冠防控指挥部核实，网传消息不实，该辖区未发现新冠肺炎确诊及阳性病例。 1月14日，古田街道新冠防控指挥部通过官方渠道发布声明，对网传谣言进行辟谣2022年澄清：“1月14日，为提高疫情防控应急处置能力，经向上级疫情防控指挥部报备，古田街道古南社区举行疫情防控实战演练活动。我辖区未发现新冠肺炎确诊及阳性病例”。\n",
      "\n",
      "65  近日，有人在社交平台发布消息称“周至县九峰镇出现9例新冠阳性病例”。 经核实，此为谣言！ 1月14日，周至县公安局通过官方渠道发布通报：谣言发布者系任某某（女，33岁，周至县楼观镇人），其散布谣言称“九峰镇出现9例新冠阳性病例”，扰乱网络传播秩序和社会秩序，致使群众产生恐慌情绪，造成不良影响。 目前，周至县公安局依据《中华人民共和国治安管理处罚法》第二十五条第一项之规定，对任某某处以行政拘留五日的处罚。\n",
      "\n",
      "66  近日，随着2022年全国硕士研究生招生考试初试结束，网上出现消息称“15校发布调剂信息！抢5所211”“两所院校预调剂系统开了！分还没出就开始了”“2022考研国家线有内部消息”“考研初试成绩未出，各高校打响抢人大战，多所高校宣布预调剂”“22考研调剂第一批院校信息来了，这些院校已经发布接收调剂考生”。 经研招网证实，以上内容均不实！ 1月13日，研招网通过官方渠道发布辟谣声明：对于网上有关“2022年研考调剂”等相关信息，经有关招生单位逐一核实确认，均为不实信息。 调剂工作是硕士研究生招生录取的重要环节。根据有关工作要求，各招生单位将按教育部有关政策制定本单位（含所属院、系、所）调剂工作办法，详细说明接收考生调剂的时间、基本要求、工作程序、调剂复试办法、联系咨询电话等信息，并在国家分数线公布后通过“全国硕士生招生调剂服务系统”和本单位网站发布调剂信息。 因此，目前还没有任何高校开放调剂系统，没有任何官方信息公布调剂时间、基本要求等。\n",
      "\n",
      "73  近日，网传消息称“夏津县平安湖社区出现新冠肺炎确诊病例”。 经核实，网传消息不实！ 1月12日，夏津县委统筹疫情防控和经济运行工作领导小组（指挥部）办公室发布《关于网传夏津县出现新冠肺炎“确诊病例”的情况说明》：网传夏津县平安湖社区出现新冠肺炎“确诊病例”，系不实消息，部分网民在未经核实的情况下，在网络上发布或转发与疫情相关的不实信息。\n",
      "\n",
      "76  近日，有人在社交平台发布消息称“听他人说城固某地出现阳性病例”。 经核实，此为谣言！ 经城固县公安局调查，城固籍居民孟某（女，56岁）、王某（女，27岁），两人在未经核实的情况下，将道听途说的虚假信息进行二次编造后发送至聊天群中。 警方对发布涉疫谣言的源头、途径、传播范围等进行了详细的调查，鉴于该二人未在大众的信息传播平台上散布，遂对二人进行了批评教育，责令其删除涉疫虚假信息，解散该聊天群。\n",
      "\n",
      "85  近日，网传消息称“春节期间快递即将停运”“再不寄快递就来不及了”。 经国家邮政局核实，网传消息为假消息！ 1月11日，国家邮政局通过官方渠道发布辟谣内容称：今年春节期间，国内快递的主要寄递企业均表示“春节不打烊”。 2021年12月，多家快递公司通过官方渠道发布通知称“启动‘过年不打烊’项目：2022年春节期间继续提供全年无休的快递服务”。节假日期间，快递时效将受到一定影响，快递价格也可能略有涨幅；其他日期提供常态快递服务。EMS、顺丰、中通、申通、韵达、德邦快递等多家公司均在此列。 12月30日，针对春节期间的快递服务，国家邮政局发出通知，要求节日期间各寄递企业统筹安排运营资源，提前做好运力和人力调配，维护基层网点运营稳定，切实保障节日期间人民群众用邮需求和行业安全稳定运行。\n",
      "\n",
      "90  近日，有永康市市民在社交平台发布核酸检测报告的图片称“玩完咯”，图片显示：吕某某的核酸检测结果为“阳性”。 经核实，以上消息不实！ 经永康市委网信办、永康市公安局迅速开展联合调查，发现该图系伪造。 目前，永康市公安局依法对吕某某处以行政处罚。\n",
      "\n",
      "95  近日，西安地区社交媒体流传消息称“东仪路青松公寓，4个80岁以上老人躲避核酸检测，导致一公寓800多人被拉定边沙漠隔离。包村干部畏罪跳河，被群众给捞上来了”。 经核实，网传消息为谣言！公安机关将依法追究恶意造谣、传谣者的法律责任。\n",
      "\n",
      "97  近日，有网友在社交平台发布消息称“四个国外运动员进京，核酸阳性，去三里屯玩了”“三里屯有些地方已被封”。 经核实，上述消息为谣言。 1月9日，北京警方发布官方通报表示，“境外入境人员拒不落实防疫措施擅自外出导致三里屯部分地区被封”为谣言。目前，犯罪嫌疑人陈某（女，39岁）因在多个微信群编造传播相关不实信息，已被依法刑事拘留，案件正在进一步工作中。\n",
      "\n",
      "111  近日，有机构以“参与国家发展改革委组织开展的中国营商环境评价”的名义，在部分城市招揽业务、收取费用。 经国家发展改革委法规司证实，以上内容不可信！ 2021年12月31日，国家发展改革委法规司发布官方声明：无任何单位、机构或公司就中国营商环境评价有关工作，与我委法规司存在合作关系。请各地方增强防范意识，谨防上当受骗。\n",
      "\n",
      "118  近日，网传一张《2022年全国物流停运时间表》，详细标注了全国各省的物流停运时间，并称“临近春节假期，部分区域因为疫情原因，快递服务将提前停运”。 经核实，以上消息不实！多家快递公司均已发布官方通知，表示春节期间将持续服务。 德邦快递通过官方渠道宣布“春节不休”；申通快递、中通快递、韵达快递等，也均在官网发布公告，宣布启动“过年不打烊”项目：2022年1月30日（腊月二十八）至2月4日（正月初四）继续提供全年无休的快递服务，但节假日期间快递时效将受到一定影响，快递价格也可能略有涨幅；其他日期提供常态快递服务。 当前，一些商家宣称“快递即将停运”，催促买家“加紧囤货”“再不买就买不到”等，是一种营销行为，目的就是希望客户能够尽快付款下单。\n",
      "\n",
      "120  近日，有靖边县居民在社交平台发布核酸《检测报告单》并称自己“核酸检测结果为阳性”。 经靖边县公安局于1月3日发布通报证实，此为谣言！ 经警方调查，谣言发布者张某某（女，15岁）于1月1日进行核酸检测，次日使用图片编辑软件，将自己的核酸检测结果由“阴性”改为“阳性”，为与同学开玩笑，将伪造图片发给袁某某（女，15岁）。在明知该检测报告结果为虚构消息的情况下，袁某某将消息发送至聊天群并引发了进一步传播。张某某、袁某某对自己的违法行为供认不讳。 目前，张某某、袁某某因涉嫌散布谣言故意扰乱公共秩序被靖边县公安局依法处理。\n",
      "\n",
      "132  近日，有人在社交平台发布消息称“从2022年1月1日起，在京人员只出不进，2022年3月份以后才能返京”。 经北京警方核实，以上消息不实！ 12月31日，北京市公安局通过官方渠道发布情况通报：犯罪嫌疑人系刘某杰（女，52岁）、刘某有（男，49岁），二人对自己凭空臆断，编造上述谣言并在微信群中传播的行为供认不讳。 目前，二人已被警方依法刑事拘留。案件正在进一步工作中。\n",
      "\n",
      "136  每到寒冷的冬天，身边的长辈就会频频提醒“穿秋裤，不然老了会得风湿病、关节炎”“现在不穿秋裤，会‘冻’出老寒腿”！ 然而，以上说法并不严谨客观。下面，辟谣君就和大家聊聊关于秋裤和的误解和真相！ 首先，任何年龄阶段的人都有可能得关节炎，这种病并非老年人的“专利”。作为一种十分常见的慢性疾病，各种类型的关节炎性都属于关节炎，从儿童到老年人均有患病的可能。 其次，是否穿秋裤，和会不会得风湿病、关节炎之间没有直接关系。 风湿病、关节炎主要受遗传、环境、感染、自身体质等多种因素影响，生活中最为常见的是风湿性关节炎和类风湿关节炎。风湿性关节炎是由溶血性链球菌感染产生的，而类风湿关节炎是一种自身免疫性疾病。 然而，疾病虽然本身和低温、潮湿无关，但患者患病后，身体状况却会受到温度、湿度和气压等因素的影响，对天气变化更加敏感。在温度转凉、下雨之前、环境潮湿时都可会出现关节疼痛加重的现象。 因此，忽略保暖虽不会直接导致风湿病、关节炎，但并不利于关节的保护，还可能引起其它疾病。在日常生活中，我们依然要适时穿上秋裤，注重保暖。 那么，应该如何正确穿着秋裤呢？\n",
      "\n",
      "140  年关将至，网上又出现2022年“酒驾新规”：“酒后在封闭式小区停车挪车不算酒驾；酒后突发紧急情况向110备案就不算酒驾；酒后不能发动车辆，包括开空调、开车载都不行。” 经核查，上述“新规”均为谣言。 首先，向社会开放通行的小区、单位内部道路、公共停车场、地下车库等均属于道路的范畴。只要机动车在道路上发生了物理上的位移，即可认为驾驶行为已经完成。所以，在小区、停车场挪车的行为会被认定为在道路上驾驶机动车。酒后挪车是绝对不允许的！ 其次，公安交管部门并没有“酒后拨打110备案就可以开车”的规定。虽然在法律判定时会判定酒驾车主构成紧急避险，不负刑事责任。但这也是极少数的特殊情况。在现实当中，紧急避险要结合事发时的实际情况、当事人动机、行为后果等等综合考量，一般适用情况极少。 最后，如果仅仅只是醉后在车里休息，是不算酒驾的。但如果出现了车辆移动、打火、放手刹等行为，一样会被追责。\n",
      "\n",
      "143  近日，网传消息称“用于检测新冠病毒的棉签含有环氧乙烷，可能导致癌症”。 经核实，以上内容不实，系误读！ 首先，构成棉签的材料本身和环氧乙烷无关，但环氧乙烷作为一种可灭菌消毒的气体，可能会在棉签生产过程中被使用。 其次，作为常见灭菌方法之一，使用环氧乙烷灭菌有助于确保医疗设备的安全。在医院等场所，用环氧乙烷对口罩、手术服等卫生用品消毒安全有效，十分普遍。 再次，虽然环氧乙烷本身的确是一种致癌物，但其必须积累到一定量才会产生危害。同时，在相关产品生产出厂时，需接受环氧乙烷检测，只有符合国家安全标准的产品才能上市。另外，环氧乙烷易挥发，当产品辗转多个渠道开始使用时，产品上的残留物质微乎其微。 因此，在进行新冠病毒核酸检测时，医护人员使用的棉签都是经过正规生产、消毒灭菌符合安全标准的产品，并不会对人体健康产生影响，广大市民无需恐慌。\n",
      "\n",
      "159  近日，有网传消息称“只要皮卡的货箱长度不超过1850cm、载重不过500kg，且并非三面全开，便可申请变更为乘用车，取消15年强制报废”“皮卡要划到乘用车，取消15年强制报废”。 经中国皮卡网证实，以上内容不实，系对即将于2022年5月起实施的皮卡车技术标准的误读！ 皮卡车技术标准的正式名称为《多用途货车通用技术条件》，由工信部下属的全国汽车标准化技术委员会整车分技术委员会牵头制定。该标准明确了皮卡车的术语定义、尺寸、质量、功能、性能等有关要求，规定了皮卡的客用属性、牵引功能等。但该技术标准实际上是推荐性国家标准，生效后并没有强制执行的权利，可作为技术层面的参考手册。 之所以要制定该文件，是因为国内目前对皮卡车属性一直没有明确的参考与区分标准，在国家出台多项皮卡利好政策后，模糊的标准难以推动利好政策的有效实施。为了享受进城红利，市场上也出现了将“微卡卡车”改为“皮卡车”的产品，让皮卡解禁的推动作用大打折扣。 该标准制定后，有利于突出皮卡自有的多用途优势，确认皮卡车以“多用途货车”独立存在的身份，不再与其它车型混淆，推动相关利好政策的落地实施。同时，参考标准的制定有利于改变各地各地执行皮卡解禁标准不一、进度不一、落地不实的情况。\n",
      "\n",
      "160  近日，有彬州市民在社交平台发布图片称自己“核酸检测报告呈阳性”。 经彬州市公安局核实，以上消息不实！ 12月23日，彬州市公安局发布通报称：谣言散布者邹某、郭某用图片编辑软件，将本人核酸检测报告的阴性结果修改为阳性并发至社交平台。王某、孙某、郑某等人在不明真相、未经核实的情况下将图片转发到多个公众社交平台，造成了不良影响。 王某等人对其违法事实供认不讳，依据《中华人民共和国治安管理处罚法》第二十五条第一项规定，王某等5人涉嫌虚构事实扰乱公共秩序，被彬州市公安局依法处以行政拘留。\n",
      "\n",
      "162  年关将至，近期，关于“休年假”的讨论话题冲上热搜榜单，不少人都看到消息称“年假不休就相当于白白作废”“年假不能跨年休”“休完年假就不能享受‘全勤奖’”……引起了大伙儿的疑惑：这年假该不该休？又该怎么休？ 事实上，以上网传消息并不属实！\n",
      "\n",
      "163  鱼腥草是不少南方人饭桌上的常客，可最近网上出现消息称“鱼腥草因含有马兜铃内酰胺，会导致肾病、肾癌”。 经核查，这个说法有失严谨，鱼腥草适量吃是没什么问题的。 首先，被国际癌症研究机构（IARC）列为Ⅰ类致癌物的是马兜铃酸，其主要代谢物是具有肾毒性的马兜铃内酰胺A-Ⅰ。而目前的研究普遍认为，鱼腥草中含有的是肾毒性不明确的马兜铃内酰胺A-Ⅱ。 在此前，国家食品药品监督管理总局就已经辟谣称，“鱼腥草因含有马兜铃内酰胺会导致肾癌”的逻辑推演不够严谨，结论有失慎重。 其次，临床研究显示，晒干后的鱼腥草，其马兜铃内酰胺的含量仅为0.016g/kg，换算成新鲜的鱼腥草这个含量更低。每日适量食用15-30g的话，摄入体内的马兜铃内酰胺含量几乎可以忽略不计，不会对健康有什么负面影响。 因此，只要适量，是可以放心食用鱼腥草的。 不过，\n",
      "\n",
      "169  近日，网传消息称“兴平市将于12月23日进行全员核酸检测”“12月23日，兴平市全员做核酸，从幼儿园到老人，带上身份证，每个广场都有采集点，免费，免费，24小时采集，请大家相互转告，全民抗击疫情”。 经兴平市疫情防控指挥部办公室证实，以上消息不实！ 兴平市疫情防控指挥部办公室于12月22日通过官方渠道发布声明，兴平市的全员核酸检测各项准备工作正在积极筹备，全员核酸检测工作将根据疫情防控工作安排适时启动，启动具体时间及安排以官方发布为准。\n",
      "\n",
      "171  近日，有网传消息称“感冒后不能吃鸡蛋”“吃鸡蛋会产生额外热量，使人体温度升高，加剧发烧症状”。这引起了很多网友的担心。 然而，以上言论并不属实！ 所谓“吃鸡蛋会使身体温度升高”的说法，是基于“食物热效应”，即人们进食后，机体会因为消化食物而引起额外的能量消耗，其外在表现便是可能使体温升高。 相对比于碳水和脂肪，蛋白质的食物热效应更多。一个鸡蛋的蛋白质约为6克，产生的食物热效应约为8千卡。这点热量对人体的影响微乎其微，对于体温的作用更是可以忽略不计！ 同时，人在感冒发热时，身体的新陈代谢增加，蛋白质分解增加。而鸡蛋的蛋白质含量较丰富，且生物利用率高，比肉类更容易被人体吸收利用。感冒期间食用鸡蛋可以及时补充身体营养，有助于早日康复。 所以说，感冒发烧后不能吃鸡蛋纯属谣言！ 不过，\n",
      "\n",
      "177  近日，中国印钞造币总公司陈耀明涉嫌严重违法违纪，主动投案，引发社会关注。有人称其“疑似因私印‘同号钞’2万亿”。 经中国人民银行货币金银局有关负责人证实，“私印‘同号钞’2万亿”的说法不实，造谣性质恶劣！ 12月22日，中国人民银行发布官方声明，我国人民币印制发行有严格的工作程序和技术标准，中国人民银行一直依法依规开展相关工作。银行对造谣、传谣行为严厉谴责，目前已经向公安机关报案。\n",
      "\n",
      "181  近日，网传消息称“一对夫妻相继确诊肝癌，主要原因是整天用的电饭煲有很大的关系”“世界卫生组织呼吁：停止使用电饭煲，或是肝癌的催化剂”“小心电饭煲内胆剧毒，涂层脱落后还会致癌”。 经证实，以上消息不实，电饭煲不会致癌！ 首先，世界卫生组织从未公开发表过关于“停止使用电饭煲”的呼吁，在世界卫生组织官方网站查询后也没有相关消息。 其次，经科学研究证明，电饭煲的特氟龙涂层，具有极强的耐高温及耐火性能，工作过程中的高温不会导致涂层产生毒性。由于涂层具有优异的化学稳定性，耐腐蚀，即便有少量涂层脱落并混入米饭，被食用后也不会致癌。 同时，电饭煲内胆磨损，涂层脱落后，食物中可能会渗入少量的铝。央视曾发文表示：渗入食物中的铝含量少到几乎可以忽略不计，大可不必担心。但电饭煲磨损严重时建议及时更换，以避免影响使用。 因此，网传谣言并无科学依据，\n",
      "\n",
      "183  年关将至，假日临近，每当广大旅客着手购买火车票时，都会有各类“抢票加速包”刷屏，称“转发给好友加速，有优先出票权”“可享受VIP通道抢票”。 然而，经铁路12306回应证实，以上消息不实！“抢票加速包”没有优先购票权！ 铁路12306表示，“抢票加速包”并非官方功能，无法保证为用户优先出票、VIP通道抢票等。用户使用任何购票平台和APP买票，最终都需要在铁路12306购票系统中排队出票。 目前，12306官方已出台免费候补购票服务，用户如遇所需车次、席别无票，可在线排队候补。当对应车次、席别有退票时，系统将自动按照候补顺序出票。 疫情期间，列车运行信息可能因疫情防控需要有所变更，\n",
      "\n",
      "191  12月16日，有人在社交平台发布消息称“自己的亲戚被隔离在新昌火葬场”。 经核实，以上消息纯属谣言！ 经警方调查，网传消息中提到的被隔离者，实为当地火葬场的工作人员，目前居家隔离在殡仪馆附近一村子的村民家中，并非在火葬场隔离。 目前，公安机关已对造谣者进行批评教育，造谣者已在网上做出了解释和声明。\n",
      "\n",
      "199  近日，有网传消息称“有新冠肺炎特效药上市”“美国特效药治愈效果100%”“服用日本特效药后，5天就能治愈新冠”。 经核实，以上内容不实！ 目前，中国、美国、日本等多国都在加紧研发治疗新冠肺炎的药物，但相关药物的具体疗效如何、何时正式上市都还是未知数。 12月8日，我国国家药监局应急批准了某公司新冠病毒中和抗体联合治疗药物“安巴韦单抗注射液（BRII-196）及罗米司韦单抗注射液（BRII-198）”的注册申请，据介绍，这两个药物可联合用于治疗轻型和普通型且伴有进展为重型高风险因素的成人和青少年新型冠状病毒感染患者。目前，药物正处于临床研究阶段。 美国的新冠特效药Molnupiravir（中文译作“莫努匹韦”）自研发后，在临床试验中取得了一定效果，但是否能成为抗新冠病毒的特效药，还有待在真实世界进一步观察。 日本研发的新冠特效药是小分子口服药“S-217622”，但该药目前尚未获批，目前正处于临床试验阶段。\n",
      "\n",
      "201  近日，网传一段“失明男舞者动情演绎探戈”的视频，视频配文称“因为热爱！心里有光！致敬舞者！失明男舞者动情演绎探戈，他的耳朵犹如蝙蝠般能测周围的声音、距离”。画面显示，一男一女正在进行花滑冰舞，男子闭着双眼。 然而，以上内容不实！该男子是花样滑冰冰舞选手Ivan Bukin，并非视障人士！ 视频中，Ivan Bukin和搭档Alexandra Stepanova和是来自俄罗斯的花样滑冰冰舞选手，自2006年起搭档至今。网传视频画面系两人于2017世锦赛的自由舞《探戈舞曲》，男伴Ivan Bukin在开场时，为配合表演意境与音乐氛围而闭上眼睛。这一瞬间经部分自媒体恶意解读并传播后，演变成了“失明男舞者跳探戈” 据悉，该二人组合曾多次于花样滑冰冰舞比赛中获得名次，贡献了很多广为流传的精彩画面。\n",
      "\n",
      "202  近日，临安某男子加入了一个“炒股推荐群”，在群里“老师”的指点下“赚”了十余万。其后，“老师”推荐该男子下载某APP，并称“内部渠道，注册有限，充值越多赚得越多”。 然而，该“内部渠道”实为诈骗，该男子在注册充值后，被骗93.2万元！ 网传各种“投资”的“内幕消息”“内部渠道”，并没有正规资质，都是不法分子提前设下的陷阱。一旦用户下载了这些来路不明的APP，或加入未经核实的投资理财群，就会不知不觉迈入不法分子的圈套。\n",
      "\n",
      "205  近日，有人在社交平台发布消息称“乘坐地铁经过萧山，健康码会变成红色” “经过萧山建设四路与博奥路交叉口附近，健康码会变成红色”“在建设四路附近800米内停留，健康码会变成红色” “北干街道居民就医，医院不接收”等消息。 经核实，以上内容均不实！ 萧山区疫情防控办回应表示，乘坐地铁经过、前往萧山，健康码均不会变红。经过建设四路与博奥路交叉口附近，通常情况下，健康码也不会变红。但有少数特殊情况出现，如果经过该路段健康码变成红色，联系所在社区进行核酸检测，检测结果呈阴性，即可恢复“绿码”。 萧山区卫健局与萧山区疫情防控办相关负责人表示，目前萧山区“绿码”持有者均可正常就医；“红码”或“黄码”持有者，待核酸检测呈阴性，恢复“绿码”后，即可正常就医；若“红码”或“黄码”持有者遇需第一时间进行诊疗的特殊情况，可联系所在医院医护人员，在做好疫情防控工作下，进行急诊就医。\n",
      "\n",
      "206  近日，有人在社交平台发布消息称“周巷排查92人去上虞烧香拜佛，三个村封了”。 经核实，以上消息不实！ 目前，周巷所有村（社区）均无封村情况。\n",
      "\n",
      "208  近日，网传消息称“华侨大学停办”。 经核实，此为谣言！ 12月14日，华侨大学通过官方渠道发布声明，关于“华侨大学停办”的虚假信息，给学校声誉带来了严重损害，学校已经报警。华侨大学1960年由中央政府创办，是国家重点建设的大学，办学61年来为海内外培养大批优秀人才，在国内和海外享有良好声誉。对于虚假信息的编造者传播者，学校保留依法追究其法律责任的权利。\n",
      "\n",
      "211  近日，随着“元宇宙”概念的升温发酵，网上浮现出很多“元宇宙区块链游戏”的投资服务，称“买家投资人民币后，商家帮忙换成相应虚拟货币，辅助买家合成所投资的装备，在游戏过程中可以赚钱理财”“可以和投资者签订投资理财协议，进行托管”。 经核实，以上只是借元宇宙概念进行炒作推广的骗局！ 这些以“元宇宙”为名义的区块链游戏，实为网页小游戏，开发成本很低。用户要想参与，需要先将人民币兑换为USDT币（一种以区块链为基础的加密虚拟货币），再兑换为游戏专用虚拟货币。 然而，在2017年9月4日，中国人民银行、中央网信办等七个部门曾联合发布关于防范代币发行融资风险的公告，明确指出：所谓“虚拟货币”，本质上是一种未经批准非法公开融资的行为，涉嫌非法发售代币票券、非法发行证券以及非法集资、金融诈骗、传销等违法犯罪活动。我国也明令禁止各个金融机构和非银行支付机构进行“虚拟货币”交易的服务。 商家宣称可以“投资看涨”“赚钱理财”，实则是不断拿后续入场用户支付的资金来填补前面的窟窿。 尽管有商家号称“签订协议，进行托管”，但其合同内容并没有任何关于投资收益的相关说明和保证，却要求托管人需要每月支付一定费用。这种协议本质并非投资理财协议，本质上也没有任何保障作用。投资者不仅需要每月支付一定费用，没有收益保障，一旦发生巨额亏损只能自己承担，商家则拿了钱全身而退。\n",
      "\n",
      "218  近日，随着上虞疫情突发，网传上虞要建立方舱医院，“区政府要建两个方舱医院，一个在华通体育馆，一个在原古越蓄电池厂房内”。 经有关部门核实，网传消息为谣言。上述两处地点将作为我区疫情防控临时隔离点，并非方舱医院。\n",
      "\n",
      "219  近日，一则题为“来自于越城医护团队的求救sos”的图片在社交媒体上流传。据图片内容显示“上虞宾馆目前缺少保暖物资、棉被、保暖衣等”。 11日上午，经相关部门核实，网传消息纯属谣言。 有关部门负责人回应：“上虞宾馆目前并不缺物质，目前这个传言现在已给工作人员造成较大困扰”。\n",
      "\n",
      "220  12月11日晚间，网传消息称“上虞隔离的人跑到了慈溪”“交警特警查了一天还在继续盘查”，消息发布后引发部分网友担忧。 经慈溪市网信办核实，网传消息为谣言。\n",
      "\n",
      "222  近日，有人收到短信称“全国社保卡统一升级电子版本，需点击附加网址在线办理”“限期升级社保卡，过时将被注销”。 经人力资源社会保障部证实，此为谣言！ 人力资源社会保障部门发送的社保卡办卡（电子社保卡申领短信）短信，不会附加任何不明网址，更不涉及输入任何个人资料、银行账号等私密信息。 不法分子发送的虚假短信冒用官方名义，诱导用户点击链接，按照网页提示填写个人姓名、身份证号、手机号、付款账号和支付密码，一旦提交信息，个人账户就会被连续扣款。\n",
      "\n",
      "227  12月9日，有人在社交平台发布消息称“在象山县的丹城中心卫生院，看到一女孩核酸检测阳性”“医生说是因为打过什么疫苗”。 经象山县疫情防控指挥部核实，此为谣言！ 12月5日以来，象山县全面落实风险人员排查、发热病人闭环管理、重点人群风险监测等疫情防控措施。截止目前，已开展新冠病毒核酸检测累计19105人次，检测结果均为阴性。\n",
      "\n",
      "231  近日，网传一则视频称“千万别让孩子穿纸尿裤”“纸尿裤根本不透气，会影响男孩的生长发育”“不穿纸尿裤的男孩才能长得健壮”。还有人认为，穿纸尿裤会穿出O型腿，穿完“红屁股”，纸尿裤对身体不好。 其实，以上言论并不属实，系对纸尿裤的误解。 之所以有人会认为纸尿裤影响生长发育，是因为穿着纸尿裤会导致睾丸温度升高，精子数量因此下降，因此影响生长发育。 然而，男孩在青春期、性发育成熟之前，睾丸并不会产生精子，即便穿纸尿裤使睾丸附近的温度升高，也没有影响。同时，也没有任何证据表明穿纸尿裤会影响睾丸的发育。 有人担忧“长期穿纸尿裤的宝宝会不自觉摆出O型腿，影响日后的腿型”。实际上，无论是O型腿、X型腿，和纸尿裤都没有关系，反而和孩子们的年龄密切相关。 通常来说，由于胎儿在母亲肚子里时为蜷缩状，双腿呈现O型，这种腿型在胎儿出生后还会延续至2岁左右。2岁以后，宝宝们为了适应生理需求，进行蹲起、走路等，下肢就会进行自我调节，逐渐向X型改变，但到6岁左右，X型的弧度也会逐渐变小，长为正常腿型。 因此，O形腿是宝宝在生理发育过程中产生的自然现象之一，并非纸尿裤的“锅”。但也需注意，若在7岁以后还有腿型异常、身高过低等问题，则需要考虑是否接受正规化治疗。 另外，还有很多父母害怕孩子穿出“红屁股”，而拒绝给孩子穿纸尿裤。殊不知，导致孩子“红屁股”的并非纸尿裤本身，而是因为排泄物长期积累，接触到宝宝的娇嫩皮肤，产生了刺激。 就算不用纸尿裤，宝宝依然会因为积累的排泄物产生红屁股，若想预防、减少这种现象的发生，最好的办法就是勤于更换宝宝的卫生用品。\n",
      "\n",
      "238  12月8日，网传消息称“萧山某商城25楼的瑜伽馆2人确诊，没事别去”“瑜伽馆已经闭馆，在该商场上班的人赶紧自查”。 经商场工作人员与社区工作人员证实，此为谣言！\n",
      "\n",
      "241  近日，有网络媒体以“山东大学”名义进行高等学历继续教育的招生宣传，称“每天学30分钟，学费1980元起，最快1.5年就可以拿山东大学本科毕业证”。 经山东大学回应证实，此类信息均为虚假宣传！ 12月6日，山东大学继续教育学院发布官方声明，目前自媒体平台所有涉及山东大学学历继续教育招生的宣传广告均为虚假非法广告。这些虚假广告层出不穷，内容严重失实，严重违反有关法律法规，损害人民群众的利益，影响学历继续教育的社会声誉和山东大学的办学声誉。 山东大学继续教育学院关于成人学历教育、网络学历教育等相关招生宣传信息，均会通过官方渠道发布。若有疑问可及时拨打继续教育学院服务热线：400-0110-422，或招生咨询电话：0531-88363281/88364271。 目前，山东大学继续教育学院正在与广告发布平台交涉，要求尽快撤稿。\n",
      "\n",
      "243  受两名非法入境阳性感染者事件影响，横州市有多处地方需要进行封闭管理。近日，有人在社交平台发布消息称“横州市有4例新确诊病例”。 经核实，此为谣言！ 经横州警方调查，造谣者谢某飞、谢某扬、陆某三人分别在社交平台编造并传发不实涉疫信息，严重扰乱了公共秩序。 12月6日，横州警方根据《中华人民共和国治安管理处罚法》相关规定，对谢某飞、谢某扬、陆某虚构事实扰乱公共秩序的违法行为，分别依法处以行政处罚。\n",
      "\n",
      "244  近日，网传消息称“从明年开始，新车强制安装‘黑匣子’（EDR）”“行车记录仪将被淘汰”。 经核查，该消息不实。 汽车“黑匣子”也就是EDR（Event Data Recorder），是汽车事件数据记录系统。它能够记录汽车发生事故前、中、后三个阶段的关键运行数据，对道路交通事故分析鉴定提供有价值的依据。 今年发布的GB7258-2017《机动车运行安全技术条件》国家标准2号修改单显示，自2022年1月1日开始，新生产的车需要配备符合规定的EDR，若配备了车载视频行驶记录系统，也就是我们常说的行车记录仪，仍视为满足条件。 因此，网传“强制安装EDR”并不属实，安装符合规定的行车记录仪也是可以满足新车出厂标准的。\n",
      "\n",
      "247  近日，有人在社交平台上称“自来水有氯，经过加热后氯会全部附在食物上”“氯有致癌的危险”。 经核查，上述言论不实。大家可以放心使用自来水蒸煮食物。 自来水的原水来自江河湖海，进入自来水厂后会经过沉淀、消毒、过滤等工序。水厂一般使用在水中加氯的方式进行消毒。 通常来讲，出厂的水就已经达到了纯净标准，但还会经过很长的管道运输才能到达居民家中，所以为了确保安全，出厂的水中会含有少量的氯和其他消毒剂，来应对途中可能滋生的细菌。 既然水中含有微量的氯，那人体接触到后是安全的吗？ 首先，氯很容易挥发。将自来水静置一段时间或者煮沸，就可以直接将水中的氯去掉。所以用自来水煮东西、洗菜等是完全没问题的。 其次，一般情况下，我国自来水中的余氯含量低于每升1毫克，远小于世卫组织规定的每升5毫克标准，所以也不用担心会对身体有什么危害。 最后，网传“氯会致癌”也并没有科学依据。目前在国际癌症研究中心发布的“致癌分类”中，氯的定位是“尚无足够资料来确定该物质是否为人类致癌物”。\n",
      "\n",
      "251  12月3日，国家医保局公布了《2021年国家医保药品目录》的调整结果，“医保目录药品谈判现场”的视频也冲上了热搜。视频中显示，经多轮谈判，治疗罕见病“脊髓性肌萎缩”（SMA）的“诺西那生钠注射液”不仅价格由一针70万人民币，降价到了一针3万多（具体金额暂未公布），还纳入了医保报销范围。这些举措都将极大减轻患者的家庭经济负担。 在国家医保局将“诺西那生钠注射液”的价格“打下来”后，有网友指出“这种药在澳洲只要205块人民币”“直接从澳洲进口不就完了”。 经核查，网友们的这些说法并不正确。实际上，针对“诺西那生钠注射液在澳洲只要200多”的言论，国家医保局在2020年就已经回应过了。 根据澳大利亚药品福利计划网站的公开信息，“诺西那生钠注射液”的政府采购单价为11万澳元（约49万人民币）。该药已被纳入澳洲药品福利计划，患者只需要支付41澳元/支（约183人民币）的价格就可以接受治疗。 因此，网传“41澳元”并不是该药在澳洲的药品价格，而是澳洲患者享受福利后需要支付的价格。据悉，在澳洲药品福利计划中，只有本国居民和部分符合条件的外国居民才可享受到药品福利，“从澳洲进货”简直是无稽之谈。 在此次国家医保药品目录调整中，新增了74个品种，精准补齐肿瘤、慢性病、抗感染、罕见病、妇女儿童等用药需求，像治疗SMA的“诺西那生钠注射液”、治疗阿兹海默病的“甘露特钠胶囊”就在其中。 （\n",
      "\n",
      "253  近日，网传视频称“上林县大丰镇东春村出现新冠肺炎疫情病例”。 经核实，此为谣言！ 经上林警方调查，谣言发布者韦某某、彭某某在未经核实的情况下发布了不实涉疫信息。警方在抓获造谣者后对其进行了严厉批评教育，使其认识到造谣传谣行为的错误性，并依法对二人处以治安处罚。\n",
      "\n",
      "257  很多人在装修新家后，都会被甲醛困扰。甲醛不仅气味刺鼻难闻，还会对人体健康产生威胁，短期生活在甲醛环境中会引起皮肤过敏，诱发头痛头晕、恶心呕吐等，长期暴露在高浓度甲醛环境中，还存在致癌风险。因此，人们为了去除甲醛做了很多努力，养绿植净化甲醛，用柚子皮、橘子皮吸收甲醛，点蜡驱散甲醛…… 然而，以上这些做法都无法有效去除甲醛，今天，辟谣君就和大家聊聊，关于除甲醛的误区和真相！ 民间常有“绿植能除甲醛”“除甲醛就买吊兰，吸甲醛之王”等说法。实际上，绿植经过光合作用，能够吸附一定量的甲醛并产生氧气。很多人因此产生了绿植能除甲醛、净化空气的看法。但植物对甲醛的吸收量其实非常有限，倘若房屋空间较大，仅仅几盆绿植，去除甲醛的作用微乎其微。 除绿植外，有些人会在室内放柚子皮、橘子皮等来吸甲醛。殊不知，水果皮不仅没用，还可能适得其反。由于柚子皮等含有大量水分，放置后会使得空气湿度增加，甲醛在湿度较高的环境中会加速释放，反而不利于人体健康。 还有人为了驱散甲醛的气味，会在橱柜内放水果、香薰蜡烛等，但这些方法都是“治标不治本”。水果的香气能掩盖甲醛的气味，但无法分解或去除有害物质。而香薰蜡烛在燃烧时，甲醛会和蜡烛的成分发生反应，在氧气作用下转化成甲酸，与人争夺室内氧气，还会产生一氧化碳、灰烟，吸入后对人体健康有害无利。 说了这么多，究竟应该如何去除甲醛呢？\n",
      "\n",
      "258  近日，网传消息称“中国一公司向中东出口大量煤气罐制作炮弹，狂赚3个亿”，配图中，地上摆放着几排形如“煤气罐”的炮弹。 经核查，上述消息不实。 首先，图片最早于2014年由美联社发布，新闻中只提到这些武器是叙利亚政府军于某街区缴获的，并介绍到这是一种名为“火山”的反政府武装“自制大炮”。但全文并未称这些名为“火山”的武器与中国有关。 其次，根据网络公开信息，网传公司的确向中东地区出售过煤气罐。 但第一，该公司于2017年才收到第一笔来自于中东的订单，与网传图片出现的最早时间2014年不符。 第二，该公司的第一笔中东订单来自于也门能源部，据悉，自2015年也门内战以来，也门的国民生产总值下降了40%，煤气能源短缺，煤气罐缺口极大。 此后，该公司不断接到来自也门发来的订单，但截至目前，配图的发生地“叙利亚”并不在其电商网站的“目的地”列表中。\n",
      "\n",
      "262  相信很多朋友都会出现这样的经历：感觉痰卡在喉咙处，咳不出来，干脆咽下去，虽然有点恶心，但嗓子舒服多了。还有些人认为，咳痰不卫生、不方便，不如咽了之后直接让身体去消化分解。   那么，痰真的适合被咽下吗？咽下后对身体没有影响吗？今天，辟谣君就来和大家“痰”论真相！   首先，辟谣君提倡，当人感觉有痰时，最好的做法是咳出来。   痰液作为身体的分泌物，健康状态下，由水、盐分和抗体构成。正常情况下这些分泌物静静地待在呼吸道表面，我们是感受不到的。这些液体能够粘附进入气道内的细菌、病毒、杂质等，当吸附的物质达到一定数量时，人体呼吸道表面的“绒毛”就会将痰液送到喉咙部位。这时候，我们就能感受到：痰来了。   正常情况下，到达喉咙的痰，除了含有水、盐分、蛋白质、吸入的灰尘等，还有进入身体后被免疫系统成功抵抗的细菌等微生物的尸体。如果咽下去，这些东西会随着消化系统的工作，被胃酸分解，通常来说不会对人体造成影响。但为了减少不必要的“杂物”进入体内，将痰咳出来是最好的选择。   其次，如果病人患有特殊疾病（如肺结核），感染了较多有害细菌时，这时候咽下去的痰会含有更多的有害物质，消化系统未必能处理干净，可能进一步引发感染，患有肺结核的患者还可能因此患上肠结核。把痰咳出来可以减少健康隐患，但在咳痰时同样应做好防护，防止痰中的细菌在空气中传播。   最后，如果咳出的痰出现了以下几种情况，就需要注意了！ 1.白色粘痰。感冒初期的患者、烟民和患有慢性气管炎、支气管炎疾病的中老年会出现这类痰。 2.黄色浓痰。黄色浓痰说明身体内有炎症，患有肺炎、肺脓肿等疾病的患者会咳出黄痰。如果发现身体出现不适，应该及时去医院就诊。 3.黄绿色浓痰。黄绿色的痰液是铜绿假单胞菌感染的特定表现，常见于支气管扩张继发的铜绿假单胞菌感染，一旦发现要及时去医院接受专业诊疗。 4.带血丝痰液。如果不是口腔内有伤口导致痰液带血，则需要考虑肺结核和支气管扩张的可能性，同时，左心衰竭肺水肿患者的痰会出现粉红色泡沫，一旦出现这些情况，也要及时去医院确认病因。\n",
      "\n",
      "264  近日，一男子在某地火车站，拨打了119火灾报警电话和110公安报警电话，称“起火了”“需要警察帮忙进站”。 经核实，以上内容均系造谣！ 造谣者罗某在该地火车站进站时，其手机无法显示正常健康码，不能确认健康状态，被工作人员拒绝进站。罗某因此心生不满，将核验处的栏杆推倒在地，还拨打了110，要求民警帮助自己进站。 同时，罗某还以起火为由，拨打了119。接到电话后，消防部门出动了6部消防车和35名消防员，发现并没有火情，事后罗某还辩解称“心里有火”。 目前，罗某已被当地铁路警方法依法处以刑事拘留的处罚。\n",
      "\n",
      "268  12月1日，关于“蚊虫叮咬会不会传播艾滋病”的讨论冲上热搜，有网友称“如果被曾经叮咬过艾滋病患者的蚊子叮了，就会被传染艾滋病”。 其实，以上说法并不属实，蚊虫叮咬不会传播艾滋病！ 首先，艾滋病的传播途径主要是：性接触、血液及血制品传播（如共用注射器）、母婴传播。全世界目前没有发现任何一例艾滋病病例是通过蚊虫叮咬感染的。 会通过蚊虫传播的疾病，如疟疾、登革热、黄热病等，都是因为病原体能够在蚊虫体内传播、繁殖。但艾滋病病毒根本无法在蚊虫体内繁殖，更不会向外传播艾滋病。 其次，蚊子在吸血时，导管是单向进入蚊子的，蚊子不会将吸过的血再“注射”进人体。另外，艾滋病病毒一旦暴露在空气中，生存能力非常弱，无需担心蚊子叮咬传播艾滋病毒的风险。 辟谣君温馨提醒，面对艾滋病，既不能掉以轻心，也要以理性态度面对，不必过度恐慌。同时，要做到“应检尽检”，专家建议有过高危性行为、共用注射器、怀疑接受过不安全输血的人等，要主动进行艾滋病病毒检测。一旦发现要尽早进行抗病毒治疗，降低健康风险，延长生命。 12月1日也是世界艾滋病日，\n",
      "\n",
      "269  近日，网传消息称“世卫组织总干事谭德赛在11月29日于日内瓦发表讲话称：没有一个国家可以通过接种疫苗来摆脱新冠疫情。消息发布后引发部分网友恐慌。 经核查，网传消息不实，系翻译错误。 在翻看了世卫组织原文后，辟谣君发现：世卫组织总干事谭德塞真正想表达的意思是：呼吁各国共享疫苗，促进疫苗平等，共同战胜疫情。 而造成此次误会的原因，为翻译错误。 世卫组织原文为：“No country can vaccinate its way out of the pandemic alone. The longer vaccine inequity persists， the more opportunity this virus has to spread and evolve in ways we cannot predict nor prevent. We are all in this together”. 正确的翻译应为：“没有一个国家可以依靠独自接种疫苗来摆脱疫情。疫苗不平等持续的时间越长，病毒就越有机会以我们无法预测或预防的方式传播和进化。我们荣辱与共”。\n",
      "\n",
      "273  近日，网传视频称“口罩消毒残留物是一类致癌物质，用之前要抖一抖”。视频发布后，引起了广大市民关注。有些网民朋友担忧“口罩上的消毒物会致癌”“不能安心戴口罩了”。 经核实，以上说法过于片面，系对网传视频断章取义的误读。 首先，视频中提到的环氧乙烷是重要的清洁剂、消毒剂原料。在医院等场所，使用经环氧乙烷消毒的口罩、手术服等卫生用品非常普遍。只要残留量符合安全标准，就不会对人体造成伤害。为了打消网民的顾虑，视频制作者特意检测了5款口罩的环氧乙烷含量。检测结果证明，受检口罩环氧乙烷残留量均未超标。正常使用不会对人体造成伤害。 其次，网传视频本意在于建议用户通过“抖一抖口罩”的方式进一步减少环氧乙烷残留量，而不是说不能使用采取环氧乙烷消毒的口罩。正规生产的口罩本来就是安全的，即使不抖也可以放心佩戴。 再次，并不是所有口罩都采用环氧乙烷消毒，一般的民用口罩可能根本不存在环氧乙烷残留。同时，不使用环氧乙烷消毒，也不意味着口罩不卫生、不安全。因为除了使用环氧乙烷消毒，很多厂家还会使用超音波消毒等方法。 最后，\n",
      "\n",
      "276 教育部将调整小学入学年龄？肠清茶可以治疗便秘？多吃黑芝麻能让头发变黑？近期，围绕着社会、健康和食品的谣言频发，给大众的正常生活造成了困扰。 为此，\n",
      "\n",
      "278  如今，充电数据线已经成为了每天必用的产品，很多人的数据线用了三四年之久，在“只要不影响充电，就能一直用”的观念影响下，有些数据线即便出现了裂口、软管断开、脱皮等现象，但主人们依然在坚持使用。 其实，有些老旧数据线一旦出现以下现象，就应该及时更换： 1.充电数据线外观有破损； 2.充电时出现接触不良； 3.终端接口处出现过热现象。 经央视的实验证明，接触不良、容易过热的充电线绝缘性能差，更容易短路；一旦在附近出现可燃易燃物，极容易产生明火，如果处置不当很容易酿成火灾。 此外，网上也有很多教学方法称“能够修复充电器，变旧为新”。其实，这些方法都是“治标不治本”，使数据线在视觉效果上得以好转，但安全隐患依然存在，有时候更可能弄巧成拙增大安全隐患。对于这些方法，广大朋友还需慎重。\n",
      "\n",
      "280  近日，网传视频称““在亚欧大陆上有一个特别大的人造转盘，能提升地基高差异，中欧班列正日夜奔驰在这条路上” “中欧班列上百节车厢在转盘上运转，把不可能变成可能.....” 然而， 经核实网传视频内容严重失实。 据查证，网传视频内容实为电子游戏内容。视频原作者名为：Daffa Railfans ID，是一名铁路游戏爱好者。自今年9月起，他一直在海外社交媒体更新某款铁路火车模拟器游戏。 上述谣言所引用的视频，就是Daffa Railfans ID在9月21日发布的。谣言制造者在对相关视频进行节选后，配上了编造的文字。\n",
      "\n",
      "288  近日，网传消息称“明年3月1日起，微信、支付宝收款码将不能用于经营收款”，引起广大消费者和商家担忧“以后线下的消费购物不能扫码”。 经核实，以上内容不实，系对相关规定断章取义的误读。 造成误读的原因主要是大众对于收款码的规则存在误会。日常生活中的收款码分为：个人收款码和经营用收款码（商户收款码）。央行近期发布了关于条码支付监管的通知，通知明确强调了个人收款码不能用于经营活动，经营用收款码（商户收款码）不在通知限制之列。 所以以后大家出行，依旧可以使用扫码进行消费。 另外，对于有明显经营特征的个人收款条码用户（小商小贩），参照特约商户管理。服务机构将为其提供商户收款码，以提升对个人经营者的收单服务质量，但此类收款码不得用于远程非面对面收款。\n",
      "\n",
      "297  每当冬天到来，就会有一条关于“冬天不能吃水果，对肠胃不好”的说法广泛流传。很多人认为，冬天寒冷，水果性凉，吃了会伤胃。也有人表示，冬天吃水果之后，真的出现了腹泻、胃痛、痛经等症状。 其实，这些都是误解。今天，辟谣君就和大家聊聊关于冬天吃水果那些事儿。 首先，从营养学角度上说，水果并没有凉性热性之分，也就不存在性凉而伤胃的问题。对于健康人来说，如果不是对某种水果过敏、果糖不耐受，或水果本身产生了霉变等问题，通常情况下不会导致健康问题。 有些人的肠胃相对脆弱、敏感，在食用一些冷食后会不舒服，出现腹泻、胃痛等症状。但如果出现这样的情况，是因为个人体质本身不宜吃温度低的食物，喝凉水、吃冷饭也可能导致同样的结果，并非水果的“锅”。 对此情况，应避免或减少摄入冷食。肠胃敏感的朋友可以将水果适度加热后（或在室温内放置一会待回温后）食用，既能够补充营养，也能减少因温度低对肠胃产生的刺激。\n",
      "\n",
      "298  进入大学后，很多学生被“张老师”拉入了五花八门的网络聊天群，称“将为同学提供免费学习资料、大学活动和学校通知等”。 然而，以上都是套路！ 同学们在加入所谓的“学习群”“交流群”后，被管理员要求标明自己的姓名和班级，还有不明身份的群成员前来问询个人信息，要求添加好友，并不断邀请同学进入其它交流群。同学们稀里糊涂进了一堆群，还添加不少陌生人为好友，最后，不仅没收到学习资料和学校通知，还暴露了自己的隐私信息，留下了极大的安全隐患。 学校的相关通知都会通过学校官网等官方渠道发布，辅导员也会适时转发，广大同学面对冒用“官方”名义的群和来路不明的群成员，应仔细辨别，或向辅导员、学校相关部门确认。\n",
      "\n",
      "300  冬天到了，很多人都变得更加嗜睡，成了起床困难户，有人说“赖床的人都是因为懒，不要拿季节当借口”。此言差矣！其实，赖床也可能是“不得不赖”，今天，\n",
      "\n",
      "305  近期，网传消息称“国家乡村振兴局：23类项目可以申请补贴，数额超千亿”。 国家乡村振兴局于11月23日通过官方渠道发布辟谣声明，此类信息均系假借官方名义，胡乱拼凑的不实信息，社会各界切勿上当受骗。 根据2021年3月26日财政部、国家乡村振兴局等部门印发《中央财政衔接推进乡村振兴补助资金管理办法》要求，衔接资金按照相关人群数量、结构及收入，政策因素和绩效等考核结果测算分配到省，由省按因素法分配到县，项目审批权限在县一级，由县级聚焦巩固拓展脱贫攻坚成果和衔接乡村振兴，统筹安排使用衔接资金。不需要向中央有关部门申报项目。 如广大网友看到以乡村振兴名义进行招摇撞骗、举办会议论坛误导投资的行为，可通过邮箱jubao\n",
      "\n",
      "310  近日，网传消息称：“中国在北极附近有一块‘飞地’——斯瓦尔巴群岛”“斯瓦尔巴群岛是中国的领土”。 经核实，以上言论不实！ 根据《斯瓦尔巴条约》，挪威对斯瓦尔巴群岛“具有充分和完全的主权”。因此，斯瓦尔巴群岛是挪威的一部分，并非中国领土。 网传消息流出后，很多网友产生误解，认为中国具有管辖权，是因为中国在该群岛建立了科考站，同时赴斯瓦尔巴群岛无需签证。但这一切皆有据可依，并非因我国对其有领土主权。斯瓦尔巴群岛不是中国的“飞地”，也不是中国的领土。 《斯瓦尔巴条约》规定，该群岛不得作为军事用途，缔约国可在挪威法律之下，自由出入该岛，无需签证，享有在该群岛地域及其领水内的捕鱼、狩猎权……和开展科学调查活动的权利。 1925年7月1日，中国加入该条约，作为缔约国之一，我国有权在斯瓦尔巴群岛上进行任何非军事性活动。2004年7月28日，我国在该群岛建立中国第一个北极科考站黄河站，作为对北极科学调查活动的基地。 同时，斯瓦尔巴群岛总督官方网站提供的入境信息称，外国人前往斯瓦尔巴群岛不需要签证，也不需要挪威当局的工作和居留许可，但需要带上护照或身份证接受身份核查。 \n",
      "\n",
      "314  近日，有网络传言称“因有人在厨房做饭时使用手机，引起爆炸，造成6人伤亡”“在厨房里接打电话很危险，如需打电话必须离开有液化气灶的厨房10到12英尺”。 这一传言引起了很多网友的担忧，事实真的如此吗？我们以后还能在厨房接打电话吗？ 真相是：正常情况下，做饭时接打电话，不可能引起爆炸 ！ 在厨房内发生爆炸，必须满足以下条件： 1.发生燃气泄漏，燃气浓度达到5%-15%的爆炸极限； 2.厨房密不透风，空气中燃气浓度高； 3.有明火或电流通过，则会引燃气体。 在正常情况下，厨房里的燃气处于密闭状态，做饭时燃气被释放后，会在燃气灶上被迅速消耗掉，不会发生泄露。即便发生燃气泄露的意外，使用手机接打电话时产生的电火花微乎其微，远达不到引起爆炸的水平。 但是，如果燃气管道松动或者脱落等，可能会发生燃气泄漏，明火或电流将有可能引起爆炸。对此，应该先关闭燃气总阀，打开厨房门窗通风，切忌开关油烟机和家里的电灯，然后迅速撤离至安全地点后报警，或联系专业人士进行处理。\n",
      "\n",
      "315  如今，市面上越来越多的洗发水打着“无硅油”旗号，声称“无硅油，更健康……”，很多消费者认为，硅油残留会堵塞毛囊，还会引起脱发，事实真是如此吗？ 今天，\n",
      "\n",
      "320  静电是生活中常见的自然现象。特别是天气相对干燥的秋冬时节，经常在不经意间就会“触电”。面对这种遭遇，大多数朋友在短暂的惊吓后，就一笑而过了。 但事实上，生活中不注重防范静电，有可能会引发重大安全事故，比如：引发火灾。 2019年5月，一对父女在墨西哥某加油站加油，女儿将手放在油箱上，几秒钟内便蹿出了火苗，火苗迅速成为一个大火球。女孩父亲见状赶紧抽出油枪，谁知汽油飞溅，火势迅速蔓延到加油站和汽车，成为一片火海。事后警方推测燃爆原因极有可能和女孩所穿衣服的静电有关。 除引发火灾外，长期生活在静电环境下时，人会出现精神紧张、焦躁、胸闷等不适症状，影响正常的工作和生活。 因此，无论是为了安全生产，还是个人健康，在生活中都应警惕静电风险。\n",
      "\n",
      "322  近日，“小伙胃炎误以为自己患绝症轻生”上了热搜。报道称，一男子到医院看病，被诊断为胃炎，而医生劝其戒烟戒酒，却让男子误以为自己得了绝症。 除了新闻中的男子，网上还有不少人认为得了胃炎就一定会得胃癌。真的是这样吗？ 实际上，大多数胃癌的确是从胃炎逐步发展起来的。 胃癌的病理发展过程分为4步：非萎缩性胃炎（慢性浅表性胃炎）→萎缩性胃炎→肠上皮化生→异型增生→胃癌。 但只要在这个过程中，及时干预，正确治疗，胃炎就不会发展到胃癌。 除了定期体检，养成这些良好的生活习惯也有利于预防胃癌，保护我们的肠胃健康。 1、预防幽门螺杆菌：如果已经患上幽门螺杆菌相关疾病，需要在医生的指导下进行治疗。一般人还是以预防为主。可以改变进餐模式，尽量使用分餐制，聚餐时多使用公筷；同时个人也要勤洗手，注意个人卫生。 2、饮食方面：多吃富含维生素及微量元素的新鲜水果和蔬菜，饮食清淡，尽量少吃或不吃腌制、油炸、煎烤、高盐类及变质的食品。 3、戒烟限酒：抽烟酗酒均是胃癌的高危因素。 4、积极运动：可促进消化系统的蠕动，还可提高人体免疫力，减少疾病的发生。 【查证专家：\n",
      "\n",
      "326  爱美之心，人皆有之。很多人为了管理好 “脸面”，护肤品买了一种又一种，涂了一层又一层……上脸种类多，就一定对皮肤好吗？ NO！你以为的“精心护肤”，反而可能是对皮肤的摧残！接下来，就让辟谣君和大家聊聊关于护肤的误区和真相。 “层层叠加，皮肤才有安全感。” 不可取！ 护肤品五花八门，但皮肤所必需的其实只有清洁、保湿、防晒。滥用多种护肤品，容易堵塞毛孔，降低透气性，导致毛孔粗大、痘痘滋长。每天涂抹七八层护肤品，你感到安全十足，实则皮肤“不堪重负”！ “皮肤脏了，每天都要做清洁。” 且慢！ 皮肤的组织结构十分精细，清洁太勤会破坏皮肤油脂代谢，导致皮肤干燥干裂，甚至发炎感染（例如湿疹），并加速老化。 很多人日常频繁使用卸妆水、清洁洗面奶、清洁面膜等，在清洁后还要敷保湿补水或美白面膜，使皮肤看起来干净白嫩，殊不知这种过度的清洁极容易破坏皮肤角质层，造成皮肤泛红、敏感等问题。 另外，如果某种产品声称：能快速解决皮肤问题，瞬间好转，则要怀疑该款产品是否添加过量激素等物质。激素等物质或许能在短时间内大幅改善皮肤状态，例如，迅速祛痘、快速美白等，但长期使用会产生依赖，一旦停用就可能反复长痘、发炎，甚至造成“烂脸”。\n",
      "\n",
      "328  最近，关于“存放超过8小时就是隔夜饭，不能吃”“隔夜饭吃了致癌”的讨论十分火热。 在第二天食用前日剩下的饭菜，这种“节俭”的生活方式似乎成为很多人的日常，而这个习惯真的会致癌吗？ 其实，这些都是误解！那么，关于隔夜饭菜的真相又是什么呢？ 首先，之所以产生“隔夜饭致癌论”，是因为网传“隔了一夜的饭菜由于长时间不当放置，产生亚硝酸盐，而长期摄入亚硝酸盐会促进亚硝胺的合成有致癌风险”。但亚硝酸盐并非饭菜制成后才产生，常见食材本身就含有亚硝酸盐。菜品种类、烹饪前放置时间长短、烹饪后保存方式等都会影响亚硝酸盐含量。 亚硝酸盐在胃酸等环境下与蛋白分解物结合，产生亚硝胺，亚硝胺被国际癌症研究中心确认为 2A 类致癌物，即很可能与致癌相关，比如食管癌、胃癌等。另外，大量摄入亚硝酸盐有中毒风险。但通常情况下，隔夜饭中的亚硝酸盐含量达不到产生上述危害的水平。 值得注意的是，隔夜饭菜虽没有和致癌直接挂钩，但并非十足安全，剩饭剩菜容易产生细菌，如果保存或加热不当，会大大增加食品安全风险。所以在生活中，建议尽量不吃隔夜饭菜，如果一定要吃请遵循以下建议： 1.将吃不掉的饭菜快速冷却至4°C以下。在0~4℃环境中冷藏，或在-12~-18℃环境中冷冻存放。很多人喜欢让饭菜自然降温，殊不知饭菜在室温下放置越久，细菌就繁殖越多。世界卫生组织建议，熟食在室温下的存放时间不得超过2小时。 2.分装盛放，彻底加热。对于剩饭剩菜，应该用洁净容器或保鲜袋等进行分装密封保存；加热时，吃多少热多少，且要彻底加热，加热温度为100℃并保持5分钟以上。 3.注重冰箱清洁。冰箱的低温环境只能减缓细菌生长速度，对于部分在零下温度也能生存的嗜冷菌效果更是有限，长期得不到清理消毒的冰箱，也会由于细菌繁殖累积而影响食品安全。 最后，\n",
      "\n",
      "329  近日，网传视频称“来自索马里的500吨香蕉运抵市场，其中含有名为螺杆菌的蠕虫，会在胃中释放有毒香蕉”“会出现腹泻、呕吐等症状，12小时候脑死亡，这几天请勿购买……” 经核实，以上内容系谣言！ 首先，该视频内容曾于印度、阿联酋等国家传播。11月1日，阿拉伯联合酋长国阿布扎比农业和食品安全局发布官方声明指出，网传视频虚假，具有误导性。 其次，网传“螺杆菌”应指幽门螺旋杆菌，是一种无法用肉眼识别的菌类，与蠕虫有本质区别。农业专家观看视频后表示，画面中的蠕虫很可能是香蕉穿孔线虫。 由于香蕉穿孔线虫危害严重，55个国家对其实施官方控制，中国也将该线虫列为禁止入境的植物检疫危险性有害生物。合法入境的香蕉等农产品，都要经过严格的检验检疫，不存在香蕉穿孔线虫。 同时，国内市场目前没有索马里香蕉，经查询我国海关总署官网，并没有我国进口过索马里香蕉的相关信息。\n",
      "\n",
      "336  近日，有人在社交平台发布视频称 “鄱阳发现3例新冠肺炎患者”。 经核实，此为谣言！ 经鄱阳县公安局油墩街派出所核查，造谣者吴某潮于10日在油墩街高速收费站路口处录制视频，发布至社交平台称“鄱阳发现3例新冠肺炎患者”。 新桥派出所辖区居民吴某、林某看到该消息后，在未经证实的情况下进行转发，造成了不良影响。 经油墩街派出所、新桥派出所警方询问，违法嫌疑人吴某潮、吴某及林某对自己的违法行为供认不讳。目前，该案在进一步侦办中。\n",
      "\n",
      "337  近日，一则标题为“两位环卫工当街拦婚车要‘喜钱’”的视频在网络上流传。视频发布后有网友评论称“这跟打劫有何区别？”有网友表示，结婚给点烟和糖很正常。 经核实，网传视频系恶意解读。 邳州市环境卫生管理处工作人员于11日回应表示，对方在路面使用手持礼炮，环卫工人的本意是劝阻该行为，以免对环境卫生造成压力，并非要“喜钱”。 邳州当地人结婚，确实有发喜烟、喜糖的习俗。但环卫处有明确规定，禁止环卫工拦车要“喜钱”。\n",
      "\n",
      "342 今冬能源供应不足？不必过度担心！ \n",
      "\n",
      "344  近日，福建厦门隋女士在社交平台看到有人称 “扫二维码领取免费福利”“开通免密支付即可领福利”。 然而，这是一场典型网购骗局！ 在骗子“发送福利”的名义下，隋女士按照要求先后三次扫码，最终造成1400余元损失。 通过隋女士扫码，骗子得以与其建立联系，在“免密支付”功能开通后，骗子转走资金的“障碍”消除，隋女士资金账户被扣除1436元。最后，隋女士选择报警，避免了更大的财产损失。 广大网友在任何时候都应保持警惕，网购过程中遇到“福利上门”“客服联系”，应注意提防和甄别，小心诱惑和陷阱，通过官方正规渠道核实信息。 若收到陌生人发送的不明链接或二维码，不要按照对方指示操作，特别要注意不能提供任何短信验证码，网购中的正规环节均不需提供短信验证码。\n",
      "\n",
      "353  如今，网上常有人称“过午不食，延年益寿”，还有很多减肥人士宣称“过午不食可以有效减肥”。 然而，这些都是误区！ 其实，“过午不食”的概念出自古代僧人戒律，通常指过了13点就不再吃正餐。可是在午后，僧人还能吃“药食”或茶羹，茶羹包含茶叶、枣、橘皮、（食）茱萸和薄荷等食物，同样能补充能量。此概念移植到今天，却被很多人理解成“只吃早午饭，午后什么都不吃”，殊不知长期采用这种饮食习惯，会带来很多健康隐患。 “过午不食”首先会伤害肠胃系统，人体在饥饿时会进一步刺激胃酸分泌，当分泌过多时就容易腐蚀胃黏膜，可能引起胃炎、胃溃疡等慢性疾病。 其次，由于进食不足，摄入能量不够，身体为提供能量会分解肌肉中的蛋白质，导致肌肉变少，蛋白质成分流失，总体代谢率逐渐下降，长此以往脂肪更容易堆积。同时，不吃晚饭的人因抑制食欲更容易暴饮暴食，不但不能减肥，还会导致反弹。 再次，长期不吃晚饭，营养补充不够，人体抵抗力自然下降，容易疲乏、皮肤干燥、脱发、感冒，还可能心慌心悸、胰岛素分泌异常，诱发糖尿病并发症等疾病，甚至危及生命。\n",
      "\n",
      "357  11月8日，有人在社交平台称“晋江陈埭发生火灾”。 经晋江市公安局于9日发布通报证实，此为谣言！ 该谣言系网民吴某发布，其在网上看到一段火灾视频，未经核实转发至社交平台，并称是当天发生的。 根据《中华人民共和国治安管理处罚法》相关规定，吴某的行为构成虚构事实扰乱公共秩序，晋江警方依法对其处以行政拘留5天的处罚。\n",
      "\n"
     ]
    }
   ],
   "source": [
    "for i, j in df['content'][df['province'].isna()].items():\n",
    "    print(i, j, end='\\n\\n')"
   ]
  },
  {
   "cell_type": "code",
   "execution_count": 24,
   "id": "f9d85ca7",
   "metadata": {},
   "outputs": [],
   "source": [
    "df['province'][7] = '广西'\n",
    "df['province'][8] = '广西'\n",
    "df['province'][10] = '浙江'\n",
    "df['province'][36] = '上海'\n",
    "df['province'][53] = '河北'\n",
    "df['province'][60] = '湖北'\n",
    "df['province'][65] = '陕西'\n",
    "df['province'][73] = '山东'\n",
    "df['province'][76] = '陕西'\n",
    "df['province'][90] = '浙江'\n",
    "df['province'][95] = '陕西'\n",
    "df['province'][97] = '北京'\n",
    "df['province'][120] = '陕西'\n",
    "df['province'][132] = '北京'\n",
    "df['province'][160] = '陕西'\n",
    "df['province'][169] = '陕西'\n",
    "df['province'][191] = '浙江'\n",
    "df['province'][202] = '浙江'\n",
    "df['province'][205] = '浙江'\n",
    "df['province'][206] = '浙江'\n",
    "df['province'][208] = '福建'\n",
    "df['province'][218] = '浙江'\n",
    "df['province'][219] = '浙江'\n",
    "df['province'][220] = '浙江'\n",
    "df['province'][227] = '浙江'\n",
    "df['province'][238] = '浙江'\n",
    "df['province'][241] = '山东'\n",
    "df['province'][243] = '广西'\n",
    "df['province'][253] = '广西'\n",
    "df['province'][264] = '北京'\n",
    "df['province'][336] = '江西'\n",
    "df['province'][337] = '江苏'\n",
    "df['province'][344] = '福建'\n",
    "df['province'][357] = '福建'"
   ]
  },
  {
   "cell_type": "markdown",
   "id": "0f5ec594",
   "metadata": {},
   "source": [
    "处理完地理数据后发现缺失值从原来的89条降低至53条，其中很多新标注的地理信息来自于县或镇。无地理信息数据多为健康方面的谣言和国外的谣言，很合理。"
   ]
  },
  {
   "cell_type": "code",
   "execution_count": 25,
   "id": "325c9b5c",
   "metadata": {},
   "outputs": [
    {
     "data": {
      "text/plain": [
       "53"
      ]
     },
     "execution_count": 25,
     "metadata": {},
     "output_type": "execute_result"
    }
   ],
   "source": [
    "df['province'].isna().sum()"
   ]
  },
  {
   "cell_type": "markdown",
   "id": "f91451d8",
   "metadata": {},
   "source": [
    "要在后续可视化任务中使用pyecharts中的Map画出地图，需要在地名上添加“市”或“省”或“自治区”。"
   ]
  },
  {
   "cell_type": "code",
   "execution_count": 26,
   "id": "e4544806",
   "metadata": {},
   "outputs": [],
   "source": [
    "def process_province(prov):\n",
    "    if prov in ['上海', '北京', '重庆', '天津']:\n",
    "        return prov + '市'\n",
    "    elif prov == '广西':\n",
    "        return '广西壮族自治区'\n",
    "    elif prov == '新疆':\n",
    "        return '新疆维吾尔自治区'\n",
    "    elif prov == '宁夏':\n",
    "        return '宁夏回族自治区'\n",
    "    elif prov in ['西藏', '内蒙古']:\n",
    "        return prov + '自治区'\n",
    "    elif type(prov) == float:\n",
    "        return prov\n",
    "    else:\n",
    "        return prov + '省'"
   ]
  },
  {
   "cell_type": "code",
   "execution_count": 27,
   "id": "8e5fc92a",
   "metadata": {
    "scrolled": true
   },
   "outputs": [],
   "source": [
    "df['province'] = df['province'].apply(process_province)"
   ]
  },
  {
   "cell_type": "markdown",
   "id": "67f83c55",
   "metadata": {},
   "source": [
    "## 1.4 content列清洗"
   ]
  },
  {
   "cell_type": "markdown",
   "id": "76ea4b8e",
   "metadata": {},
   "source": [
    "由于重要信息一般都隐藏在双引号中间，因此我首先尝试提取了所有谣言的双引号中的内容，发现有14条谣言未能提取出核心信息。"
   ]
  },
  {
   "cell_type": "code",
   "execution_count": 28,
   "id": "9ef353a8",
   "metadata": {},
   "outputs": [
    {
     "data": {
      "text/plain": [
       "([0, 4, 7, 22, 38, 92, 131, 146, 149, 237, 276, 287, 338, 342], 14)"
      ]
     },
     "execution_count": 28,
     "metadata": {},
     "output_type": "execute_result"
    }
   ],
   "source": [
    "no_match = [idx for idx, content in df['content'].str.findall(r'“([^”]*)”').items() if len(content) == 0]\n",
    "no_match, len(no_match)"
   ]
  },
  {
   "cell_type": "markdown",
   "id": "6a57515d",
   "metadata": {},
   "source": [
    "尝试手动提取，发现提取不出的原因多为：\n",
    "- 谣言为问句，不在双引号内，后跟问号\n",
    "- 双引号反了"
   ]
  },
  {
   "cell_type": "code",
   "execution_count": 29,
   "id": "faf89605",
   "metadata": {
    "scrolled": true
   },
   "outputs": [
    {
     "name": "stdout",
     "output_type": "stream",
     "text": [
      "0 有人从香港游泳偷渡到深圳湾被捕？假的！系轻生被救！\n",
      "\n",
      "4 在塞企业组织包机载客回国？中国驻塞内加尔使馆辟谣！\n",
      "\n",
      "7 网传横州市马山镇太宁村有一阳性病例接触者？谣言！\n",
      "\n",
      "22  近日，网传河南沁阳市一男子在社交软件上售卖虎皮、虎肉，宣称每斤1000元。 经沁阳公安机关核查，网传消息不实。 2月2日，沁阳警方发布通报称，段某（男，汉族，现年43岁）以网购的鹿肉冒充虎肉，用修图后的狗皮图片冒充虎皮，并捏造聊天记录发布虚假信息，欲从中牟利。 截至案发，尚无人受骗上当。目前，警方以涉嫌非法利用信息网络罪对段某立案调查，案件正在进一步办理中。根据相关法律，老虎是国家一级保护动物，非法收购、运输、出售等行为最高可处10年以上有期徒刑。 \n",
      "\n",
      "38  近日，2022年北京冬奥会和冬残奥会开幕在即，网上出现不少关于北京冬奥会赛会志愿者或城市志愿者的招募活动信息。 经北京奥组委核查，这些招募信息均为虚假信息。 1月24日，北京冬奥会官方账号针对近期发现的志愿者招募相关不实信息，发布官方通告： 一、北京冬奥会赛会志愿者招募工作由北京冬奥组委负责，已于2021年10月完成。北京冬奥会城市志愿者由共青团北京市委员会和共青团河北省委员会统筹招募。 二、其它任何企业、组织或个人以招募北京冬奥会赛会志愿者或城市志愿者的名义发布的招募活动信息均为虚假信息。请各界人士避免上当受骗，如因此受到损失和不法侵害，请立即报警，通过法律途径解决。 三、北京冬奥会赛会志愿者和城市志愿者招募过程中不会向志愿者收取报名费、培训费、交通费等任何费用，服务期间不发放工资。 四、北京冬奥组委保留对涉嫌违法违规的企业、组织或个人进一步追究法律责任的权利。\n",
      "\n",
      "92 网传西安一小区有男子将妻儿从15楼扔下？辟谣！坠楼事件并非发生在西安！警方：妻儿坠楼和男子无关 \n",
      "\n",
      "131 沈阳发生爆炸，99名出警英雄全部不幸牺牲？ 打鼾就是睡得香？ 吃草莓会感染出血热？近期，围绕着社会、健康和食品的谣言频发，给大众的正常生活造成了困扰。 在2021年的最后一天，\n",
      "\n",
      "146 福建省多所高校放假时间确定，寒假提前放？部分高校回应：不准确！ \n",
      "\n",
      "149 西安咸阳机场的空调造成病毒传播？辟谣！ \n",
      "\n",
      "237  12月8日，网传”江苏昆山张浦镇一小区发生杀人分尸案件“。 经核查，上述消息为谣言。 昆山市公安局接到报警后立即前往案发地展开调查。经现场勘查取证，认定死者系跳楼自杀，在高坠过程中发生碰撞并造成身体局部离断。并非网传被杀害后分尸。\n",
      "\n",
      "276 教育部将调整小学入学年龄？肠清茶可以治疗便秘？多吃黑芝麻能让头发变黑？近期，围绕着社会、健康和食品的谣言频发，给大众的正常生活造成了困扰。 为此，\n",
      "\n",
      "287 上海医疗机构接受医药代表请客？上海卫健委主任辟谣！ \n",
      "\n",
      "338 沈阳取消楼市限购？沈阳房产局回应：谣言！ \n",
      "\n",
      "342 今冬能源供应不足？不必过度担心！ \n",
      "\n"
     ]
    }
   ],
   "source": [
    "for i, j in df['content'][no_match].items():\n",
    "    print(i, j, end='\\n\\n')"
   ]
  },
  {
   "cell_type": "markdown",
   "id": "aef17c90",
   "metadata": {},
   "source": [
    "在这些条目的重要内容上添加双引号便于提取。"
   ]
  },
  {
   "cell_type": "code",
   "execution_count": 30,
   "id": "5ab02dce",
   "metadata": {},
   "outputs": [],
   "source": [
    "df['content'][0] = '“有人从香港游泳偷渡到深圳湾被捕？”假的！系轻生被救！'\n",
    "df['content'][4] = '“在塞企业组织包机载客回国？”中国驻塞内加尔使馆辟谣！'\n",
    "df['content'][7] = '网传“横州市马山镇太宁村有一阳性病例接触者？”谣言！'\n",
    "df['content'][22] = '近日，网传“河南沁阳市一男子在社交软件上售卖虎皮、虎肉，宣称每斤1000元”。 经沁阳公安机关核查，网传消息不实。 2月2日，沁阳警方发布通报称，段某（男，汉族，现年43岁）以网购的鹿肉冒充虎肉，用修图后的狗皮图片冒充虎皮，并捏造聊天记录发布虚假信息，欲从中牟利。 截至案发，尚无人受骗上当。目前，警方以涉嫌非法利用信息网络罪对段某立案调查，案件正在进一步办理中。根据相关法律，老虎是国家一级保护动物，非法收购、运输、出售等行为最高可处10年以上有期徒刑。'\n",
    "df['content'][38] = '近日，2022年北京冬奥会和冬残奥会开幕在即，网上出现不少关于“北京冬奥会赛会志愿者或城市志愿者的招募活动信息”。 经北京奥组委核查，这些招募信息均为虚假信息。 1月24日，北京冬奥会官方账号针对近期发现的志愿者招募相关不实信息，发布官方通告： 一、北京冬奥会赛会志愿者招募工作由北京冬奥组委负责，已于2021年10月完成。北京冬奥会城市志愿者由共青团北京市委员会和共青团河北省委员会统筹招募。 二、其它任何企业、组织或个人以招募北京冬奥会赛会志愿者或城市志愿者的名义发布的招募活动信息均为虚假信息。请各界人士避免上当受骗，如因此受到损失和不法侵害，请立即报警，通过法律途径解决。 三、北京冬奥会赛会志愿者和城市志愿者“招募过程中不会向志愿者收取报名费、培训费、交通费等任何费用，服务期间不发放工资”。 四、北京冬奥组委保留对涉嫌违法违规的企业、组织或个人进一步追究法律责任的权利。'\n",
    "df['content'][92] = '网传“西安一小区有男子将妻儿从15楼扔下？”辟谣！坠楼事件并非发生在西安！警方：妻儿坠楼和男子无关 '\n",
    "df['content'][131] = '“沈阳发生爆炸，99名出警英雄全部不幸牺牲？”“打鼾就是睡得香？”“吃草莓会感染出血热？”近期，围绕着社会、健康和食品的谣言频发，给大众的正常生活造成了困扰。'\n",
    "df['content'][146] = '“福建省多所高校放假时间确定，寒假提前放？”部分高校回应：不准确！ '\n",
    "df['content'][149] = '“西安咸阳机场的空调造成病毒传播？”辟谣！'\n",
    "df['content'][237] = '12月8日，网传“江苏昆山张浦镇一小区发生杀人分尸案件”。 经核查，上述消息为谣言。 昆山市公安局接到报警后立即前往案发地展开调查。经现场勘查取证，认定死者系跳楼自杀，在高坠过程中发生碰撞并造成身体局部离断。并非网传被杀害后分尸。'\n",
    "df['content'][276] = '“教育部将调整小学入学年龄？”“肠清茶可以治疗便秘？”“多吃黑芝麻能让头发变黑？”近期，围绕着社会、健康和食品的谣言频发，给大众的正常生活造成了困扰。'\n",
    "df['content'][287] = '“上海医疗机构接受医药代表请客？”上海卫健委主任辟谣！ '\n",
    "df['content'][338] = '“沈阳取消楼市限购？”沈阳房产局回应：谣言！ '\n",
    "df['content'][342] = '“今冬能源供应不足？”不必过度担心！'"
   ]
  },
  {
   "cell_type": "markdown",
   "id": "bf663510",
   "metadata": {},
   "source": [
    "提取正确的文本中间应该是不会出现'“'和'”'符号的，看看文本是否都提取正确。"
   ]
  },
  {
   "cell_type": "code",
   "execution_count": 31,
   "id": "6ff5bb31",
   "metadata": {},
   "outputs": [
    {
     "data": {
      "text/plain": [
       "([269, 280, 351], 3)"
      ]
     },
     "execution_count": 31,
     "metadata": {},
     "output_type": "execute_result"
    }
   ],
   "source": [
    "no_match = [idx for idx, content in df['content'].str.findall(r'“([^”]*)”').items() if '“' in '，'.join(content)]\n",
    "no_match, len(no_match)"
   ]
  },
  {
   "cell_type": "markdown",
   "id": "6a76ceca",
   "metadata": {},
   "source": [
    "果然有匹配不正确的地方，原来是因为：\n",
    "- 文字漏了一个'”'。\n",
    "- 文字多了一个'“'。\n",
    "- 单双引号使用不规范，双引号内再用引号应该使用单引号。"
   ]
  },
  {
   "cell_type": "code",
   "execution_count": 32,
   "id": "104a4ff3",
   "metadata": {
    "scrolled": true
   },
   "outputs": [
    {
     "name": "stdout",
     "output_type": "stream",
     "text": [
      "269  近日，网传消息称“世卫组织总干事谭德赛在11月29日于日内瓦发表讲话称：没有一个国家可以通过接种疫苗来摆脱新冠疫情。消息发布后引发部分网友恐慌。 经核查，网传消息不实，系翻译错误。 在翻看了世卫组织原文后，辟谣君发现：世卫组织总干事谭德塞真正想表达的意思是：呼吁各国共享疫苗，促进疫苗平等，共同战胜疫情。 而造成此次误会的原因，为翻译错误。 世卫组织原文为：“No country can vaccinate its way out of the pandemic alone. The longer vaccine inequity persists， the more opportunity this virus has to spread and evolve in ways we cannot predict nor prevent. We are all in this together”. 正确的翻译应为：“没有一个国家可以依靠独自接种疫苗来摆脱疫情。疫苗不平等持续的时间越长，病毒就越有机会以我们无法预测或预防的方式传播和进化。我们荣辱与共”。\n",
      "\n",
      "280  近日，网传视频称““在亚欧大陆上有一个特别大的人造转盘，能提升地基高差异，中欧班列正日夜奔驰在这条路上” “中欧班列上百节车厢在转盘上运转，把不可能变成可能.....” 然而， 经核实网传视频内容严重失实。 据查证，网传视频内容实为电子游戏内容。视频原作者名为：Daffa Railfans ID，是一名铁路游戏爱好者。自今年9月起，他一直在海外社交媒体更新某款铁路火车模拟器游戏。 上述谣言所引用的视频，就是Daffa Railfans ID在9月21日发布的。谣言制造者在对相关视频进行节选后，配上了编造的文字。\n",
      "\n",
      "351  11月9日，社交平台上有消息称“在娇（实为“交”）子公园建方舱医院”“一晚建好，明天隔离黄码人群”。 经核查，上述消息为谣言。 成都高新技术产业开发区发布官方声明称，为提高高新区大规模核酸检测能力，高投集团按照疫情防控指挥部要求在交子公园附近增设核酸检测点。并非网传修建方舱医院。 “方舱医院”属于解放军野战机动医疗系统，是一种方便搭建的移动医院。由于机动性好、环境适应性强等特点，方舱医院通常用于紧急医疗救援任务中。在2008年汶川地震，2020年初新冠疫情期间，方舱医院都发挥了重要作用。 在新冠疫情期间，方舱医院的“空间大、容量多”从根本上解决了大量轻症患者无院可住的情况。同时，方舱医院可以对患者进行隔离、看护、观察，出现病情恶化可及时转交给正规医院，从而形成一个安全、有序的医疗层级。 近日，随着疫情在全国各地反复出现，网上出现了不少“建方舱医院”的消息，如“山东五莲县建方舱医院”“成都蜀鑫路建方舱医院”“河北辛集市建设方舱医院”等。 经核实，这些消息都是谣言。在疫情中，方舱医院主要是缓解医疗资源紧张的问题，并不是一出现疫情就要“建舱”。\n",
      "\n"
     ]
    }
   ],
   "source": [
    "for i, j in df['content'][no_match].items():\n",
    "    print(i, j, end='\\n\\n')"
   ]
  },
  {
   "cell_type": "markdown",
   "id": "52cc9171",
   "metadata": {},
   "source": [
    "将这些文本修改规范。"
   ]
  },
  {
   "cell_type": "code",
   "execution_count": 33,
   "id": "8a62a7b5",
   "metadata": {},
   "outputs": [],
   "source": [
    "df['content'][269] = '近日，网传消息称世卫组织总干事谭德赛在11月29日于日内瓦发表讲话称：“没有一个国家可以通过接种疫苗来摆脱新冠疫情”。消息发布后引发部分网友恐慌。 经核查，网传消息不实，系翻译错误。 在翻看了世卫组织原文后，辟谣君发现：世卫组织总干事谭德塞真正想表达的意思是：呼吁各国共享疫苗，促进疫苗平等，共同战胜疫情。 而造成此次误会的原因，为翻译错误。 正确的翻译应为：“没有一个国家可以依靠独自接种疫苗来摆脱疫情。疫苗不平等持续的时间越长，病毒就越有机会以我们无法预测或预防的方式传播和进化。我们荣辱与共”。 '\n",
    "df['content'][280] = '近日，网传视频称“在亚欧大陆上有一个特别大的人造转盘，能提升地基高差异，中欧班列正日夜奔驰在这条路上” “中欧班列上百节车厢在转盘上运转，把不可能变成可能.....” 然而， 经核实网传视频内容严重失实。 据查证，网传视频内容实为电子游戏内容。视频原作者名为：Daffa Railfans ID，是一名铁路游戏爱好者。自今年9月起，他一直在海外社交媒体更新某款铁路火车模拟器游戏。 上述谣言所引用的视频，就是Daffa Railfans ID在9月21日发布的。谣言制造者在对相关视频进行节选后，配上了编造的文字。'\n",
    "df['content'][351] = '11月9日，社交平台上有消息称“在娇（实为‘交’）子公园建方舱医院”“一晚建好，明天隔离黄码人群”。 经核查，上述消息为谣言。 成都高新技术产业开发区发布官方声明称，为提高高新区大规模核酸检测能力，高投集团按照疫情防控指挥部要求在交子公园附近增设核酸检测点。并非网传修建方舱医院。方舱医院属于解放军野战机动医疗系统，是一种方便搭建的移动医院。由于机动性好、环境适应性强等特点，方舱医院通常用于紧急医疗救援任务中。在2008年汶川地震，2020年初新冠疫情期间，方舱医院都发挥了重要作用。 在新冠疫情期间，方舱医院的“空间大、容量多”从根本上解决了大量轻症患者无院可住的情况。同时，方舱医院可以对患者进行隔离、看护、观察，出现病情恶化可及时转交给正规医院，从而形成一个安全、有序的医疗层级。 近日，随着疫情在全国各地反复出现，网上出现了不少“建方舱医院”的消息，如“山东五莲县建方舱医院”“成都蜀鑫路建方舱医院”“河北辛集市建设方舱医院”等。 经核实，这些消息都是谣言。在疫情中，方舱医院主要是缓解医疗资源紧张的问题，并不是一出现疫情就要建舱。'"
   ]
  },
  {
   "cell_type": "markdown",
   "id": "0e31501c",
   "metadata": {},
   "source": [
    "当双引号的内容较短时，很可能没有包含有效信息（如地名等），需要对此进行一些处理。当所有双引号中的内容没有一条是在10个字符以上时，提取出对应的索引。"
   ]
  },
  {
   "cell_type": "code",
   "execution_count": 34,
   "id": "b0272a8a",
   "metadata": {
    "scrolled": true
   },
   "outputs": [
    {
     "data": {
      "text/plain": [
       "([2,\n",
       "  20,\n",
       "  27,\n",
       "  51,\n",
       "  61,\n",
       "  90,\n",
       "  120,\n",
       "  128,\n",
       "  156,\n",
       "  160,\n",
       "  198,\n",
       "  208,\n",
       "  223,\n",
       "  226,\n",
       "  262,\n",
       "  264,\n",
       "  275,\n",
       "  285,\n",
       "  315,\n",
       "  316,\n",
       "  320,\n",
       "  321,\n",
       "  324,\n",
       "  330,\n",
       "  333,\n",
       "  338,\n",
       "  342,\n",
       "  356,\n",
       "  357,\n",
       "  361],\n",
       " 30)"
      ]
     },
     "execution_count": 34,
     "metadata": {},
     "output_type": "execute_result"
    }
   ],
   "source": [
    "short_match = [idx for idx, content in df['content'].str.findall(r'“([^”]*)”').items() if sum([len(c) > 10 for c in content]) == 0]\n",
    "short_match, len(short_match)"
   ]
  },
  {
   "cell_type": "markdown",
   "id": "2671d2dd",
   "metadata": {},
   "source": [
    "查看这些筛选出的谣言文字，发现有些谣言本身就很短，而另一些内容确实存在问题，如：\n",
    "- 引号内都为地点名称。\n",
    "- 引号内部为阳性、阴性的核酸检测相关词汇\n",
    "- 引号内部为当事人的简短话语或配图文案"
   ]
  },
  {
   "cell_type": "code",
   "execution_count": 35,
   "id": "f118be02",
   "metadata": {
    "scrolled": true
   },
   "outputs": [
    {
     "name": "stdout",
     "output_type": "stream",
     "text": [
      "2  近日，网传湖南衡阳“南岳衡山寺庙”高薪招聘住持，月薪高达5万元，弹性工作制，下班后原则上不干预私生活。 经南岳佛教协会核实，该消息为谣言。 2月15日，南岳佛教协会就网传谣言发布辟谣声明称：南岳所辖无名为“南岳衡山寺庙”的宗教场所，也未发布任何招聘住持、首座等公告；网传的招聘信息纯属谣言，恶意引导，性质恶劣，抹黑南岳宗教形象。南岳佛教协会已向公安机关正式报案，将对造谣者依法追究法律责任。\n",
      "\n",
      "20  2月3日，网传消息称“叶庄全村转移隔离”。 经河北省衡水市故城县网信办核实，网传消息不实。 目前，故城县网信办迅速协调公安机关，对谣言发布者进行批评教育，该用户已认识到自身错误并主动删除了视频。\n",
      "\n",
      "27  1月28日，一则题为“砂糖橘吃多皮肤会变黄”的消息，冲上了各大热搜榜单。看到这则消息后，部分爱美的朋友因为担心皮肤变黄，不敢吃砂糖橘了！ 经辟谣2022年君查证，短期内摄入大量砂糖橘确实会让皮肤变黄，但一两周后就能白回来。 关于砂糖橘和橘子，辟谣君在过往已经发布多篇科普内容。就在2021年10月，正值橘子上市时，有人将吃橘子引发的皮肤变黄与肝病黄疸相关联，并恶意造谣吃橘子会伤肝。 吃砂糖橘导致皮肤变黄，是因为砂糖橘中富含胡萝卜素。短期内大量摄入胡萝卜素后，人体无法完全分解。这会进一步导致血液中胡萝卜素浓度升高，沉积在皮肤角质层和黏膜部位，出现黄皮肤。在医学上，这叫做“胡萝卜素血症”，与肝脏损伤后引发的黄疸完全是两码事。 事实上，不只是砂糖橘，橘子、胡萝卜、南瓜、木瓜等富含胡萝卜素的食物，大量食用后都会导致“胡萝卜素血症”。但只要停止食用这些富含胡萝卜素的食物后，只要一两周黄皮肤就会慢慢淡去。\n",
      "\n",
      "51  1月14日-1月15日，南太平洋岛国汤加的洪阿哈阿帕伊岛火山喷发，引发了全球网民的关注。这场地质灾害后，网络上流传着一则题为“汤加火山喷发监控画面”的视频。据该视频素材显示，平静的海面突然被火山爆发打破，大量火山灰和有害气体喷薄而出。 经过溯源查证，网传“汤加火山喷发监控画面”并非实景，更不是本次汤加火山爆发的画面。而是新西兰奥克兰战争纪念博物馆于2019年发布的地质灾害模拟动画。\n",
      "\n",
      "61  近日，有网民在社交平台发布消息称“红安十五号又要封城”。 经黄冈网警巡查执法和红安网警证实，此为谣言！ 网安大队和红安县公安局杏花派出所经过精准研判，锁定谣言发布者王某厚（男，63岁，红安县杏花乡嶂山村人）。经传唤询问，王某厚于1月11日晚在河边散步时，听说“红安又要封城”，在未经核实的情况下将道听途说的谣言发布至社交平台。 经警方批评教育，王某厚在社交平台上对事实进行了澄清，并写下保证书。 目前，王某厚因虚构事实扰乱公共秩序，被红安县公安局依法进行行政处理。\n",
      "\n",
      "90  近日，有永康市市民在社交平台发布核酸检测报告的图片称“玩完咯”，图片显示：吕某某的核酸检测结果为“阳性”。 经核实，以上消息不实！ 经永康市委网信办、永康市公安局迅速开展联合调查，发现该图系伪造。 目前，永康市公安局依法对吕某某处以行政处罚。\n",
      "\n",
      "120  近日，有靖边县居民在社交平台发布核酸《检测报告单》并称自己“核酸检测结果为阳性”。 经靖边县公安局于1月3日发布通报证实，此为谣言！ 经警方调查，谣言发布者张某某（女，15岁）于1月1日进行核酸检测，次日使用图片编辑软件，将自己的核酸检测结果由“阴性”改为“阳性”，为与同学开玩笑，将伪造图片发给袁某某（女，15岁）。在明知该检测报告结果为虚构消息的情况下，袁某某将消息发送至聊天群并引发了进一步传播。张某某、袁某某对自己的违法行为供认不讳。 目前，张某某、袁某某因涉嫌散布谣言故意扰乱公共秩序被靖边县公安局依法处理。\n",
      "\n",
      "128  12月5日，贵州省事业单位公开招聘公共基础知识考试结束后，有考生质疑考试存在泄题，称“主观题与往年有雷同”。 经贵州省人社厅和公安部门调查核实，以上消息不实，本次考试没有泄题！ 贵州省人社厅和公安部门对考试的组织管理、命题、保密等环节均进行了调查。据情况通报称，造成主观题雷同的原因：贵州省人力资源和社会保障厅考试院相关人员在出题时，认为“生态文明建设”是贵州省经济社会发展重大部署，但在确定主观题目时没有认真查重比对和审核把关。 在试卷批改中，阅卷专家严格按照评分标准，对考生的思维分析、归纳总结、文字表述、知识积累等方面的能力进行综合评判，评分过程严格执行程序，评分结果客观公正。经研究，认定考试成绩有效。 相关责任人没有严格履行程序，在贵州省纪委省监委派驻第二纪检监察组监督下，厅党组依规依纪对厅考试院和4名责任人员进行了问责。 下一步，贵州省人力资源和社会保障厅将认真举一反三，加强监督管理，进一步做好人事考试工作。\n",
      "\n",
      "156  近日，有咸阳乾县的网民在社交平台发布图片称其“核酸检测报告呈阳性”。 经乾县公安局核实，以上信息不实！ 12月25日，乾县公安局发布警情通报：谣言发布者张某某利用修图工具，将他人的核酸检测报告单改成本人信息，并将检测结果由“阴性”修改为“阳性”，为引起他人注意将伪造报告发布至多个公共平台，部分人员在未经核实的情况下进行转发，造成了不良影响，并引起社会恐慌。 经警方调查，张某某等人对其违法事实供认不讳，因张某某系未成年人，县公安局对其进行批评教育，并责令其监护人严加看管。\n",
      "\n",
      "160  近日，有彬州市民在社交平台发布图片称自己“核酸检测报告呈阳性”。 经彬州市公安局核实，以上消息不实！ 12月23日，彬州市公安局发布通报称：谣言散布者邹某、郭某用图片编辑软件，将本人核酸检测报告的阴性结果修改为阳性并发至社交平台。王某、孙某、郑某等人在不明真相、未经核实的情况下将图片转发到多个公众社交平台，造成了不良影响。 王某等人对其违法事实供认不讳，依据《中华人民共和国治安管理处罚法》第二十五条第一项规定，王某等5人涉嫌虚构事实扰乱公共秩序，被彬州市公安局依法处以行政拘留。\n",
      "\n",
      "198  近日，有人在社交平台发布了一张核酸检测报告图片，显示嘉兴市南湖区一居民核酸检测呈阳性。 经嘉兴市公安局南湖区分局大桥派出所核实，图片系恶意伪造！ 造谣者张某某用图像编辑软件，将他人核酸检测报告中的姓名改为自己的姓名，将检测结果“阴性”改为“阳性”，并发布至社交平台。当前警方正在进一步调查中。 截至目前，嘉兴市南湖区在本轮疫情中没有发现确诊新冠病例和无症状感染者。\n",
      "\n",
      "208  近日，网传消息称“华侨大学停办”。 经核实，此为谣言！ 12月14日，华侨大学通过官方渠道发布声明，关于“华侨大学停办”的虚假信息，给学校声誉带来了严重损害，学校已经报警。华侨大学1960年由中央政府创办，是国家重点建设的大学，办学61年来为海内外培养大批优秀人才，在国内和海外享有良好声誉。对于虚假信息的编造者传播者，学校保留依法追究其法律责任的权利。\n",
      "\n",
      "223  近日，河南一男子在街边看到有商家在做“扫描二维码送保温杯”的活动，参加活动之后，该男子发现自己的某社交平台账号被盗号。 其实，该男子的遭遇并非偶然，此类骗局通常以一定现金奖励或实物奖励为噱头，诱导被害人扫描二维码，进而获取被害人身份信息，进而实行诈骗等违法行为。 不法分子往往在公园、广场、商场附近等人员密集、人流量大的场所，以赠送礼品为名义，要求过路人扫描二维码、加入群聊、关注某些未经官方认证的非正规账号，或下载APP等。广泛猎取受害对象，诱导群众参与网络刷单、贷款、博彩，或通过网络交友引诱投资理财。 就算识破以上诱导，由于手机扫码后可能被植入不明木马、扣费病毒等，还可能导致电话号码、通信记录等个人隐私信息泄露，网络账户被盗用、封号。不法分子将利用这些个人信息注册某些网络账号进行售卖，或冒用受害者信息进行网络非法活动。 因此，\n",
      "\n",
      "226  近日，有一位嵊州网民在社交平台上发布图片称“再见了兄弟们”，图片显示，此人新冠检测呈阳性。 经绍兴市公安局证实，以上信息不实，系网民伪造。 经警方调查询问，造谣者何某曾于几天前和同事进行新冠肺炎病毒核酸检测，结果均为阴性。后来何某突发奇想，将检测结果的图片编辑修改成红色阳性的样式，并发布了该不实消息。 直到消息发布次日，何某才解释图片实为伪造。 何某的行为违反了《治安管理处罚法》第二十五条规定，构成伪造事实扰乱公共秩序的违法行为，公安机关依法对何某处以行政拘留4日的处罚。\n",
      "\n",
      "262  相信很多朋友都会出现这样的经历：感觉痰卡在喉咙处，咳不出来，干脆咽下去，虽然有点恶心，但嗓子舒服多了。还有些人认为，咳痰不卫生、不方便，不如咽了之后直接让身体去消化分解。   那么，痰真的适合被咽下吗？咽下后对身体没有影响吗？今天，辟谣君就来和大家“痰”论真相！   首先，辟谣君提倡，当人感觉有痰时，最好的做法是咳出来。   痰液作为身体的分泌物，健康状态下，由水、盐分和抗体构成。正常情况下这些分泌物静静地待在呼吸道表面，我们是感受不到的。这些液体能够粘附进入气道内的细菌、病毒、杂质等，当吸附的物质达到一定数量时，人体呼吸道表面的“绒毛”就会将痰液送到喉咙部位。这时候，我们就能感受到：痰来了。   正常情况下，到达喉咙的痰，除了含有水、盐分、蛋白质、吸入的灰尘等，还有进入身体后被免疫系统成功抵抗的细菌等微生物的尸体。如果咽下去，这些东西会随着消化系统的工作，被胃酸分解，通常来说不会对人体造成影响。但为了减少不必要的“杂物”进入体内，将痰咳出来是最好的选择。   其次，如果病人患有特殊疾病（如肺结核），感染了较多有害细菌时，这时候咽下去的痰会含有更多的有害物质，消化系统未必能处理干净，可能进一步引发感染，患有肺结核的患者还可能因此患上肠结核。把痰咳出来可以减少健康隐患，但在咳痰时同样应做好防护，防止痰中的细菌在空气中传播。   最后，如果咳出的痰出现了以下几种情况，就需要注意了！ 1.白色粘痰。感冒初期的患者、烟民和患有慢性气管炎、支气管炎疾病的中老年会出现这类痰。 2.黄色浓痰。黄色浓痰说明身体内有炎症，患有肺炎、肺脓肿等疾病的患者会咳出黄痰。如果发现身体出现不适，应该及时去医院就诊。 3.黄绿色浓痰。黄绿色的痰液是铜绿假单胞菌感染的特定表现，常见于支气管扩张继发的铜绿假单胞菌感染，一旦发现要及时去医院接受专业诊疗。 4.带血丝痰液。如果不是口腔内有伤口导致痰液带血，则需要考虑肺结核和支气管扩张的可能性，同时，左心衰竭肺水肿患者的痰会出现粉红色泡沫，一旦出现这些情况，也要及时去医院确认病因。\n",
      "\n",
      "264  近日，一男子在某地火车站，拨打了119火灾报警电话和110公安报警电话，称“起火了”“需要警察帮忙进站”。 经核实，以上内容均系造谣！ 造谣者罗某在该地火车站进站时，其手机无法显示正常健康码，不能确认健康状态，被工作人员拒绝进站。罗某因此心生不满，将核验处的栏杆推倒在地，还拨打了110，要求民警帮助自己进站。 同时，罗某还以起火为由，拨打了119。接到电话后，消防部门出动了6部消防车和35名消防员，发现并没有火情，事后罗某还辩解称“心里有火”。 目前，罗某已被当地铁路警方法依法处以刑事拘留的处罚。\n",
      "\n",
      "275  11月26日，福建省军区警备办公室接群众举报。近日，在泉州石狮市，有一名男子多次着现役军装出现在采耳店、KTV等休闲场所，并自称某集团军营长，实施不正当交友活动。 经核实，该男子系假冒军人身份！ 经福建省军区警备纠察队调查，违法人员胡某是一名电工，为满足虚荣心，曾多次购买军服，谎称军人身份活跃于社交平台，穿着现役军装出入娱乐场所，利用社会对军人群体的崇拜，达到自己的不正当目的。 警方在胡某家中，发现多套现役军装、伪造的公章、军官证和文件，省军区警备纠察队将胡某购买的上述物品没收处理，当地公安机关对胡某进行立案侦查。 在军地10部委联合开展“守护戎装”专项行动的指导下，福建省军区警备纠察队围绕整治市场秩序、纠治穿着使用、清查管理漏洞等重点任务展开工作，严格落实有法必依、违法必究、执法必严要求，实施行动，维护军人形象，守护神圣戎装。\n",
      "\n",
      "285  从11月26日起至今，网上不断出现“徐州出现第二例确诊”“又有人阳性了”等消息。 经核查，上述消息均为谣言。 根据徐州市疫情防控应急指挥部每日发布的《疫情防控工作进展通报》，除了11月25日报告1例新冠肺炎无症状感染者外，11月26日0时至11月27日24时，全市无新增病例。 11月27日8时至28日8时，全市核酸采样58202人，检测结果均为阴性。截至11月28日8时，累计排查到在徐密切接触者121人，次密切接触者2210人，均落实隔离管控措施，严格按规范频次核酸检测，已出结果均为阴性。 另外，根据徐州市疫情防控应急指挥部的规定，目前徐州并未封城，但倡导非必要不离徐，确需离徐的，需持有48小时内核酸检测阴性证明。\n",
      "\n",
      "315  如今，市面上越来越多的洗发水打着“无硅油”旗号，声称“无硅油，更健康……”，很多消费者认为，硅油残留会堵塞毛囊，还会引起脱发，事实真是如此吗？ 今天，\n",
      "\n",
      "316  近日，有人在社交平台发布一条关于家庭暴力的视频，视频画面为浙江台州市临海大田街道某村，背景声音是一名女子被殴打时极为凄厉的哭喊，并配有文字“临海最强窝里横”。 经临海市公安局大田派出所核实，此为谣言！视频为人工后期合成。 临海警方展开调查，该视频系高某合成。视频画面为高某自己摄制，音频则是网上下载的，其将两者剪辑在一起希望借此来博人眼球，增加自己的浏览量。 经警方批评教育，高某深刻认识到错误，并写下保证书。\n",
      "\n",
      "320  静电是生活中常见的自然现象。特别是天气相对干燥的秋冬时节，经常在不经意间就会“触电”。面对这种遭遇，大多数朋友在短暂的惊吓后，就一笑而过了。 但事实上，生活中不注重防范静电，有可能会引发重大安全事故，比如：引发火灾。 2019年5月，一对父女在墨西哥某加油站加油，女儿将手放在油箱上，几秒钟内便蹿出了火苗，火苗迅速成为一个大火球。女孩父亲见状赶紧抽出油枪，谁知汽油飞溅，火势迅速蔓延到加油站和汽车，成为一片火海。事后警方推测燃爆原因极有可能和女孩所穿衣服的静电有关。 除引发火灾外，长期生活在静电环境下时，人会出现精神紧张、焦躁、胸闷等不适症状，影响正常的工作和生活。 因此，无论是为了安全生产，还是个人健康，在生活中都应警惕静电风险。\n",
      "\n",
      "321  11月16日，大连市甘井子区泉水街道某小区居民发布消息称自己“核酸检测结果为阳性”。 经大连市公安局甘井子公安分局核实，此消息纯属虚构！ 甘井子公安分局于17日发布通报，造谣者系张某鹏，经传唤询问，其对虚构核酸检测结果，并在社交平台发布不实信息的违法行为供认不讳。 目前，甘井子公安分局依法对张某鹏处以行政拘留的处罚。\n",
      "\n",
      "324  近日，有人在社交平台发布视频称“大连庄河外卖涉疫情”。 经庄河市公安局查证，此为谣言！ 庄河市公安局于17日发布通报，该虚假信息系孙某发布。经传唤询问，孙某对其编造庄河外卖涉疫的虚假视频信息，并通过社交平台发布的违法事实供认不讳。 目前，孙某因扰乱公共秩序被庄河市公安局依法处以行政拘留的处罚。\n",
      "\n",
      "330  近日，网传图片显示大连市体育中心正在搭建医疗设施，有人称“大连要建方舱医院”。 经证实，此言论不实！图片中展示内容实为大连市“猎鹰号”硬气膜实验室。 11月11日，在国务院应对新型冠状病毒肺炎疫情联防联控机制组调配下，经过17小时搭建，五舱合一“猎鹰号”硬气膜实验室正式在大连投入使用，承接大连市庄河市、瓦房店市的全员筛查核酸标本，每日最高可完成80万人份的核酸检测。核酸检测结果将实时同步到辽事通健康码。 实验室现场负责人朱保坤介绍，该实验室可以在短时间内提升城市的核酸检测能力。在广东、江苏、福建、黑龙江、甘肃、宁夏、江西、四川等省份或地区的疫情防控工作中，“猎鹰号”硬气膜实验室均发挥重要作用。 据悉，自本轮疫情发生以来，国家和辽宁省紧急调集移动方舱和“气膜方舱”等检测力量和人员支持大连，日检测能力达到46.8万管。\n",
      "\n",
      "333  近日网传消息称“大连快封城了”。部分网友担心“封楼封门”囤积食品和生活用品。 经大连市新冠肺炎疫情防控总指挥部核实，上述关于大连即将封城的消息为谣言。 据了解，自大连突发疫情以来，新冠肺炎阳性感染者数量上升较快，特别是近几天病例较多。经流行病学调查、多轮大范围核酸筛查和严格的隔离管控，目前报告的新发病例主要在集中隔离场所中检出，疫情在大连上升势头逐步减缓，疫情总体可控。 目前，市场蔬菜、肉、蛋、奶、米、面、油等生活必需品供应充足，价格平稳。\n",
      "\n",
      "338 “沈阳取消楼市限购？”沈阳房产局回应：谣言！ \n",
      "\n",
      "342 “今冬能源供应不足？”不必过度担心！\n",
      "\n",
      "356  近日，网传“成都416医院被封了”。 经核查，上述消息不实。 11月9日，成都医学院第二附属医院核工业四一六医院发布官方声明进行辟谣。目前，医院在严密防控措施下提供正常医疗服务保障，并非网传被封。\n",
      "\n",
      "357  11月8日，有人在社交平台称“晋江陈埭发生火灾”。 经晋江市公安局于9日发布通报证实，此为谣言！ 该谣言系网民吴某发布，其在网上看到一段火灾视频，未经核实转发至社交平台，并称是当天发生的。 根据《中华人民共和国治安管理处罚法》相关规定，吴某的行为构成虚构事实扰乱公共秩序，晋江警方依法对其处以行政拘留5天的处罚。\n",
      "\n",
      "361  11月7日，新疆伊宁市多名网友在社交平台上发布消息称“伊宁市发现病例”“伊宁市下午六点封城”。 经核查，上述消息不实。 据新疆维吾尔自治区卫生健康委员会发布的数据显示：自10月28日清零以来，截至11月7日24时，新疆（含兵团）仍无新增报告确诊病例、无新增报告无症状感染者。 目前，伊宁市公安局根据《中华人民共和国治安管理处罚法》第二十五条规定，已依法给予造谣者廖某某、张某某行政拘留10日的处罚，给予造谣者刘某某、康某某、雷某某行政拘留5日的处罚。\n",
      "\n"
     ]
    }
   ],
   "source": [
    "for i, j in df['content'][short_match].items():\n",
    "    print(i, j, end='\\n\\n')"
   ]
  },
  {
   "cell_type": "markdown",
   "id": "a407c222",
   "metadata": {},
   "source": [
    "对其中有必要进行修改的文本进行处理。"
   ]
  },
  {
   "cell_type": "code",
   "execution_count": 36,
   "id": "2828fa88",
   "metadata": {},
   "outputs": [],
   "source": [
    "df['content'][2] = '近日，网传“湖南衡阳南岳衡山寺庙高薪招聘住持，月薪高达5万元，弹性工作制，下班后原则上不干预私生活”。 经南岳佛教协会核实，该消息为谣言。 2月15日，南岳佛教协会就网传谣言发布辟谣声明称：南岳所辖无名为南岳衡山寺庙的宗教场所，也未发布任何招聘住持、首座等公告；网传的招聘信息纯属谣言，恶意引导，性质恶劣，抹黑南岳宗教形象。南岳佛教协会已向公安机关正式报案，将对造谣者依法追究法律责任。'\n",
    "df['content'][90] = '近日，有永康市市民在社交平台“发布核酸检测报告的图片称玩完咯，图片显示：吕某某的核酸检测结果为阳性”。 经核实，以上消息不实！ 经永康市委网信办、永康市公安局迅速开展联合调查，发现该图系伪造。 目前，永康市公安局依法对吕某某处以行政处罚。'\n",
    "df['content'][156] = '近日，有咸阳乾县的网民在社交平台发布图片称其“核酸检测报告呈阳性”。 经乾县公安局核实，以上信息不实！ 12月25日，乾县公安局发布警情通报：谣言发布者张某某“利用修图工具，将他人的核酸检测报告单改成本人信息，并将检测结果由阴性修改为阳性”，为引起他人注意将伪造报告发布至多个公共平台，部分人员在未经核实的情况下进行转发，造成了不良影响，并引起社会恐慌。 经警方调查，张某某等人对其违法事实供认不讳，因张某某系未成年人，县公安局对其进行批评教育，并责令其监护人严加看管。'\n",
    "df['content'][160] = '近日，有彬州市民在社交平台发布图片称自己“核酸检测报告呈阳性”。 经彬州市公安局核实，以上消息不实！ 12月23日，彬州市公安局发布通报称：谣言散布者邹某、郭某“用图片编辑软件，将本人核酸检测报告的阴性结果修改为阳性并发至社交平台”。王某、孙某、郑某等人在不明真相、未经核实的情况下将图片转发到多个公众社交平台，造成了不良影响。 王某等人对其违法事实供认不讳，依据《中华人民共和国治安管理处罚法》第二十五条第一项规定，王某等5人涉嫌虚构事实扰乱公共秩序，被彬州市公安局依法处以行政拘留。'\n",
    "df['content'][198] = '近日，有人在社交平台发布了一张核酸检测报告图片，显示嘉兴市南湖区一居民核酸检测呈阳性。 经嘉兴市公安局南湖区分局大桥派出所核实，图片系恶意伪造！ 造谣者张某某“用图像编辑软件，将他人核酸检测报告中的姓名改为自己的姓名，将检测结果阴性改为阳性”，并发布至社交平台。当前警方正在进一步调查中。 截至目前，嘉兴市南湖区在本轮疫情中没有发现确诊新冠病例和无症状感染者。'\n",
    "df['content'][226] = '近日，有一位嵊州网民在社交平台上发布图片称再见了兄弟们，图片显示，此人“新冠检测呈阳性”。 经绍兴市公安局证实，以上信息不实，系网民伪造。 经警方调查询问，造谣者何某曾于几天前和同事进行新冠肺炎病毒核酸检测，结果均为阴性。后来何某突发奇想，“将检测结果的图片编辑修改成红色阳性的样式”，并发布了该不实消息。 直到消息发布次日，何某才解释图片实为伪造。 何某的行为违反了《治安管理处罚法》第二十五条规定，构成伪造事实扰乱公共秩序的违法行为，公安机关依法对何某处以行政拘留4日的处罚。'\n",
    "df['content'][262] = '相信很多朋友都会出现这样的经历：感觉痰卡在喉咙处，咳不出来，干脆咽下去，虽然有点恶心，但嗓子舒服多了。还有些人认为，“咳痰不卫生、不方便，不如咽了之后直接让身体去消化分解”。那么，“痰真的适合被咽下吗？”“咽下后对身体没有影响吗？”今天，辟谣君就来和大家“痰”论真相！首先，辟谣君提倡，当人感觉有痰时，最好的做法是咳出来。痰液作为身体的分泌物，健康状态下，由水、盐分和抗体构成。正常情况下这些分泌物静静地待在呼吸道表面，我们是感受不到的。这些液体能够粘附进入气道内的细菌、病毒、杂质等，当吸附的物质达到一定数量时，人体呼吸道表面的绒毛就会将痰液送到喉咙部位。这时候，我们就能感受到：痰来了。正常情况下，到达喉咙的痰，除了含有水、盐分、蛋白质、吸入的灰尘等，还有进入身体后被免疫系统成功抵抗的细菌等微生物的尸体。如果咽下去，这些东西会随着消化系统的工作，被胃酸分解，通常来说不会对人体造成影响。但为了减少不必要的“杂物”进入体内，将痰咳出来是最好的选择。其次，如果病人患有特殊疾病（如肺结核），感染了较多有害细菌时，这时候咽下去的痰会含有更多的有害物质，消化系统未必能处理干净，可能进一步引发感染，患有肺结核的患者还可能因此患上肠结核。把痰咳出来可以减少健康隐患，但在咳痰时同样应做好防护，防止痰中的细菌在空气中传播。最后，如果咳出的痰出现了以下几种情况，就需要注意了！ 1.白色粘痰。感冒初期的患者、烟民和患有慢性气管炎、支气管炎疾病的中老年会出现这类痰。 2.黄色浓痰。黄色浓痰说明身体内有炎症，患有肺炎、肺脓肿等疾病的患者会咳出黄痰。如果发现身体出现不适，应该及时去医院就诊。 3.黄绿色浓痰。黄绿色的痰液是铜绿假单胞菌感染的特定表现，常见于支气管扩张继发的铜绿假单胞菌感染，一旦发现要及时去医院接受专业诊疗。 4.带血丝痰液。如果不是口腔内有伤口导致痰液带血，则需要考虑肺结核和支气管扩张的可能性，同时，左心衰竭肺水肿患者的痰会出现粉红色泡沫，一旦出现这些情况，也要及时去医院确认病因。'\n",
    "df['content'][275] = '11月26日，福建省军区警备办公室接群众举报。近日，在泉州石狮市，“有一名男子多次着现役军装出现在采耳店、KTV等休闲场所，并自称某集团军营长，实施不正当交友活动”。 经核实，该男子系假冒军人身份！ 经福建省军区警备纠察队调查，违法人员胡某是一名电工，为满足虚荣心，曾多次购买军服，谎称军人身份活跃于社交平台，穿着现役军装出入娱乐场所，利用社会对军人群体的崇拜，达到自己的不正当目的。 警方在胡某家中，发现多套现役军装、伪造的公章、军官证和文件，省军区警备纠察队将胡某购买的上述物品没收处理，当地公安机关对胡某进行立案侦查。 在军地10部委联合开展守护戎装专项行动的指导下，福建省军区警备纠察队围绕整治市场秩序、纠治穿着使用、清查管理漏洞等重点任务展开工作，严格落实有法必依、违法必究、执法必严要求，实施行动，维护军人形象，守护神圣戎装。'\n",
    "df['content'][316] = '近日，有人在社交平台发布一条关于家庭暴力的视频，视频画面为浙江台州市临海大田街道某村，背景声音是“一名女子被殴打时极为凄厉的哭喊”，并配有文字“临海最强窝里横”。 经临海市公安局大田派出所核实，此为谣言！视频为人工后期合成。 临海警方展开调查，该视频系高某合成。视频画面为高某自己摄制，音频则是网上下载的，其将两者剪辑在一起希望借此来博人眼球，增加自己的浏览量。 经警方批评教育，高某深刻认识到错误，并写下保证书。'\n",
    "df['content'][320] = '静电是生活中常见的自然现象。特别是天气相对干燥的秋冬时节，经常在不经意间就会“触电”。面对这种遭遇，大多数朋友在短暂的惊吓后，就一笑而过了。 但事实上，“生活中不注重防范静电，有可能会引发重大安全事故”，比如：引发火灾。 2019年5月，一对父女在墨西哥某加油站加油，女儿将手放在油箱上，几秒钟内便蹿出了火苗，火苗迅速成为一个大火球。女孩父亲见状赶紧抽出油枪，谁知汽油飞溅，火势迅速蔓延到加油站和汽车，成为一片火海。事后警方推测燃爆原因极有可能和女孩所穿衣服的静电有关。 除引发火灾外，长期生活在静电环境下时，人会出现精神紧张、焦躁、胸闷等不适症状，影响正常的工作和生活。 因此，无论是为了安全生产，还是个人健康，在生活中都应警惕静电风险。'"
   ]
  },
  {
   "cell_type": "markdown",
   "id": "40ecd0f3",
   "metadata": {},
   "source": [
    "最后删除文字中所有的空格。"
   ]
  },
  {
   "cell_type": "code",
   "execution_count": 37,
   "id": "f5cb881f",
   "metadata": {},
   "outputs": [],
   "source": [
    "df['content'] = df['content'].str.replace(' ', '')"
   ]
  },
  {
   "cell_type": "markdown",
   "id": "259d98e8",
   "metadata": {},
   "source": [
    "提取所有谣言信息中双引号内的内容，并用'，'连接为1个字符串，作为df的新变量'core'。当然即使这样做也不能保证提取的信息完全正确，不过确实比原谣言信息减少了许多冗余和噪音。"
   ]
  },
  {
   "cell_type": "code",
   "execution_count": 38,
   "id": "b69a52eb",
   "metadata": {},
   "outputs": [],
   "source": [
    "df['core'] = ['，'.join(x) for x in df['content'].str.findall(r'“([^”]*)”')]"
   ]
  },
  {
   "cell_type": "markdown",
   "id": "0ab55d5c",
   "metadata": {},
   "source": [
    "## 1.5 增加浏览量信息"
   ]
  },
  {
   "cell_type": "markdown",
   "id": "00099d58",
   "metadata": {},
   "source": [
    "将所有user列进行加和得到浏览量信息。"
   ]
  },
  {
   "cell_type": "code",
   "execution_count": 39,
   "id": "d13bdf64",
   "metadata": {},
   "outputs": [],
   "source": [
    "df_user_dum = df[['user_0', 'user_1', 'user_2', 'user_3', 'user_4', 'user_5', 'user_6','user_7', 'user_8', 'user_9',\n",
    "                  'user_10', 'user_11', 'user_12', 'user_13', 'user_14', 'user_15', 'user_16', 'user_17']]\n",
    "df['views'] = df_user_dum.sum(1)"
   ]
  },
  {
   "cell_type": "markdown",
   "id": "465a5632",
   "metadata": {},
   "source": [
    "## 1.6 调整like列"
   ]
  },
  {
   "cell_type": "markdown",
   "id": "acacfab8",
   "metadata": {},
   "source": [
    "首先查看点赞量的分布，发现是明显右偏分布。"
   ]
  },
  {
   "cell_type": "code",
   "execution_count": 40,
   "id": "4cb89045",
   "metadata": {},
   "outputs": [
    {
     "data": {
      "image/png": "[encoded data removed]",
      "text/plain": [
       "<Figure size 2000x1500 with 1 Axes>"
      ]
     },
     "metadata": {},
     "output_type": "display_data"
    }
   ],
   "source": [
    "plt.figure(figsize = (4, 3), dpi=500)\n",
    "plt.hist(x=df.like, color='#9ED2C6')\n",
    "plt.xlabel('Like')\n",
    "plt.ylabel('Count')\n",
    "plt.show()"
   ]
  },
  {
   "cell_type": "markdown",
   "id": "c774a17f",
   "metadata": {},
   "source": [
    "对点赞量做对数变换，变换后的数据基本呈正态分布。"
   ]
  },
  {
   "cell_type": "code",
   "execution_count": 41,
   "id": "00b416db",
   "metadata": {},
   "outputs": [
    {
     "data": {
      "image/png": "[encoded data removed]",
      "text/plain": [
       "<Figure size 2000x1500 with 1 Axes>"
      ]
     },
     "metadata": {},
     "output_type": "display_data"
    }
   ],
   "source": [
    "df['log_like'] = np.log1p(df['like'])\n",
    "\n",
    "plt.figure(figsize = (4, 3), dpi=500)\n",
    "plt.hist(x=df.log_like, color='#9ED2C6')\n",
    "plt.xlabel('Log(Like+1)')\n",
    "plt.ylabel('Count')\n",
    "plt.show()"
   ]
  },
  {
   "cell_type": "markdown",
   "id": "b3fec9ec",
   "metadata": {},
   "source": [
    "调整数据的列顺序。"
   ]
  },
  {
   "cell_type": "code",
   "execution_count": 42,
   "id": "aae1ded5",
   "metadata": {},
   "outputs": [
    {
     "data": {
      "text/html": [
       "<div>\n",
       "<style scoped>\n",
       "    .dataframe tbody tr th:only-of-type {\n",
       "        vertical-align: middle;\n",
       "    }\n",
       "\n",
       "    .dataframe tbody tr th {\n",
       "        vertical-align: top;\n",
       "    }\n",
       "\n",
       "    .dataframe thead th {\n",
       "        text-align: right;\n",
       "    }\n",
       "</style>\n",
       "<table border=\"1\" class=\"dataframe\">\n",
       "  <thead>\n",
       "    <tr style=\"text-align: right;\">\n",
       "      <th></th>\n",
       "      <th>date</th>\n",
       "      <th>source</th>\n",
       "      <th>source_num</th>\n",
       "      <th>content</th>\n",
       "      <th>core</th>\n",
       "      <th>province</th>\n",
       "      <th>like</th>\n",
       "      <th>log_like</th>\n",
       "      <th>views</th>\n",
       "      <th>user_0</th>\n",
       "      <th>...</th>\n",
       "      <th>user_8</th>\n",
       "      <th>user_9</th>\n",
       "      <th>user_10</th>\n",
       "      <th>user_11</th>\n",
       "      <th>user_12</th>\n",
       "      <th>user_13</th>\n",
       "      <th>user_14</th>\n",
       "      <th>user_15</th>\n",
       "      <th>user_16</th>\n",
       "      <th>user_17</th>\n",
       "    </tr>\n",
       "  </thead>\n",
       "  <tbody>\n",
       "    <tr>\n",
       "      <th>0</th>\n",
       "      <td>2022-02-18</td>\n",
       "      <td>北京日报客户端</td>\n",
       "      <td>1</td>\n",
       "      <td>“有人从香港游泳偷渡到深圳湾被捕？”假的！系轻生被救！</td>\n",
       "      <td>有人从香港游泳偷渡到深圳湾被捕？</td>\n",
       "      <td>广东省</td>\n",
       "      <td>0</td>\n",
       "      <td>0.000000</td>\n",
       "      <td>0</td>\n",
       "      <td>0</td>\n",
       "      <td>...</td>\n",
       "      <td>0</td>\n",
       "      <td>0</td>\n",
       "      <td>0</td>\n",
       "      <td>0</td>\n",
       "      <td>0</td>\n",
       "      <td>0</td>\n",
       "      <td>0</td>\n",
       "      <td>0</td>\n",
       "      <td>0</td>\n",
       "      <td>0</td>\n",
       "    </tr>\n",
       "    <tr>\n",
       "      <th>1</th>\n",
       "      <td>2022-02-18</td>\n",
       "      <td>大河报、羊城晚报</td>\n",
       "      <td>2</td>\n",
       "      <td>近日，社交媒体上一则题为“河南一位老爷爷考上清华大学被顶替”的消息引发网友关注和转发。消息称...</td>\n",
       "      <td>河南一位老爷爷考上清华大学被顶替</td>\n",
       "      <td>河南省</td>\n",
       "      <td>41</td>\n",
       "      <td>3.737670</td>\n",
       "      <td>1</td>\n",
       "      <td>0</td>\n",
       "      <td>...</td>\n",
       "      <td>0</td>\n",
       "      <td>0</td>\n",
       "      <td>0</td>\n",
       "      <td>0</td>\n",
       "      <td>0</td>\n",
       "      <td>0</td>\n",
       "      <td>0</td>\n",
       "      <td>0</td>\n",
       "      <td>0</td>\n",
       "      <td>0</td>\n",
       "    </tr>\n",
       "    <tr>\n",
       "      <th>2</th>\n",
       "      <td>2022-02-17</td>\n",
       "      <td>南方都市报、大众网</td>\n",
       "      <td>2</td>\n",
       "      <td>近日，网传“湖南衡阳南岳衡山寺庙高薪招聘住持，月薪高达5万元，弹性工作制，下班后原则上不干预...</td>\n",
       "      <td>湖南衡阳南岳衡山寺庙高薪招聘住持，月薪高达5万元，弹性工作制，下班后原则上不干预私生活</td>\n",
       "      <td>湖南省</td>\n",
       "      <td>26</td>\n",
       "      <td>3.295837</td>\n",
       "      <td>1</td>\n",
       "      <td>0</td>\n",
       "      <td>...</td>\n",
       "      <td>0</td>\n",
       "      <td>0</td>\n",
       "      <td>0</td>\n",
       "      <td>0</td>\n",
       "      <td>0</td>\n",
       "      <td>0</td>\n",
       "      <td>0</td>\n",
       "      <td>1</td>\n",
       "      <td>0</td>\n",
       "      <td>0</td>\n",
       "    </tr>\n",
       "  </tbody>\n",
       "</table>\n",
       "<p>3 rows × 27 columns</p>\n",
       "</div>"
      ],
      "text/plain": [
       "        date     source  source_num  \\\n",
       "0 2022-02-18    北京日报客户端           1   \n",
       "1 2022-02-18   大河报、羊城晚报           2   \n",
       "2 2022-02-17  南方都市报、大众网           2   \n",
       "\n",
       "                                             content  \\\n",
       "0                        “有人从香港游泳偷渡到深圳湾被捕？”假的！系轻生被救！   \n",
       "1  近日，社交媒体上一则题为“河南一位老爷爷考上清华大学被顶替”的消息引发网友关注和转发。消息称...   \n",
       "2  近日，网传“湖南衡阳南岳衡山寺庙高薪招聘住持，月薪高达5万元，弹性工作制，下班后原则上不干预...   \n",
       "\n",
       "                                          core province  like  log_like  \\\n",
       "0                             有人从香港游泳偷渡到深圳湾被捕？      广东省     0  0.000000   \n",
       "1                             河南一位老爷爷考上清华大学被顶替      河南省    41  3.737670   \n",
       "2  湖南衡阳南岳衡山寺庙高薪招聘住持，月薪高达5万元，弹性工作制，下班后原则上不干预私生活      湖南省    26  3.295837   \n",
       "\n",
       "   views  user_0  ...  user_8  user_9  user_10  user_11  user_12  user_13  \\\n",
       "0      0       0  ...       0       0        0        0        0        0   \n",
       "1      1       0  ...       0       0        0        0        0        0   \n",
       "2      1       0  ...       0       0        0        0        0        0   \n",
       "\n",
       "   user_14  user_15  user_16  user_17  \n",
       "0        0        0        0        0  \n",
       "1        0        0        0        0  \n",
       "2        0        1        0        0  \n",
       "\n",
       "[3 rows x 27 columns]"
      ]
     },
     "execution_count": 42,
     "metadata": {},
     "output_type": "execute_result"
    }
   ],
   "source": [
    "df = df[['date', 'source', 'source_num', 'content', 'core', 'province', 'like', 'log_like', 'views', 'user_0', 'user_1', 'user_2', 'user_3', 'user_4', 'user_5',\n",
    "         'user_6', 'user_7', 'user_8', 'user_9','user_10', 'user_11', 'user_12', 'user_13', 'user_14', 'user_15', 'user_16', 'user_17']]\n",
    "df.head(3)"
   ]
  },
  {
   "cell_type": "markdown",
   "id": "f1124d19",
   "metadata": {},
   "source": [
    "## 1.6 保存清洗后的数据"
   ]
  },
  {
   "cell_type": "markdown",
   "id": "ebb26f9e",
   "metadata": {},
   "source": [
    "文本数据。"
   ]
  },
  {
   "cell_type": "code",
   "execution_count": 43,
   "id": "17e996a6",
   "metadata": {},
   "outputs": [],
   "source": [
    "df_text = df[['date', 'source', 'source_num', 'content', 'core', 'province', 'like', 'log_like', 'views']]\n",
    "df_text.to_csv('data/rumor_text_data.csv', index=False)"
   ]
  },
  {
   "cell_type": "markdown",
   "id": "bf24327e",
   "metadata": {},
   "source": [
    "辟谣来源数据。"
   ]
  },
  {
   "cell_type": "code",
   "execution_count": 44,
   "id": "36461816",
   "metadata": {},
   "outputs": [],
   "source": [
    "df_source_dum.to_csv('data/rumor_source_data.csv', index=False)"
   ]
  },
  {
   "cell_type": "markdown",
   "id": "aca87f7d",
   "metadata": {},
   "source": [
    "用户浏览数据。"
   ]
  },
  {
   "cell_type": "code",
   "execution_count": 45,
   "id": "2ed60395",
   "metadata": {},
   "outputs": [],
   "source": [
    "df_user_dum = df[['user_0', 'user_1', 'user_2', 'user_3', 'user_4', 'user_5', 'user_6','user_7', 'user_8', 'user_9',\n",
    "                  'user_10', 'user_11', 'user_12', 'user_13', 'user_14', 'user_15', 'user_16', 'user_17']]\n",
    "df_user_dum.to_csv('data/rumor_user_data.csv', index=False)"
   ]
  }
 ],
 "metadata": {
  "kernelspec": {
   "display_name": "Python 3 (ipykernel)",
   "language": "python",
   "name": "python3"
  },
  "language_info": {
   "codemirror_mode": {
    "name": "ipython",
    "version": 3
   },
   "file_extension": ".py",
   "mimetype": "text/x-python",
   "name": "python",
   "nbconvert_exporter": "python",
   "pygments_lexer": "ipython3",
   "version": "3.10.5"
  }
 },
 "nbformat": 4,
 "nbformat_minor": 5
}
